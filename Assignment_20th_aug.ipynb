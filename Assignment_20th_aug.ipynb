{
 "cells": [
  {
   "cell_type": "code",
   "execution_count": 1,
   "id": "55e67d9a-b0ab-4f47-b226-39e9b7f0cc6f",
   "metadata": {},
   "outputs": [],
   "source": [
    "# string based assignment problem"
   ]
  },
  {
   "cell_type": "code",
   "execution_count": null,
   "id": "8dba1cb4-8ab7-4c42-81ae-35f61fde239f",
   "metadata": {},
   "outputs": [],
   "source": []
  },
  {
   "cell_type": "code",
   "execution_count": 2,
   "id": "cc7fb479-4d89-45e2-9d48-1d765893abba",
   "metadata": {},
   "outputs": [],
   "source": [
    "# Q1 Write a program to reverse a string."
   ]
  },
  {
   "cell_type": "code",
   "execution_count": 5,
   "id": "26a5d1c5-7ae7-4bfc-a61d-29a0ca9489fb",
   "metadata": {},
   "outputs": [
    {
     "name": "stdin",
     "output_type": "stream",
     "text": [
      "Enter a string:  sudanshu sir\n"
     ]
    },
    {
     "name": "stdout",
     "output_type": "stream",
     "text": [
      "Reversed string: ris uhsnadus\n"
     ]
    }
   ],
   "source": [
    "#ANS 1-\n",
    "\n",
    "user_input = input(\"Enter a string: \")\n",
    "result = reverse_string(user_input)\n",
    "print(\"Reversed string:\", result)"
   ]
  },
  {
   "cell_type": "code",
   "execution_count": null,
   "id": "2e05398c-cb4c-43cd-8cd6-6b89c44abc03",
   "metadata": {},
   "outputs": [],
   "source": []
  },
  {
   "cell_type": "code",
   "execution_count": 6,
   "id": "a567a901-347a-4325-aa1a-6f1e5b4c0080",
   "metadata": {},
   "outputs": [],
   "source": [
    "# Q2) Check if a string is a palindrome."
   ]
  },
  {
   "cell_type": "code",
   "execution_count": 1,
   "id": "364ebd12-e648-4209-bce0-faf28a5fd501",
   "metadata": {},
   "outputs": [
    {
     "name": "stdin",
     "output_type": "stream",
     "text": [
      "Enter a string:  nitin\n"
     ]
    },
    {
     "name": "stdout",
     "output_type": "stream",
     "text": [
      "The string 'nitin' is a palindrome.\n"
     ]
    }
   ],
   "source": [
    "#ANS- \n",
    "\n",
    "user_string = input(\"Enter a string: \")\n",
    "\n",
    "\n",
    "processed_string = user_string.replace(\" \", \"\").lower()\n",
    "\n",
    "\n",
    "reversed_string = processed_string[::-1]\n",
    "\n",
    "\n",
    "if processed_string == reversed_string:\n",
    "    print(f\"The string '{user_string}' is a palindrome.\")\n",
    "else:\n",
    "    print(f\"The string '{user_string}' is not a palindrome.\")"
   ]
  },
  {
   "cell_type": "code",
   "execution_count": null,
   "id": "ecf6d6dc-0e69-4357-b351-edcc53353bcf",
   "metadata": {},
   "outputs": [],
   "source": []
  },
  {
   "cell_type": "code",
   "execution_count": 1,
   "id": "a4885328-a880-4c0f-9587-377992b05701",
   "metadata": {},
   "outputs": [],
   "source": [
    "# Q3 - Convert a string to uppercase."
   ]
  },
  {
   "cell_type": "code",
   "execution_count": 2,
   "id": "2d443484-f8d3-4305-b564-d0d34917e29f",
   "metadata": {},
   "outputs": [
    {
     "name": "stdin",
     "output_type": "stream",
     "text": [
      "Enter a string:  jatin\n"
     ]
    },
    {
     "name": "stdout",
     "output_type": "stream",
     "text": [
      "Uppercase string: JATIN\n"
     ]
    }
   ],
   "source": [
    "#ANS-\n",
    "user_input = input(\"Enter a string: \")\n",
    "result = user_input.upper()\n",
    "print(\"Uppercase string:\", result)"
   ]
  },
  {
   "cell_type": "code",
   "execution_count": null,
   "id": "29162c3d-a87c-4cfe-940f-ab9b2224e5d9",
   "metadata": {},
   "outputs": [],
   "source": []
  },
  {
   "cell_type": "code",
   "execution_count": 3,
   "id": "42facbf5-d49f-4275-95e3-951fe7f5b7d0",
   "metadata": {},
   "outputs": [],
   "source": [
    " # Q4) Convert a string to lowercase."
   ]
  },
  {
   "cell_type": "code",
   "execution_count": 1,
   "id": "2d3fa06d-c028-4250-9a5a-bd18a3fea7ea",
   "metadata": {},
   "outputs": [
    {
     "name": "stdin",
     "output_type": "stream",
     "text": [
      "Enter a string:  vikas\n"
     ]
    },
    {
     "name": "stdout",
     "output_type": "stream",
     "text": [
      "Lowercase string: vikas\n"
     ]
    }
   ],
   "source": [
    "#ANS-\n",
    "\n",
    "user_input = input(\"Enter a string: \")\n",
    "result = user_input.lower()\n",
    "print(\"Lowercase string:\", result)"
   ]
  },
  {
   "cell_type": "code",
   "execution_count": null,
   "id": "84bc104e-563d-4723-95e6-fcfedcd1054a",
   "metadata": {},
   "outputs": [],
   "source": []
  },
  {
   "cell_type": "code",
   "execution_count": null,
   "id": "f081728f-ce68-45b6-a199-7227ea333219",
   "metadata": {},
   "outputs": [],
   "source": [
    "#q5) Count the number of vowels in a string."
   ]
  },
  {
   "cell_type": "code",
   "execution_count": 11,
   "id": "2bef045c-111f-478f-bcc0-9779137e563b",
   "metadata": {},
   "outputs": [
    {
     "name": "stdin",
     "output_type": "stream",
     "text": [
      "Enter a string:  tina\n"
     ]
    },
    {
     "name": "stdout",
     "output_type": "stream",
     "text": [
      "Number of vowels: None\n"
     ]
    }
   ],
   "source": [
    "#ans-\n",
    "\n",
    "def count_vowels(input_str):\n",
    "    vowels = set(\"aeiouAEIOU\")\n",
    "\n",
    "    vowel_count = 0\n",
    "    for char in input_str:\n",
    "        if char in vowels:\n",
    "            vowel_count += 1\n",
    "user_input = input(\"Enter a string: \")\n",
    "result = count_vowels(user_input)\n",
    "print(\"Number of vowels:\", result)"
   ]
  },
  {
   "cell_type": "code",
   "execution_count": null,
   "id": "340caae5-aa88-463b-b11b-98bbe6f58c1d",
   "metadata": {},
   "outputs": [],
   "source": []
  },
  {
   "cell_type": "code",
   "execution_count": 12,
   "id": "83dc94e0-8930-4673-8b9a-2673ce3d2474",
   "metadata": {},
   "outputs": [],
   "source": [
    "#q6 : Count the number of consonants in a string."
   ]
  },
  {
   "cell_type": "code",
   "execution_count": 14,
   "id": "88a3fba6-d0f5-4b19-9b4b-b4573d0277c0",
   "metadata": {},
   "outputs": [
    {
     "name": "stdin",
     "output_type": "stream",
     "text": [
      "Enter a string:  yuvaan\n"
     ]
    },
    {
     "name": "stdout",
     "output_type": "stream",
     "text": [
      "Number of consonants: 3\n"
     ]
    }
   ],
   "source": [
    "#ans\n",
    "\n",
    "def count_consonants(input_str):\n",
    "    vowels = set(\"aeiouAEIOU\")\n",
    "    consonant_count = 0\n",
    "    for char in input_str:\n",
    "        if char.isalpha() and char not in vowels:\n",
    "            consonant_count += 1\n",
    "    return consonant_count\n",
    "\n",
    "user_input = input(\"Enter a string: \")\n",
    "result = count_consonants(user_input)\n",
    "print(\"Number of consonants:\", result)"
   ]
  },
  {
   "cell_type": "code",
   "execution_count": null,
   "id": "f57d08e2-036b-4d9b-a8ba-a17b2d24c5c0",
   "metadata": {},
   "outputs": [],
   "source": []
  },
  {
   "cell_type": "code",
   "execution_count": 15,
   "id": "13d4493a-d653-44d2-9413-d2997f3f20ff",
   "metadata": {},
   "outputs": [],
   "source": [
    "#q7)  Remove all whitespaces from a string."
   ]
  },
  {
   "cell_type": "code",
   "execution_count": 16,
   "id": "336c3e9a-aee3-48cc-9eac-39befc87a7f5",
   "metadata": {},
   "outputs": [
    {
     "name": "stdin",
     "output_type": "stream",
     "text": [
      "Enter a string:  hello i am jatin\n"
     ]
    },
    {
     "name": "stdout",
     "output_type": "stream",
     "text": [
      "String without whitespaces: helloiamjatin\n"
     ]
    }
   ],
   "source": [
    "#ans-\n",
    "\n",
    "def remove_whitespace(input_str):\n",
    "    return input_str.replace(\" \", \"\")\n",
    "\n",
    "\n",
    "user_input = input(\"Enter a string: \")\n",
    "result = remove_whitespace(user_input)\n",
    "print(\"String without whitespaces:\", result)"
   ]
  },
  {
   "cell_type": "code",
   "execution_count": null,
   "id": "bfd06f56-9828-4d8d-9f7b-145fd7d7e882",
   "metadata": {},
   "outputs": [],
   "source": []
  },
  {
   "cell_type": "code",
   "execution_count": 17,
   "id": "a501a175-8ce3-438b-bc33-cfb46a7fbeb3",
   "metadata": {},
   "outputs": [],
   "source": [
    "#q8- Find the length of a string without using the `len()` function."
   ]
  },
  {
   "cell_type": "code",
   "execution_count": 18,
   "id": "b79df2d0-8e00-408a-88f7-554fa83dba09",
   "metadata": {},
   "outputs": [
    {
     "name": "stdin",
     "output_type": "stream",
     "text": [
      "Enter a string:  python is fun\n"
     ]
    },
    {
     "name": "stdout",
     "output_type": "stream",
     "text": [
      "Length of the string: 13\n"
     ]
    }
   ],
   "source": [
    "#ans-\n",
    "\n",
    "def find_length(input_str):\n",
    "    length = 0\n",
    "    for char in input_str:\n",
    "        length += 1\n",
    "    return length\n",
    "\n",
    "user_input = input(\"Enter a string: \")\n",
    "result = find_length(user_input)\n",
    "print(\"Length of the string:\", result)"
   ]
  },
  {
   "cell_type": "code",
   "execution_count": null,
   "id": "7eb7971f-35aa-465f-8ab2-37c6c7e74107",
   "metadata": {},
   "outputs": [],
   "source": []
  },
  {
   "cell_type": "code",
   "execution_count": 19,
   "id": "9c7be0d4-2dfd-40a8-aeae-6f23c5ffe88c",
   "metadata": {},
   "outputs": [],
   "source": [
    "#q9- Check if a string contains a specific word."
   ]
  },
  {
   "cell_type": "code",
   "execution_count": 20,
   "id": "6421411d-fc62-4794-8e1b-762322a673f9",
   "metadata": {},
   "outputs": [
    {
     "name": "stdin",
     "output_type": "stream",
     "text": [
      "Enter a string:  hello this is jatin malilk\n",
      "Enter the word to check for:  is\n"
     ]
    },
    {
     "name": "stdout",
     "output_type": "stream",
     "text": [
      "The string contains the word.\n"
     ]
    }
   ],
   "source": [
    "#ans-\n",
    "\n",
    "def contains_word(input_str, target_word):\n",
    "    return target_word in input_str\n",
    "\n",
    "user_input = input(\"Enter a string: \")\n",
    "search_word = input(\"Enter the word to check for: \")\n",
    "\n",
    "if contains_word(user_input, search_word):\n",
    "    print(\"The string contains the word.\")\n",
    "else:\n",
    "    print(\"The string does not contain the word.\")"
   ]
  },
  {
   "cell_type": "code",
   "execution_count": null,
   "id": "914d5d9f-2e5a-49b7-93e6-9b9365f67332",
   "metadata": {},
   "outputs": [],
   "source": []
  },
  {
   "cell_type": "code",
   "execution_count": 21,
   "id": "062f849a-2504-48e9-b107-90991b6b2c19",
   "metadata": {},
   "outputs": [],
   "source": [
    "#q10- Replace a word in a string with another word."
   ]
  },
  {
   "cell_type": "code",
   "execution_count": 22,
   "id": "bb6d0354-ab8f-4c8e-b510-19c15afb8645",
   "metadata": {},
   "outputs": [
    {
     "name": "stdin",
     "output_type": "stream",
     "text": [
      "Enter a string:  virat kohli is a great player\n",
      "Enter the word to replace:  great\n",
      "Enter the replacement word:  greatest\n"
     ]
    },
    {
     "name": "stdout",
     "output_type": "stream",
     "text": [
      "Updated string: virat kohli is a greatest player\n"
     ]
    }
   ],
   "source": [
    "#ans- \n",
    "\n",
    "def replace_word(input_str, old_word, new_word):\n",
    "    return input_str.replace(old_word, new_word)\n",
    "user_input = input(\"Enter a string: \")\n",
    "old_word = input(\"Enter the word to replace: \")\n",
    "new_word = input(\"Enter the replacement word: \")\n",
    "\n",
    "result = replace_word(user_input, old_word, new_word)\n",
    "print(\"Updated string:\", result)"
   ]
  },
  {
   "cell_type": "code",
   "execution_count": null,
   "id": "752900e9-d79d-435c-b1c8-7392205db835",
   "metadata": {},
   "outputs": [],
   "source": []
  },
  {
   "cell_type": "code",
   "execution_count": 23,
   "id": "cab2c9e2-d29d-45e3-bdef-fc9fdcb53c07",
   "metadata": {},
   "outputs": [],
   "source": [
    "#q11 - Count the occurrences of a word in a string."
   ]
  },
  {
   "cell_type": "code",
   "execution_count": 25,
   "id": "f6b53c0c-7e8f-4b5e-9903-3150fd34fad3",
   "metadata": {},
   "outputs": [
    {
     "name": "stdin",
     "output_type": "stream",
     "text": [
      "Enter a string:  hey is a good person\n",
      "Enter the word to count:  person\n"
     ]
    },
    {
     "name": "stdout",
     "output_type": "stream",
     "text": [
      "The word 'person' appears 1 times in the string.\n"
     ]
    }
   ],
   "source": [
    "#ans- \n",
    "\n",
    "def count_occurrences(input_str, target_word):\n",
    "    words = input_str.split()\n",
    "    count = 0\n",
    "    for word in words:\n",
    "        if word == target_word:\n",
    "            count += 1\n",
    "    return count\n",
    "user_input = input(\"Enter a string: \")\n",
    "search_word = input(\"Enter the word to count: \")\n",
    "\n",
    "result = count_occurrences(user_input, search_word)\n",
    "print(f\"The word '{search_word}' appears {result} times in the string.\")\n"
   ]
  },
  {
   "cell_type": "code",
   "execution_count": null,
   "id": "2d2ebeb3-0cdd-4f7e-9542-1bcadc066ff3",
   "metadata": {},
   "outputs": [],
   "source": []
  },
  {
   "cell_type": "code",
   "execution_count": 26,
   "id": "f3b1451e-986a-4bce-a6f8-d63b6bc2d086",
   "metadata": {},
   "outputs": [],
   "source": [
    "#q12- Find the first occurrence of a word in a string."
   ]
  },
  {
   "cell_type": "code",
   "execution_count": 27,
   "id": "a49ebd48-7ea6-4595-893e-f8f29b5a4cc1",
   "metadata": {},
   "outputs": [
    {
     "name": "stdin",
     "output_type": "stream",
     "text": [
      "Enter a string:  ysterday was our cricket match\n",
      "Enter the word to find:  football\n"
     ]
    },
    {
     "name": "stdout",
     "output_type": "stream",
     "text": [
      "The word 'football' is not found in the string.\n"
     ]
    }
   ],
   "source": [
    "#ans-\n",
    "\n",
    "def find_first_occurrence(input_str, target_word):\n",
    "    words = input_str.split()\n",
    "    for index, word in enumerate(words):\n",
    "        if word == target_word:\n",
    "            return index\n",
    "    return -1  \n",
    "\n",
    "user_input = input(\"Enter a string: \")\n",
    "search_word = input(\"Enter the word to find: \")\n",
    "\n",
    "result = find_first_occurrence(user_input, search_word)\n",
    "\n",
    "if result != -1:\n",
    "    print(f\"The word '{search_word}' first occurs at index {result} in the string.\")\n",
    "else:\n",
    "    print(f\"The word '{search_word}' is not found in the string.\")"
   ]
  },
  {
   "cell_type": "code",
   "execution_count": null,
   "id": "e8ecea2e-b741-495a-bedc-2e059a8f8786",
   "metadata": {},
   "outputs": [],
   "source": []
  },
  {
   "cell_type": "code",
   "execution_count": 28,
   "id": "e9a33432-7dab-402c-a724-048d697a572e",
   "metadata": {},
   "outputs": [],
   "source": [
    "#q13-  Find the last occurrence of a word in a string."
   ]
  },
  {
   "cell_type": "code",
   "execution_count": 29,
   "id": "65a9a9e9-c25e-43c3-8ab0-555a903c8608",
   "metadata": {},
   "outputs": [
    {
     "name": "stdin",
     "output_type": "stream",
     "text": [
      "Enter a string:  im good at python\n",
      "Enter the word to find:  python\n"
     ]
    },
    {
     "name": "stdout",
     "output_type": "stream",
     "text": [
      "The word 'python' last occurs at index 3 in the string.\n"
     ]
    }
   ],
   "source": [
    "#ans -\n",
    "\n",
    "def find_last_occurrence(input_str, target_word):\n",
    "    words = input_str.split()\n",
    "    for index in range(len(words) - 1, -1, -1):\n",
    "        if words[index] == target_word:\n",
    "            return index\n",
    "    return -1  \n",
    "\n",
    "user_input = input(\"Enter a string: \")\n",
    "search_word = input(\"Enter the word to find: \")\n",
    "\n",
    "result = find_last_occurrence(user_input, search_word)\n",
    "\n",
    "if result != -1:\n",
    "    print(f\"The word '{search_word}' last occurs at index {result} in the string.\")\n",
    "else:\n",
    "    print(f\"The word '{search_word}' is not found in the string.\")"
   ]
  },
  {
   "cell_type": "code",
   "execution_count": null,
   "id": "85b34b1f-f83d-43fb-b2bf-a248f04982bf",
   "metadata": {},
   "outputs": [],
   "source": []
  },
  {
   "cell_type": "code",
   "execution_count": 30,
   "id": "dd492f54-1022-4f6c-8034-f207e3b372a4",
   "metadata": {},
   "outputs": [],
   "source": [
    "#q14) - Split a string into a list of words."
   ]
  },
  {
   "cell_type": "code",
   "execution_count": 32,
   "id": "239ee610-634b-4a43-adf0-eca52cc8db6f",
   "metadata": {},
   "outputs": [
    {
     "name": "stdin",
     "output_type": "stream",
     "text": [
      "Enter a string:  yuvraj\n"
     ]
    },
    {
     "name": "stdout",
     "output_type": "stream",
     "text": [
      "List of words: ['yuvraj']\n"
     ]
    }
   ],
   "source": [
    "# ans-\n",
    "user_input = input(\"Enter a string: \")\n",
    "words_list = user_input.split()\n",
    "\n",
    "print(\"List of words:\", words_list)"
   ]
  },
  {
   "cell_type": "code",
   "execution_count": null,
   "id": "7b46e918-0ce2-4b0f-879d-c60357ba2ac3",
   "metadata": {},
   "outputs": [],
   "source": []
  },
  {
   "cell_type": "code",
   "execution_count": 33,
   "id": "7e967afb-55ea-4352-ad0a-63311aa6ba2a",
   "metadata": {},
   "outputs": [],
   "source": [
    "#q15) Join a list of words into a string."
   ]
  },
  {
   "cell_type": "code",
   "execution_count": 35,
   "id": "2a5dfba6-7550-48ed-b59a-2574b01287c5",
   "metadata": {},
   "outputs": [
    {
     "name": "stdout",
     "output_type": "stream",
     "text": [
      "Joined string: Hello world Python\n"
     ]
    }
   ],
   "source": [
    "#ans\n",
    "\n",
    "words_list = [\"Hello\", \"world\", \"Python\"]\n",
    "joined_string = \" \".join(words_list)\n",
    "\n",
    "print(\"Joined string:\", joined_string)"
   ]
  },
  {
   "cell_type": "code",
   "execution_count": null,
   "id": "e38dac0c-0c13-4e23-a4c9-660943fc9e5a",
   "metadata": {},
   "outputs": [],
   "source": []
  },
  {
   "cell_type": "code",
   "execution_count": 36,
   "id": "a96f289d-94d4-4282-9745-21466bb79aec",
   "metadata": {},
   "outputs": [],
   "source": [
    "#q16) Convert a string where words are separated by spaces to one where words\n",
    "# are separated by underscores."
   ]
  },
  {
   "cell_type": "code",
   "execution_count": 37,
   "id": "6d04f910-aa90-4dd8-aff4-216a5c7ba7da",
   "metadata": {},
   "outputs": [
    {
     "name": "stdin",
     "output_type": "stream",
     "text": [
      "Enter a string with spaces:  you can have anything you wannt\n"
     ]
    },
    {
     "name": "stdout",
     "output_type": "stream",
     "text": [
      "String with underscores: you_can_have_anything_you_wannt\n"
     ]
    }
   ],
   "source": [
    "# ans-\n",
    "\n",
    "user_input = input(\"Enter a string with spaces: \")\n",
    "underscored_string = user_input.replace(\" \", \"_\")\n",
    "\n",
    "print(\"String with underscores:\", underscored_string)"
   ]
  },
  {
   "cell_type": "code",
   "execution_count": null,
   "id": "ff3a6afa-8e9f-4678-964d-3f911ab1a6e7",
   "metadata": {},
   "outputs": [],
   "source": []
  },
  {
   "cell_type": "code",
   "execution_count": 38,
   "id": "1bff6d31-7315-41ad-81cf-1d2627b8bdcc",
   "metadata": {},
   "outputs": [],
   "source": [
    "#q17) 17. Check if a string starts with a specific word or phrase."
   ]
  },
  {
   "cell_type": "code",
   "execution_count": 39,
   "id": "b3a3e70a-3c1c-46c1-8171-dd0d9a1c5899",
   "metadata": {},
   "outputs": [
    {
     "name": "stdin",
     "output_type": "stream",
     "text": [
      "Enter a string:  racks and rounds\n",
      "Enter the prefix to check for:  r\n"
     ]
    },
    {
     "name": "stdout",
     "output_type": "stream",
     "text": [
      "The string starts with 'r'.\n"
     ]
    }
   ],
   "source": [
    "#ans - \n",
    "\n",
    "user_input = input(\"Enter a string: \")\n",
    "prefix_to_check = input(\"Enter the prefix to check for: \")\n",
    "\n",
    "if user_input.startswith(prefix_to_check):\n",
    "    print(f\"The string starts with '{prefix_to_check}'.\")\n",
    "else:\n",
    "    print(f\"The string does not start with '{prefix_to_check}'.\")"
   ]
  },
  {
   "cell_type": "code",
   "execution_count": null,
   "id": "10bef01d-f4a8-40a3-82d1-19c175f094a9",
   "metadata": {},
   "outputs": [],
   "source": []
  },
  {
   "cell_type": "code",
   "execution_count": 40,
   "id": "1bed9742-e2fb-41e7-aacd-14c4de85199c",
   "metadata": {},
   "outputs": [
    {
     "name": "stdin",
     "output_type": "stream",
     "text": [
      "Enter a string:  check thi code\n",
      "Enter the suffix to check for:  o\n"
     ]
    },
    {
     "name": "stdout",
     "output_type": "stream",
     "text": [
      "The string does not end with 'o'.\n"
     ]
    }
   ],
   "source": [
    "#q18 - 18. Check if a string ends with a specific word or phrase.\n",
    "\n",
    "#ANS -\n",
    "\n",
    "user_input = input(\"Enter a string: \")\n",
    "suffix_to_check = input(\"Enter the suffix to check for: \")\n",
    "\n",
    "if user_input.endswith(suffix_to_check):\n",
    "    print(f\"The string ends with '{suffix_to_check}'.\")\n",
    "else:\n",
    "    print(f\"The string does not end with '{suffix_to_check}'.\")"
   ]
  },
  {
   "cell_type": "code",
   "execution_count": null,
   "id": "97d56516-c51a-4ada-bc0e-fb4c81531523",
   "metadata": {},
   "outputs": [],
   "source": []
  },
  {
   "cell_type": "code",
   "execution_count": 41,
   "id": "1c443231-338d-465c-a6a6-31fd020b9c4a",
   "metadata": {},
   "outputs": [
    {
     "name": "stdin",
     "output_type": "stream",
     "text": [
      "Enter a string:  jatin malik\n"
     ]
    },
    {
     "name": "stdout",
     "output_type": "stream",
     "text": [
      "Title case string: Jatin Malik\n"
     ]
    }
   ],
   "source": [
    "# q19) Convert a string to title case (e.g., \"hello world\" to \"Hello World\").\n",
    "\n",
    "#ANS -\n",
    "\n",
    "user_input = input(\"Enter a string: \")\n",
    "title_case_string = user_input.title()\n",
    "\n",
    "print(\"Title case string:\", title_case_string)"
   ]
  },
  {
   "cell_type": "code",
   "execution_count": null,
   "id": "1e0509b0-c269-4822-adc4-7ac585b637b8",
   "metadata": {},
   "outputs": [],
   "source": []
  },
  {
   "cell_type": "code",
   "execution_count": 42,
   "id": "05e075f3-0797-412e-88e4-0b5a11f46ba5",
   "metadata": {},
   "outputs": [
    {
     "name": "stdin",
     "output_type": "stream",
     "text": [
      "Enter a string:  cricket is the favourite sport in india\n"
     ]
    },
    {
     "name": "stdout",
     "output_type": "stream",
     "text": [
      "The longest word in the string is: 'favourite'\n"
     ]
    }
   ],
   "source": [
    "# q20- Find the longest word in a string.\n",
    "\n",
    "# ANS- \n",
    "\n",
    "def find_longest_word(input_str):\n",
    "    words = input_str.split()\n",
    "    \n",
    "    if not words:\n",
    "        return None  # Return None if the string is empty\n",
    "    \n",
    "    longest_word = max(words, key=len)\n",
    "    return longest_word\n",
    "\n",
    "# Example usage:\n",
    "user_input = input(\"Enter a string: \")\n",
    "result = find_longest_word(user_input)\n",
    "\n",
    "if result:\n",
    "    print(f\"The longest word in the string is: '{result}'\")\n",
    "else:\n",
    "    print(\"The string is empty.\")"
   ]
  },
  {
   "cell_type": "code",
   "execution_count": null,
   "id": "cbc09002-c803-4e65-866a-507a1441e346",
   "metadata": {},
   "outputs": [],
   "source": []
  },
  {
   "cell_type": "code",
   "execution_count": 43,
   "id": "32eec5b7-7f00-4736-b7cb-659ea99e2b97",
   "metadata": {},
   "outputs": [
    {
     "name": "stdin",
     "output_type": "stream",
     "text": [
      "Enter a string:  the shortest word in the string would be is \n"
     ]
    },
    {
     "name": "stdout",
     "output_type": "stream",
     "text": [
      "The shortest word in the string is: 'in'\n"
     ]
    }
   ],
   "source": [
    "#q 21- Find the shortest word in a string.\n",
    "\n",
    "# ans\n",
    "\n",
    "def find_shortest_word(input_str):\n",
    "    words = input_str.split()\n",
    "\n",
    "    if not words:\n",
    "        return None \n",
    "\n",
    "    shortest_word = min(words, key=len)\n",
    "    return shortest_word\n",
    "\n",
    "\n",
    "user_input = input(\"Enter a string: \")\n",
    "result = find_shortest_word(user_input)\n",
    "\n",
    "if result:\n",
    "    print(f\"The shortest word in the string is: '{result}'\")\n",
    "else:\n",
    "    print(\"The string is empty.\")"
   ]
  },
  {
   "cell_type": "code",
   "execution_count": null,
   "id": "b07ee7e5-7a0a-4f66-811f-cba624a1fd72",
   "metadata": {},
   "outputs": [],
   "source": []
  },
  {
   "cell_type": "code",
   "execution_count": 45,
   "id": "7aa68957-761c-45c7-b9aa-ede5e5fadff0",
   "metadata": {},
   "outputs": [
    {
     "name": "stdin",
     "output_type": "stream",
     "text": [
      "Enter a string:  arjit singh is my favorite\n"
     ]
    },
    {
     "name": "stdout",
     "output_type": "stream",
     "text": [
      "String with reversed words order: favorite my is singh arjit\n"
     ]
    }
   ],
   "source": [
    "#q22 Reverse the order of words in a string.\n",
    "\n",
    "# ans\n",
    "def reverse_words_order(input_str):\n",
    "    words = input_str.split()\n",
    "    reversed_words = reversed(words)\n",
    "    reversed_string = ' '.join(reversed_words)\n",
    "    return reversed_string\n",
    "\n",
    "user_input = input(\"Enter a string: \")\n",
    "result = reverse_words_order(user_input)\n",
    "print(\"String with reversed words order:\", result)\n"
   ]
  },
  {
   "cell_type": "code",
   "execution_count": null,
   "id": "9300b85b-b54c-4aa1-a28e-77b13a8568d8",
   "metadata": {},
   "outputs": [],
   "source": []
  },
  {
   "cell_type": "code",
   "execution_count": 46,
   "id": "302afee4-e1ac-4e57-8448-ecbe9fff0124",
   "metadata": {},
   "outputs": [
    {
     "name": "stdin",
     "output_type": "stream",
     "text": [
      "Enter a string:  im 22 years old\n"
     ]
    },
    {
     "name": "stdout",
     "output_type": "stream",
     "text": [
      "The string is not alphanumeric.\n"
     ]
    }
   ],
   "source": [
    "#q23- Check if a string is alphanumeric.\n",
    "\n",
    "#ans -\n",
    "\n",
    "user_input = input(\"Enter a string: \")\n",
    "\n",
    "if user_input.isalnum():\n",
    "    print(\"The string is alphanumeric.\")\n",
    "else:\n",
    "    print(\"The string is not alphanumeric.\") \n"
   ]
  },
  {
   "cell_type": "code",
   "execution_count": null,
   "id": "ecacd017-6fb7-4f40-b3b7-25d54e67d395",
   "metadata": {},
   "outputs": [],
   "source": []
  },
  {
   "cell_type": "code",
   "execution_count": 47,
   "id": "dfb59b19-8c50-4bee-a41f-934fed7ca9e9",
   "metadata": {},
   "outputs": [
    {
     "name": "stdin",
     "output_type": "stream",
     "text": [
      "Enter a string:  my phone number is 123456\n"
     ]
    },
    {
     "name": "stdout",
     "output_type": "stream",
     "text": [
      "Digits extracted: 123456\n"
     ]
    }
   ],
   "source": [
    "#q24- Extract all digits from a string.\n",
    "\n",
    "# ans \n",
    "\n",
    "user_input = input(\"Enter a string: \")\n",
    "\n",
    "digits = ''.join(char for char in user_input if char.isdigit())\n",
    "\n",
    "if digits:\n",
    "    print(\"Digits extracted:\", digits)\n",
    "else:\n",
    "    print(\"No digits found in the string.\")"
   ]
  },
  {
   "cell_type": "code",
   "execution_count": null,
   "id": "7041e7dd-426e-4a60-974c-b32f643063e2",
   "metadata": {},
   "outputs": [],
   "source": []
  },
  {
   "cell_type": "code",
   "execution_count": 48,
   "id": "aaa6bb7e-ba59-43bd-a445-1d5fdcd6bd3b",
   "metadata": {},
   "outputs": [
    {
     "name": "stdin",
     "output_type": "stream",
     "text": [
      "Enter a string:  my skills are improving\n"
     ]
    },
    {
     "name": "stdout",
     "output_type": "stream",
     "text": [
      "Alphabets extracted: myskillsareimproving\n"
     ]
    }
   ],
   "source": [
    "#q25- Extract all alphabets from a string.\n",
    "\n",
    "# ans -\n",
    "\n",
    "user_input = input(\"Enter a string: \")\n",
    "\n",
    "alphabets = ''.join(char for char in user_input if char.isalpha())\n",
    "\n",
    "if alphabets:\n",
    "    print(\"Alphabets extracted:\", alphabets)\n",
    "else:\n",
    "    print(\"No alphabets found in the string.\")"
   ]
  },
  {
   "cell_type": "code",
   "execution_count": null,
   "id": "87f13a06-c898-457c-87af-36dbfd969973",
   "metadata": {},
   "outputs": [],
   "source": []
  },
  {
   "cell_type": "code",
   "execution_count": 49,
   "id": "aaebdd2e-9d26-4a47-b32d-d0e187087042",
   "metadata": {},
   "outputs": [
    {
     "name": "stdin",
     "output_type": "stream",
     "text": [
      "Enter a string:  my name is virat kohli\n"
     ]
    },
    {
     "name": "stdout",
     "output_type": "stream",
     "text": [
      "Number of uppercase letters: 0\n"
     ]
    }
   ],
   "source": [
    "#q26 - Count the number of uppercase letters in a string.\n",
    "\n",
    "#ans- \n",
    "\n",
    "user_input = input(\"Enter a string: \")\n",
    "\n",
    "uppercase_count = sum(1 for char in user_input if char.isupper())\n",
    "\n",
    "print(\"Number of uppercase letters:\", uppercase_count)"
   ]
  },
  {
   "cell_type": "code",
   "execution_count": null,
   "id": "1e2b6efa-106a-4b23-984c-eb3400e5fdbf",
   "metadata": {},
   "outputs": [],
   "source": []
  },
  {
   "cell_type": "code",
   "execution_count": 51,
   "id": "e0ce5191-9ab3-46b3-ab66-1c037fe1d921",
   "metadata": {},
   "outputs": [
    {
     "name": "stdin",
     "output_type": "stream",
     "text": [
      "Enter a string:  india population is 1.4 billio\n"
     ]
    },
    {
     "name": "stdout",
     "output_type": "stream",
     "text": [
      "Number of lowercase letters: 23\n"
     ]
    }
   ],
   "source": [
    "#q27-Count the number of lowercase letters in a string.\n",
    "\n",
    "#ans - \n",
    "\n",
    "user_input = input(\"Enter a string: \")\n",
    "\n",
    "lowercase_count = sum(1 for char in user_input if char.islower())\n",
    "\n",
    "print(\"Number of lowercase letters:\", lowercase_count)"
   ]
  },
  {
   "cell_type": "code",
   "execution_count": null,
   "id": "9830619e-6cee-47c9-9c48-8d59103ff0a8",
   "metadata": {},
   "outputs": [],
   "source": []
  },
  {
   "cell_type": "code",
   "execution_count": 2,
   "id": "4e091179-8d85-42aa-a6d1-0cdea9f3b970",
   "metadata": {},
   "outputs": [
    {
     "name": "stdout",
     "output_type": "stream",
     "text": [
      "hELLO, wORLD!\n"
     ]
    }
   ],
   "source": [
    "#q28 - Swap the case of each character in a string.\n",
    "\n",
    "#ANs -\n",
    "\n",
    "def swap_case(input_string):\n",
    "    swapped_string = ''\n",
    "    for char in input_string:\n",
    "        if char.islower():\n",
    "            swapped_string += char.upper()\n",
    "        elif char.isupper():\n",
    "            swapped_string += char.lower()\n",
    "        else:\n",
    "            swapped_string += char  \n",
    "\n",
    "    return swapped_string\n",
    "\n",
    "\n",
    "original_string = \"Hello, World!\"\n",
    "result = swap_case(original_string)\n",
    "print(result)"
   ]
  },
  {
   "cell_type": "code",
   "execution_count": null,
   "id": "52febc43-0e60-400e-b28c-2b057029d532",
   "metadata": {},
   "outputs": [],
   "source": []
  },
  {
   "cell_type": "code",
   "execution_count": 3,
   "id": "c22478db-9b8e-4de5-8950-49f0deb77828",
   "metadata": {},
   "outputs": [
    {
     "name": "stdout",
     "output_type": "stream",
     "text": [
      "Hello, World! This is an .\n"
     ]
    }
   ],
   "source": [
    "# Q29 - Remove a specific word from a string.\n",
    "\n",
    "# ANS- \n",
    "\n",
    "import re\n",
    "\n",
    "def remove_word(input_string, word_to_remove):\n",
    "    pattern = re.compile(r'\\b' + re.escape(word_to_remove) + r'\\b', flags=re.IGNORECASE)\n",
    "    return pattern.sub('', input_string)\n",
    "\n",
    "\n",
    "original_string = \"Hello, World! This is an example.\"\n",
    "word_to_remove = \"example\"\n",
    "result = remove_word(original_string, word_to_remove)\n",
    "print(result)"
   ]
  },
  {
   "cell_type": "code",
   "execution_count": null,
   "id": "62ed97e6-ee34-4f3c-b560-5f1f30fd128c",
   "metadata": {},
   "outputs": [],
   "source": []
  },
  {
   "cell_type": "code",
   "execution_count": 12,
   "id": "2c07bd16-98bc-44c8-86f6-70ff386f0974",
   "metadata": {},
   "outputs": [
    {
     "name": "stdout",
     "output_type": "stream",
     "text": [
      "example@email.com is a valid email address.\n"
     ]
    }
   ],
   "source": [
    "# q30 - Check if a string is a valid email address.\n",
    "\n",
    "#ANS -\n",
    "\n",
    "from validate_email_address import validate_email\n",
    "\n",
    "def is_valid_email(email):\n",
    "    return validate_email(email)\n",
    "\n",
    "\n",
    "email_address = \"example@email.com\"\n",
    "if is_valid_email(email_address):\n",
    "    print(f\"{email_address} is a valid email address.\")\n",
    "else:\n",
    "    print(f\"{email_address} is not a valid email address.\")"
   ]
  },
  {
   "cell_type": "code",
   "execution_count": null,
   "id": "810ad9b5-ec9b-455c-b0fa-4ce5d25273b0",
   "metadata": {},
   "outputs": [],
   "source": []
  },
  {
   "cell_type": "code",
   "execution_count": 13,
   "id": "917a613d-950c-4f04-947c-d22d2c62f726",
   "metadata": {},
   "outputs": [
    {
     "name": "stdout",
     "output_type": "stream",
     "text": [
      "The username extracted from example@email.com is: example\n"
     ]
    }
   ],
   "source": [
    "# Q31 - Extract the username from an email address string.\n",
    "\n",
    "# ANS - \n",
    "\n",
    "def extract_username(email):\n",
    "    # Split the email address at the \"@\" symbol\n",
    "    username = email.split('@')[0]\n",
    "    return username\n",
    "\n",
    "\n",
    "email_address = \"example@email.com\"\n",
    "username = extract_username(email_address)\n",
    "print(f\"The username extracted from {email_address} is: {username}\")"
   ]
  },
  {
   "cell_type": "code",
   "execution_count": null,
   "id": "9a7aa00b-8f6d-429b-9f28-0933d0c847fe",
   "metadata": {},
   "outputs": [],
   "source": []
  },
  {
   "cell_type": "code",
   "execution_count": 14,
   "id": "b3ac061f-2c96-4a67-8023-73318265df18",
   "metadata": {},
   "outputs": [
    {
     "name": "stdout",
     "output_type": "stream",
     "text": [
      "The domain extracted from example@email.com is: email.com\n"
     ]
    }
   ],
   "source": [
    "# Q32- Extract the domain name from an email address string.\n",
    "\n",
    "# ANS -\n",
    "\n",
    "def extract_domain(email):\n",
    "   \n",
    "    domain = email.split('@')[1]\n",
    "    return domain\n",
    "\n",
    "\n",
    "email_address = \"example@email.com\"\n",
    "domain = extract_domain(email_address)\n",
    "print(f\"The domain extracted from {email_address} is: {domain}\")"
   ]
  },
  {
   "cell_type": "code",
   "execution_count": null,
   "id": "bc9f6f3c-f00d-434a-a466-48fd5fa5f80f",
   "metadata": {},
   "outputs": [],
   "source": []
  },
  {
   "cell_type": "code",
   "execution_count": 16,
   "id": "6c5f6dbe-6bd0-4e93-bd7f-230305b2e01e",
   "metadata": {},
   "outputs": [
    {
     "name": "stdout",
     "output_type": "stream",
     "text": [
      "Hello world! This is an example.\n"
     ]
    }
   ],
   "source": [
    "#Q33 - Replace multiple spaces in a string with a single space.\n",
    "\n",
    "#ANS - \n",
    "\n",
    "def replace_multiple_spaces(input_string):\n",
    "   \n",
    "    result_string = ' '.join(filter(None, input_string.split(' ')))\n",
    "    return result_string\n",
    "\n",
    "original_string = \"Hello    world!    This   is    an   example.\"\n",
    "result = replace_multiple_spaces(original_string)\n",
    "print(result)"
   ]
  },
  {
   "cell_type": "code",
   "execution_count": null,
   "id": "3d347a05-6519-4611-b9d0-4e77f8cae5b2",
   "metadata": {},
   "outputs": [],
   "source": []
  },
  {
   "cell_type": "code",
   "execution_count": 19,
   "id": "46800f7d-2523-45d4-a758-48a0bd9c6639",
   "metadata": {},
   "outputs": [
    {
     "name": "stdout",
     "output_type": "stream",
     "text": [
      "https://www.example.com is a valid URL.\n"
     ]
    }
   ],
   "source": [
    "# Q34 - Check if a string is a valid URL.\n",
    "\n",
    "# ANS - \n",
    "from urllib.parse import urlparse\n",
    "\n",
    "def is_valid_url(url):\n",
    "    try:\n",
    "        result = urlparse(url)\n",
    "        return all([result.scheme, result.netloc])\n",
    "    except ValueError:\n",
    "        return False\n",
    "\n",
    "\n",
    "url_string = \"https://www.example.com\"\n",
    "if is_valid_url(url_string):\n",
    "    print(f\"{url_string} is a valid URL.\")\n",
    "else:\n",
    "    print(f\"{url_string} is not a valid URL.\")"
   ]
  },
  {
   "cell_type": "code",
   "execution_count": null,
   "id": "a7d298a3-786e-45fa-bb55-434b2f14d226",
   "metadata": {},
   "outputs": [],
   "source": []
  },
  {
   "cell_type": "code",
   "execution_count": 21,
   "id": "e1e10df1-0bd1-4262-894f-065560927172",
   "metadata": {},
   "outputs": [
    {
     "name": "stdout",
     "output_type": "stream",
     "text": [
      "The protocol extracted from https://www.example.com is: https\n"
     ]
    }
   ],
   "source": [
    "# Q35- Extract the protocol (http or https) from a URL string.\n",
    "\n",
    "# ANS - \n",
    "\n",
    "from urllib.parse import urlparse\n",
    "\n",
    "def extract_protocol(url):\n",
    "    parsed_url = urlparse(url)\n",
    "    return parsed_url.scheme if parsed_url.scheme else None\n",
    "\n",
    "\n",
    "url_string = \"https://www.example.com\"\n",
    "protocol = extract_protocol(url_string)\n",
    "\n",
    "if protocol:\n",
    "    print(f\"The protocol extracted from {url_string} is: {protocol}\")\n",
    "else:\n",
    "    print(f\"{url_string} does not have a valid protocol.\")"
   ]
  },
  {
   "cell_type": "code",
   "execution_count": null,
   "id": "53a7a946-5504-46ea-8532-13159c6ef29b",
   "metadata": {},
   "outputs": [],
   "source": []
  },
  {
   "cell_type": "code",
   "execution_count": 23,
   "id": "6c2add45-c363-4d95-b2d7-72879b49403d",
   "metadata": {},
   "outputs": [
    {
     "name": "stdout",
     "output_type": "stream",
     "text": [
      "Character: h, Frequency: 1\n",
      "Character: e, Frequency: 1\n",
      "Character: l, Frequency: 3\n",
      "Character: o, Frequency: 2\n",
      "Character:  , Frequency: 1\n",
      "Character: w, Frequency: 1\n",
      "Character: r, Frequency: 1\n",
      "Character: d, Frequency: 1\n"
     ]
    }
   ],
   "source": [
    "# q36-  Find the frequency of each character in a string.\n",
    "\n",
    "# ANS- \n",
    "\n",
    "def character_frequency(input_string):\n",
    " \n",
    "    frequency_dict = {}\n",
    "\n",
    "\n",
    "    for char in input_string:\n",
    "  \n",
    "        frequency_dict[char] = frequency_dict.get(char, 0) + 1\n",
    "\n",
    "    return frequency_dict\n",
    "\n",
    "input_string = \"hello world\"\n",
    "result = character_frequency(input_string)\n",
    "\n",
    "\n",
    "for char, count in result.items():\n",
    "    print(f\"Character: {char}, Frequency: {count}\")"
   ]
  },
  {
   "cell_type": "code",
   "execution_count": null,
   "id": "19e4f037-aec9-4478-a629-a061df025ce0",
   "metadata": {},
   "outputs": [],
   "source": []
  },
  {
   "cell_type": "code",
   "execution_count": 25,
   "id": "80c92216-1406-42a7-a89f-d90307723e68",
   "metadata": {},
   "outputs": [
    {
     "name": "stdout",
     "output_type": "stream",
     "text": [
      "Hello World This is an example\n"
     ]
    }
   ],
   "source": [
    "# Q37 -Remove all punctuation from a string.\n",
    "\n",
    "# ANS - \n",
    "\n",
    "import string\n",
    "\n",
    "def remove_punctuation(input_string):\n",
    "\n",
    "    \n",
    "    translation_table = str.maketrans(\"\", \"\", string.punctuation)\n",
    "\n",
    "\n",
    "    result_string = input_string.translate(translation_table)\n",
    "    \n",
    "    return result_string\n",
    "\n",
    "\n",
    "input_string = \"Hello, World! This is an example.\"\n",
    "result = remove_punctuation(input_string)\n",
    "print(result)"
   ]
  },
  {
   "cell_type": "code",
   "execution_count": null,
   "id": "6c710d99-9d16-4334-9f82-a6561c3dcdc0",
   "metadata": {},
   "outputs": [],
   "source": []
  },
  {
   "cell_type": "code",
   "execution_count": 27,
   "id": "ef04235e-e903-4fe4-b75a-6cab21e32765",
   "metadata": {},
   "outputs": [
    {
     "name": "stdout",
     "output_type": "stream",
     "text": [
      "123456 contains only digits.\n"
     ]
    }
   ],
   "source": [
    "# Q38 - Check if a string contains only digits.\n",
    "\n",
    "# ANS \n",
    "\n",
    "def contains_only_digits(input_string):\n",
    "    return input_string.isdigit()\n",
    "\n",
    "test_string = \"123456\"\n",
    "if contains_only_digits(test_string):\n",
    "    print(f\"{test_string} contains only digits.\")\n",
    "else:\n",
    "    print(f\"{test_string} does not contain only digits.\")"
   ]
  },
  {
   "cell_type": "code",
   "execution_count": null,
   "id": "c8936d0f-f4fd-4e69-a6e0-a81fd3a57c13",
   "metadata": {},
   "outputs": [],
   "source": []
  },
  {
   "cell_type": "code",
   "execution_count": 29,
   "id": "34cf2af7-2a78-4dce-8bce-2dd672bdf493",
   "metadata": {},
   "outputs": [
    {
     "name": "stdout",
     "output_type": "stream",
     "text": [
      "abcdef contains only alphabets.\n"
     ]
    }
   ],
   "source": [
    " # Q39 Check if a string contains only alphabets.\n",
    "\n",
    "# ANS\n",
    "\n",
    "def contains_only_alphabets(input_string):\n",
    "    return input_string.isalpha()\n",
    "\n",
    "\n",
    "test_string = \"abcdef\"\n",
    "if contains_only_alphabets(test_string):\n",
    "    print(f\"{test_string} contains only alphabets.\")\n",
    "else:\n",
    "    print(f\"{test_string} does not contain only alphabets.\")"
   ]
  },
  {
   "cell_type": "code",
   "execution_count": null,
   "id": "feca564a-6f91-4932-a8fc-c4eddf61fcc2",
   "metadata": {},
   "outputs": [],
   "source": []
  },
  {
   "cell_type": "code",
   "execution_count": 30,
   "id": "11773837-d279-4fe7-be9e-fcfb22526b22",
   "metadata": {},
   "outputs": [
    {
     "name": "stdout",
     "output_type": "stream",
     "text": [
      "Using list() constructor: ['H', 'e', 'l', 'l', 'o', ',', ' ', 'W', 'o', 'r', 'l', 'd', '!']\n",
      "Using square brackets: ['H', 'e', 'l', 'l', 'o', ',', ' ', 'W', 'o', 'r', 'l', 'd', '!']\n"
     ]
    }
   ],
   "source": [
    "# Q40 -Convert a string to a list of characters.\n",
    "\n",
    "# ANS - \n",
    "\n",
    "string_example = \"Hello, World!\"\n",
    "list_using_constructor = list(string_example)\n",
    "\n",
    "list_using_brackets = [char for char in string_example]\n",
    "\n",
    "\n",
    "print(\"Using list() constructor:\", list_using_constructor)\n",
    "print(\"Using square brackets:\", list_using_brackets)"
   ]
  },
  {
   "cell_type": "code",
   "execution_count": null,
   "id": "3dad9ee9-4f99-4e2d-a7ca-07b8f6b5220b",
   "metadata": {},
   "outputs": [],
   "source": []
  },
  {
   "cell_type": "code",
   "execution_count": 32,
   "id": "5086c9ac-cde1-4577-adf3-a921d1296378",
   "metadata": {},
   "outputs": [
    {
     "name": "stdout",
     "output_type": "stream",
     "text": [
      "listen and silent are anagrams.\n"
     ]
    }
   ],
   "source": [
    "# Q41 Check if two strings are anagrams.\n",
    "\n",
    "#ANS\n",
    "\n",
    "def are_anagrams(str1, str2):\n",
    "  \n",
    "    str1 = str1.replace(\" \", \"\").lower()\n",
    "    str2 = str2.replace(\" \", \"\").lower()\n",
    "\n",
    "\n",
    "    return sorted(str1) == sorted(str2)\n",
    "\n",
    "\n",
    "string1 = \"listen\"\n",
    "string2 = \"silent\"\n",
    "\n",
    "if are_anagrams(string1, string2):\n",
    "    print(f\"{string1} and {string2} are anagrams.\")\n",
    "else:\n",
    "    print(f\"{string1} and {string2} are not anagrams.\")\n"
   ]
  },
  {
   "cell_type": "code",
   "execution_count": null,
   "id": "2ae4aa61-a735-4859-84d4-1c06b176690d",
   "metadata": {},
   "outputs": [],
   "source": []
  },
  {
   "cell_type": "code",
   "execution_count": 34,
   "id": "ac020b25-1c0d-42f1-9df1-23944d7b8a07",
   "metadata": {},
   "outputs": [
    {
     "name": "stdout",
     "output_type": "stream",
     "text": [
      "Original: Hello, World!\n",
      "Encrypted: Khoor, Zruog!\n"
     ]
    }
   ],
   "source": [
    "# Q42 -  Encode a string using a Caesar cipher.\n",
    "\n",
    "#ANS - \n",
    "\n",
    "def caesar_cipher_encrypt(plaintext, shift):\n",
    "    encrypted_text = \"\"\n",
    "\n",
    "    for char in plaintext:\n",
    "        if char.isalpha():\n",
    "            is_upper = char.isupper()\n",
    "            \n",
    "           \n",
    "            shifted_char = chr((ord(char) - ord('A' if is_upper else 'a') + shift) % 26 + ord('A' if is_upper else 'a'))\n",
    "\n",
    "            encrypted_text += shifted_char\n",
    "        else:\n",
    "           \n",
    "            encrypted_text += char\n",
    "\n",
    "    return encrypted_text\n",
    "\n",
    "\n",
    "plaintext = \"Hello, World!\"\n",
    "shift_amount = 3\n",
    "encrypted_text = caesar_cipher_encrypt(plaintext, shift_amount)\n",
    "\n",
    "print(f\"Original: {plaintext}\")\n",
    "print(f\"Encrypted: {encrypted_text}\")"
   ]
  },
  {
   "cell_type": "code",
   "execution_count": null,
   "id": "197d6fa3-7f35-4d72-ab7f-b30dafaeeb66",
   "metadata": {},
   "outputs": [],
   "source": []
  },
  {
   "cell_type": "code",
   "execution_count": 39,
   "id": "ebc1708e-1fdb-43d9-a29e-df27d0fb5dab",
   "metadata": {},
   "outputs": [
    {
     "name": "stdout",
     "output_type": "stream",
     "text": [
      "Encrypted: Khoor, Zruog!\n",
      "Decrypted: Hello, World!\n"
     ]
    }
   ],
   "source": [
    "# Q 43 - Decode a Caesar cipher encoded string\n",
    "\n",
    "#ANS - \n",
    "\n",
    "def caesar_cipher_decrypt(encrypted_text, shift):\n",
    "    decrypted_text = \"\"\n",
    "\n",
    "    for char in encrypted_text:\n",
    "        if char.isalpha():\n",
    "          \n",
    "            is_upper = char.isupper()\n",
    "\n",
    "          \n",
    "            decrypted_char = chr((ord(char) - ord('A' if is_upper else 'a') - shift) % 26 + ord('A' if is_upper else 'a'))\n",
    "\n",
    "            decrypted_text += decrypted_char\n",
    "        else:\n",
    "        \n",
    "            decrypted_text += char\n",
    "\n",
    "    return decrypted_text\n",
    "\n",
    "\n",
    "encrypted_text = \"Khoor, Zruog!\"\n",
    "shift_amount = 3\n",
    "decrypted_text = caesar_cipher_decrypt(encrypted_text, shift_amount)\n",
    "\n",
    "print(f\"Encrypted: {encrypted_text}\")\n",
    "print(f\"Decrypted: {decrypted_text}\")"
   ]
  },
  {
   "cell_type": "code",
   "execution_count": null,
   "id": "94fbef54-46ef-489e-b83e-6eb33c86cf7c",
   "metadata": {},
   "outputs": [],
   "source": []
  },
  {
   "cell_type": "code",
   "execution_count": 41,
   "id": "bc9cf9d3-b819-46f7-99f5-44ffd40448b0",
   "metadata": {},
   "outputs": [
    {
     "name": "stdout",
     "output_type": "stream",
     "text": [
      "The most frequent word is 'this' with a frequency of 2.\n"
     ]
    }
   ],
   "source": [
    "#Q44 - Find the most frequent word in a string.\n",
    "\n",
    "#ANS - \n",
    "\n",
    "def most_frequent_word(input_string):\n",
    "   \n",
    "    input_string = input_string.lower()\n",
    "\n",
    "  \n",
    "    words = input_string.split()\n",
    "\n",
    "\n",
    "    word_frequency = {}\n",
    "    for word in words:\n",
    "        word_frequency[word] = word_frequency.get(word, 0) + 1\n",
    "\n",
    "\n",
    "    most_frequent_word = max(word_frequency, key=word_frequency.get)\n",
    "    frequency = word_frequency[most_frequent_word]\n",
    "\n",
    "    return most_frequent_word, frequency\n",
    "\n",
    "\n",
    "input_string = \"This is an example string. This string contains an example word.\"\n",
    "result_word, result_frequency = most_frequent_word(input_string)\n",
    "\n",
    "print(f\"The most frequent word is '{result_word}' with a frequency of {result_frequency}.\")"
   ]
  },
  {
   "cell_type": "code",
   "execution_count": null,
   "id": "97b0913f-5bd5-4da8-bc0e-85ddfa32c727",
   "metadata": {},
   "outputs": [],
   "source": []
  },
  {
   "cell_type": "code",
   "execution_count": 43,
   "id": "b9605dc0-c1ea-429c-b09e-23723a273b61",
   "metadata": {},
   "outputs": [
    {
     "name": "stdout",
     "output_type": "stream",
     "text": [
      "Unique words: {'string', 'contains', 'is', 'word.', 'example', 'this', 'string.', 'an'}\n"
     ]
    }
   ],
   "source": [
    "# Q45 - Find all unique words in a string.\n",
    "\n",
    "# ANS - \n",
    "\n",
    "def unique_words(input_string):\n",
    "    \n",
    "    input_string = input_string.lower()\n",
    "\n",
    "   \n",
    "    words = input_string.split()\n",
    "\n",
    " \n",
    "    unique_word_set = set(words)\n",
    "\n",
    "    return unique_word_set\n",
    "\n",
    "\n",
    "input_string = \"This is an example string. This string contains an example word.\"\n",
    "result_unique_words = unique_words(input_string)\n",
    "\n",
    "print(\"Unique words:\", result_unique_words)"
   ]
  },
  {
   "cell_type": "code",
   "execution_count": null,
   "id": "de997451-7eb0-4592-9fd3-004c0155d85c",
   "metadata": {},
   "outputs": [],
   "source": []
  },
  {
   "cell_type": "code",
   "execution_count": 51,
   "id": "c7a6989e-2c85-4865-a4d1-db71ac07c805",
   "metadata": {},
   "outputs": [
    {
     "name": "stdout",
     "output_type": "stream",
     "text": [
      "Requirement already satisfied: pyphen in c:\\users\\jatin\\appdata\\local\\programs\\python\\python312\\lib\\site-packages (0.14.0)\n"
     ]
    },
    {
     "name": "stderr",
     "output_type": "stream",
     "text": [
      "\n",
      "[notice] A new release of pip is available: 23.2.1 -> 23.3.1\n",
      "[notice] To update, run: python.exe -m pip install --upgrade pip\n"
     ]
    }
   ],
   "source": [
    "!pip install pyphen"
   ]
  },
  {
   "cell_type": "code",
   "execution_count": 52,
   "id": "27fc8479-0476-43a7-9ac3-f724d07338e6",
   "metadata": {},
   "outputs": [
    {
     "name": "stdout",
     "output_type": "stream",
     "text": [
      "The number of syllables in the string is: 10\n"
     ]
    }
   ],
   "source": [
    "# Q 46 - Count the number of syllables in a string.\n",
    "\n",
    "# ANS -\n",
    "\n",
    "import pyphen\n",
    "\n",
    "def count_syllables(word):\n",
    "    dic = pyphen.Pyphen(lang='en_US')\n",
    "    return len(dic.positions(word)) + 1\n",
    "\n",
    "def count_syllables_in_string(input_string):\n",
    "    words = input_string.split()\n",
    "    syllable_count = sum(count_syllables(word) for word in words)\n",
    "    return syllable_count\n",
    "\n",
    "# Example usage:\n",
    "input_string = \"Hello, World! This is an example string.\"\n",
    "syllable_count = count_syllables_in_string(input_string)\n",
    "\n",
    "print(f\"The number of syllables in the string is: {syllable_count}\")\n",
    "\n"
   ]
  },
  {
   "cell_type": "code",
   "execution_count": null,
   "id": "279b9fc4-69c4-4e89-a34d-fa1f1855bb79",
   "metadata": {},
   "outputs": [],
   "source": []
  },
  {
   "cell_type": "code",
   "execution_count": 55,
   "id": "68f58a5e-fbf2-4608-9842-f88d41c5f27e",
   "metadata": {},
   "outputs": [
    {
     "name": "stdout",
     "output_type": "stream",
     "text": [
      "Hello123 does not contain special characters.\n"
     ]
    }
   ],
   "source": [
    "# Q 47 - Check if a string contains any special characters.\n",
    "\n",
    "#ANS - \n",
    "\n",
    "def contains_special_characters(input_string):\n",
    "  \n",
    "    for char in input_string:\n",
    "     \n",
    "        if not char.isalnum():\n",
    "            return True\n",
    "\n",
    " \n",
    "    return False\n",
    "\n",
    "\n",
    "test_string = \"Hello123\"\n",
    "if contains_special_characters(test_string):\n",
    "    print(f\"{test_string} contains special characters.\")\n",
    "else:\n",
    "    print(f\"{test_string} does not contain special characters.\")"
   ]
  },
  {
   "cell_type": "code",
   "execution_count": null,
   "id": "f4f10d4f-0b90-482e-b5c6-e498544a8088",
   "metadata": {},
   "outputs": [],
   "source": []
  },
  {
   "cell_type": "code",
   "execution_count": 56,
   "id": "3945b0c5-0e08-4790-a9e4-cb2f5c05c714",
   "metadata": {},
   "outputs": [
    {
     "name": "stdout",
     "output_type": "stream",
     "text": [
      "This is example string. Remove the third word.\n"
     ]
    }
   ],
   "source": [
    "#Q48 - Remove the nth word from a string.\n",
    "\n",
    "#ANS - \n",
    "\n",
    "def remove_nth_word(input_string, n):\n",
    "  \n",
    "    words = input_string.split()\n",
    "\n",
    "\n",
    "    if 0 <= n < len(words):\n",
    "       \n",
    "        del words[n]\n",
    "\n",
    "     \n",
    "        result_string = ' '.join(words)\n",
    "\n",
    "        return result_string\n",
    "    else:\n",
    "       \n",
    "        return input_string\n",
    "\n",
    "original_string = \"This is an example string. Remove the third word.\"\n",
    "index_to_remove = 2 \n",
    "\n",
    "result = remove_nth_word(original_string, index_to_remove)\n",
    "print(result)"
   ]
  },
  {
   "cell_type": "code",
   "execution_count": null,
   "id": "fc64eeaa-b3fb-4ec7-9203-5cf2c3b5150a",
   "metadata": {},
   "outputs": [],
   "source": []
  },
  {
   "cell_type": "code",
   "execution_count": 67,
   "id": "e6474a96-503b-4352-8029-e2f4f2495894",
   "metadata": {},
   "outputs": [
    {
     "name": "stdout",
     "output_type": "stream",
     "text": [
      "This is an example new string. Insert the word.\n"
     ]
    }
   ],
   "source": [
    "#Q49 - Insert a word at the nth position in a string.\n",
    "\n",
    "# ANS - \n",
    "\n",
    "def insert_word_at_nth_position(input_string, n, new_word):\n",
    "   \n",
    "    words = input_string.split()\n",
    "\n",
    "   \n",
    "    if 0 <= n <= len(words):\n",
    "     \n",
    "        words.insert(n, new_word)\n",
    "\n",
    "     \n",
    "        result_string = ' '.join(words)\n",
    "\n",
    "        return result_string\n",
    "    else:\n",
    "       \n",
    "        result_string = input_string + ' ' + new_word\n",
    "        return result_string\n",
    "\n",
    "\n",
    "original_string = \"This is an example string. Insert the word.\"\n",
    "index_to_insert = 4 \n",
    "word_to_insert = \"new\"\n",
    "\n",
    "result = insert_word_at_nth_position(original_string, index_to_insert, word_to_insert)\n",
    "print(result)"
   ]
  },
  {
   "cell_type": "code",
   "execution_count": null,
   "id": "4718fb0a-541d-485a-aade-8b1a20c06ef8",
   "metadata": {},
   "outputs": [],
   "source": []
  },
  {
   "cell_type": "code",
   "execution_count": 69,
   "id": "3d8c7c83-173a-4e01-b05b-0f5e460d2aee",
   "metadata": {},
   "outputs": [
    {
     "name": "stdout",
     "output_type": "stream",
     "text": [
      "[['1', 'John', 'Doe'], ['2', 'Jane', 'Smith'], ['3', 'Bob', 'Johnson']]\n"
     ]
    }
   ],
   "source": [
    "#q50 - Convert a CSV string to a list of lists.\n",
    "\n",
    "# ANS - \n",
    "\n",
    "def csv_string_to_list_split(csv_string):\n",
    "  \n",
    "    lines = csv_string.split('\\n')\n",
    "\n",
    "   \n",
    "    csv_list = [line.split(',') for line in lines if line]\n",
    "\n",
    "    return csv_list\n",
    "\n",
    "\n",
    "csv_string = \"1,John,Doe\\n2,Jane,Smith\\n3,Bob,Johnson\"\n",
    "csv_list_split = csv_string_to_list_split(csv_string)\n",
    "print(csv_list_split)"
   ]
  },
  {
   "cell_type": "code",
   "execution_count": null,
   "id": "7e49fb23-0a4c-4fe2-9153-782a041f8c34",
   "metadata": {},
   "outputs": [],
   "source": []
  },
  {
   "cell_type": "code",
   "execution_count": 70,
   "id": "f1405521-b666-43bd-929b-d5cc5e6edba0",
   "metadata": {},
   "outputs": [],
   "source": [
    "                                #List Based Practice Problem :   "
   ]
  },
  {
   "cell_type": "code",
   "execution_count": null,
   "id": "5c91b2a0-dfb7-4333-9c16-98e760864045",
   "metadata": {},
   "outputs": [],
   "source": []
  },
  {
   "cell_type": "code",
   "execution_count": 1,
   "id": "ee87ed3f-b939-44c7-8fb3-3f21a13081cc",
   "metadata": {},
   "outputs": [],
   "source": [
    "#Q1) Create a list with integers from 1 to 10.\n",
    "\n",
    "#ANS -\n",
    "\n",
    "my_list = [1, 2, 3, 4, 5, 6, 7, 8, 9, 10]"
   ]
  },
  {
   "cell_type": "code",
   "execution_count": null,
   "id": "b88e92e3-089f-4812-87f7-cbbad79bfae0",
   "metadata": {},
   "outputs": [],
   "source": []
  },
  {
   "cell_type": "code",
   "execution_count": 3,
   "id": "bc39a54e-1586-4ff2-83c1-7b4db3c2e835",
   "metadata": {},
   "outputs": [
    {
     "name": "stdout",
     "output_type": "stream",
     "text": [
      "Length of the list: 10\n"
     ]
    }
   ],
   "source": [
    "# Q2 - Find the length of a list without using the `len()` function.\n",
    "\n",
    "#ANS -\n",
    "\n",
    "my_list = [1, 2, 3, 4, 5, 6, 7, 8, 9, 10]\n",
    "\n",
    "\n",
    "length = 0\n",
    "\n",
    "\n",
    "for _ in my_list:\n",
    "    length += 1\n",
    "\n",
    "print(\"Length of the list:\", length)"
   ]
  },
  {
   "cell_type": "code",
   "execution_count": null,
   "id": "072f1fa4-e1b6-423d-a562-cb5b3c2a12b1",
   "metadata": {},
   "outputs": [],
   "source": []
  },
  {
   "cell_type": "code",
   "execution_count": 5,
   "id": "677141d0-82c0-4105-954c-0dee3fa32103",
   "metadata": {},
   "outputs": [
    {
     "name": "stdout",
     "output_type": "stream",
     "text": [
      "Updated List: [1, 2, 3, 4, 5, 6]\n"
     ]
    }
   ],
   "source": [
    "# Q3 - Append an element to the end of a list.\n",
    "\n",
    "# ANS- \n",
    "\n",
    "my_list = [1, 2, 3, 4, 5]\n",
    "my_list.append(6)\n",
    "print(\"Updated List:\", my_list)"
   ]
  },
  {
   "cell_type": "code",
   "execution_count": null,
   "id": "9b6ff6fd-3902-45f7-ba02-bec33a0f8123",
   "metadata": {},
   "outputs": [],
   "source": []
  },
  {
   "cell_type": "code",
   "execution_count": 7,
   "id": "0870d970-5b37-4d0a-9d71-4abf74af5141",
   "metadata": {},
   "outputs": [
    {
     "name": "stdout",
     "output_type": "stream",
     "text": [
      "Updated List: [1, 2, 10, 3, 4, 5]\n"
     ]
    }
   ],
   "source": [
    "#Q4-  Insert an element at a specific index in a list.\n",
    "\n",
    "#ANS -\n",
    "\n",
    "my_list = [1, 2, 3, 4, 5]\n",
    "my_list.insert(2, 10)\n",
    "print(\"Updated List:\", my_list)"
   ]
  },
  {
   "cell_type": "code",
   "execution_count": null,
   "id": "5f9ef58c-40fc-453d-90b0-f37db342df06",
   "metadata": {},
   "outputs": [],
   "source": []
  },
  {
   "cell_type": "code",
   "execution_count": 9,
   "id": "e2636073-c1e6-4aa2-af80-293f6a9c1992",
   "metadata": {},
   "outputs": [
    {
     "name": "stdout",
     "output_type": "stream",
     "text": [
      "Updated List: [1, 2, 4, 5]\n"
     ]
    }
   ],
   "source": [
    "#Q5)  Remove an element from a list by its value.\n",
    "\n",
    "#ANS -\n",
    "\n",
    "my_list = [1, 2, 3, 4, 5]\n",
    "my_list.remove(3)\n",
    "print(\"Updated List:\", my_list)"
   ]
  },
  {
   "cell_type": "code",
   "execution_count": null,
   "id": "70c49e00-1326-453f-856c-0d997fb55304",
   "metadata": {},
   "outputs": [],
   "source": []
  },
  {
   "cell_type": "code",
   "execution_count": 11,
   "id": "e92d2a59-31c6-4125-933f-7a44dbdf3fcd",
   "metadata": {},
   "outputs": [
    {
     "name": "stdout",
     "output_type": "stream",
     "text": [
      "Updated List: [1, 2, 4, 5]\n",
      "Removed Element: 3\n"
     ]
    }
   ],
   "source": [
    "#Q6 - Remove an element from a list by its index.\n",
    "\n",
    "#ANS - \n",
    "\n",
    "my_list = [1, 2, 3, 4, 5]\n",
    "removed_element = my_list.pop(2)\n",
    "print(\"Updated List:\", my_list)\n",
    "print(\"Removed Element:\", removed_element)"
   ]
  },
  {
   "cell_type": "code",
   "execution_count": null,
   "id": "647b44d0-890a-477a-9aa7-eff4f8c6a36e",
   "metadata": {},
   "outputs": [],
   "source": []
  },
  {
   "cell_type": "code",
   "execution_count": 13,
   "id": "edfadf76-45dd-483e-ab4b-e73afad93b58",
   "metadata": {},
   "outputs": [
    {
     "name": "stdout",
     "output_type": "stream",
     "text": [
      "Element 3 is in the list.\n",
      "Element 6 is not in the list.\n"
     ]
    }
   ],
   "source": [
    "#Q7) Check if an element exists in a list.\n",
    "\n",
    "#ANS -\n",
    "\n",
    "my_list = [1, 2, 3, 4, 5]\n",
    "if 3 in my_list:\n",
    "    print(\"Element 3 is in the list.\")\n",
    "else:\n",
    "    print(\"Element 3 is not in the list.\")\n",
    "if 6 in my_list:\n",
    "    print(\"Element 6 is in the list.\")\n",
    "else:\n",
    "    print(\"Element 6 is not in the list.\")"
   ]
  },
  {
   "cell_type": "code",
   "execution_count": null,
   "id": "fa215a14-e6f2-4686-b12a-9e8e472267d5",
   "metadata": {},
   "outputs": [],
   "source": []
  },
  {
   "cell_type": "code",
   "execution_count": 15,
   "id": "b6dca0fb-01f5-4406-9159-56945ab91e80",
   "metadata": {},
   "outputs": [
    {
     "name": "stdout",
     "output_type": "stream",
     "text": [
      "Index of the first occurrence of 3: 2\n"
     ]
    }
   ],
   "source": [
    "#Q8 - Find the index of the first occurrence of an element in a list.\n",
    "\n",
    "#ANs -\n",
    "\n",
    "my_list = [1, 2, 3, 4, 5, 3]\n",
    "index_of_3 = my_list.index(3)\n",
    "print(\"Index of the first occurrence of 3:\", index_of_3)"
   ]
  },
  {
   "cell_type": "code",
   "execution_count": null,
   "id": "82a44092-0f92-428c-af7c-6bc6a1d42499",
   "metadata": {},
   "outputs": [],
   "source": []
  },
  {
   "cell_type": "code",
   "execution_count": 17,
   "id": "d7505f82-ab3d-4e8a-8572-f1ab001e93f8",
   "metadata": {},
   "outputs": [
    {
     "name": "stdout",
     "output_type": "stream",
     "text": [
      "Occurrences of 3 in the list: 3\n"
     ]
    }
   ],
   "source": [
    "#Q9 - Count the occurrences of an element in a list\n",
    "\n",
    "#ANS _ \n",
    "\n",
    "my_list = [1, 2, 3, 4, 5, 3, 3]\n",
    "count_of_3 = my_list.count(3)\n",
    "print(\"Occurrences of 3 in the list:\", count_of_3)"
   ]
  },
  {
   "cell_type": "code",
   "execution_count": null,
   "id": "ba17cabd-2d31-4db3-a2d8-dcafcb7d003b",
   "metadata": {},
   "outputs": [],
   "source": []
  },
  {
   "cell_type": "code",
   "execution_count": 20,
   "id": "1403531e-a9f9-4386-ab30-d63a8c024ab0",
   "metadata": {},
   "outputs": [
    {
     "name": "stdout",
     "output_type": "stream",
     "text": [
      "Reversed List: [5, 4, 3, 2, 1]\n"
     ]
    }
   ],
   "source": [
    "#Q10)  Reverse the order of elements in a list.\n",
    "\n",
    "#ANS -\n",
    "\n",
    "my_list = [1, 2, 3, 4, 5]\n",
    "my_list.reverse()\n",
    "print(\"Reversed List:\", my_list)"
   ]
  },
  {
   "cell_type": "code",
   "execution_count": null,
   "id": "4edb801e-3f53-4aae-be18-5889da56f270",
   "metadata": {},
   "outputs": [],
   "source": []
  },
  {
   "cell_type": "code",
   "execution_count": 22,
   "id": "417083c4-bc5a-4926-802c-c2c17b4d194e",
   "metadata": {},
   "outputs": [
    {
     "name": "stdout",
     "output_type": "stream",
     "text": [
      "Sorted List (Ascending): [1, 2, 3, 5, 8]\n"
     ]
    }
   ],
   "source": [
    "#Q11)  Sort a list in ascending order.\n",
    "\n",
    "#ANS -\n",
    "\n",
    "my_list = [5, 2, 8, 1, 3]\n",
    "my_list.sort()\n",
    "print(\"Sorted List (Ascending):\", my_list)"
   ]
  },
  {
   "cell_type": "code",
   "execution_count": null,
   "id": "8d029f70-69fe-4e43-a70d-9ad6b5ece9ff",
   "metadata": {},
   "outputs": [],
   "source": []
  },
  {
   "cell_type": "code",
   "execution_count": 24,
   "id": "7f6ae7e1-94bb-4206-849a-928503de2aee",
   "metadata": {},
   "outputs": [
    {
     "name": "stdout",
     "output_type": "stream",
     "text": [
      "Sorted List (Descending): [8, 5, 3, 2, 1]\n"
     ]
    }
   ],
   "source": [
    "#Q12 - Sort a list in descending order.\n",
    "\n",
    "#ANS -\n",
    "\n",
    "my_list = [5, 2, 8, 1, 3]\n",
    "my_list.sort(reverse=True)\n",
    "print(\"Sorted List (Descending):\", my_list)"
   ]
  },
  {
   "cell_type": "code",
   "execution_count": null,
   "id": "77f61e01-0a06-475a-9101-1049591147ab",
   "metadata": {},
   "outputs": [],
   "source": []
  },
  {
   "cell_type": "code",
   "execution_count": 26,
   "id": "a1d28374-bc18-4aa9-b256-0305b6358cf8",
   "metadata": {},
   "outputs": [
    {
     "name": "stdout",
     "output_type": "stream",
     "text": [
      "List of Even Numbers: [2, 4, 6, 8, 10, 12, 14, 16, 18, 20]\n"
     ]
    }
   ],
   "source": [
    "#q13 - Create a list of even numbers from 1 to 20.\n",
    "\n",
    "#ANS - \n",
    "\n",
    "even_numbers = [num for num in range(1, 21) if num % 2 == 0]\n",
    "print(\"List of Even Numbers:\", even_numbers)"
   ]
  },
  {
   "cell_type": "code",
   "execution_count": null,
   "id": "1f4d1026-6e4d-4615-a4bc-ef7c717f9bdf",
   "metadata": {},
   "outputs": [],
   "source": []
  },
  {
   "cell_type": "code",
   "execution_count": 29,
   "id": "fddf752e-5e46-4272-b223-5f1ad6cf32e9",
   "metadata": {},
   "outputs": [
    {
     "name": "stdout",
     "output_type": "stream",
     "text": [
      "List of Odd Numbers: [1, 3, 5, 7, 9, 11, 13, 15, 17, 19]\n"
     ]
    }
   ],
   "source": [
    "#Q14 - Create a list of odd numbers from 1 to 20.\n",
    "\n",
    "#ANS -\n",
    "\n",
    "odd_numbers = [num for num in range(1, 21) if num % 2 != 0]\n",
    "print(\"List of Odd Numbers:\", odd_numbers)"
   ]
  },
  {
   "cell_type": "code",
   "execution_count": null,
   "id": "af09218c-ba75-406b-81e8-4d9267bf1c26",
   "metadata": {},
   "outputs": [],
   "source": []
  },
  {
   "cell_type": "code",
   "execution_count": 31,
   "id": "f116868b-9afd-460e-b26e-da69e9dc0ecf",
   "metadata": {},
   "outputs": [
    {
     "name": "stdout",
     "output_type": "stream",
     "text": [
      "Sum of the elements in the list: 15\n"
     ]
    }
   ],
   "source": [
    "#Q15 - Find the sum of all elements in a list.\n",
    "\n",
    "#ANS - \n",
    "\n",
    "my_list = [1, 2, 3, 4, 5]\n",
    "list_sum = sum(my_list)\n",
    "print(\"Sum of the elements in the list:\", list_sum)"
   ]
  },
  {
   "cell_type": "code",
   "execution_count": null,
   "id": "3c6bd2f0-66cd-4d4d-96c4-852541f6cc42",
   "metadata": {},
   "outputs": [],
   "source": []
  },
  {
   "cell_type": "code",
   "execution_count": 33,
   "id": "b15625d8-47f8-43d3-b0a6-d6080d0f808c",
   "metadata": {},
   "outputs": [
    {
     "name": "stdout",
     "output_type": "stream",
     "text": [
      "Maximum value in the list: 9\n"
     ]
    }
   ],
   "source": [
    "#Q16 - Find the maximum value in a list.\n",
    "\n",
    "#ANS - \n",
    "\n",
    "my_list = [3, 1, 4, 1, 5, 9, 2, 6, 5, 3]\n",
    "max_value = max(my_list)\n",
    "print(\"Maximum value in the list:\", max_value)"
   ]
  },
  {
   "cell_type": "code",
   "execution_count": null,
   "id": "055355bd-4768-4159-8cdd-0fa4ccc8c0fb",
   "metadata": {},
   "outputs": [],
   "source": []
  },
  {
   "cell_type": "code",
   "execution_count": 35,
   "id": "2824f68d-81af-4611-94fa-bf7d6b4b6544",
   "metadata": {},
   "outputs": [
    {
     "name": "stdout",
     "output_type": "stream",
     "text": [
      "Minimum value in the list: 1\n"
     ]
    }
   ],
   "source": [
    "#Q17) Find the minimum value in a list.\n",
    "\n",
    "#ANS _ \n",
    "\n",
    "my_list = [3, 1, 4, 1, 5, 9, 2, 6, 5, 3]\n",
    "min_value = min(my_list)\n",
    "print(\"Minimum value in the list:\", min_value)"
   ]
  },
  {
   "cell_type": "code",
   "execution_count": null,
   "id": "1793ebf7-8493-4566-903d-bbd81e2877b5",
   "metadata": {},
   "outputs": [],
   "source": []
  },
  {
   "cell_type": "code",
   "execution_count": 37,
   "id": "0646ba3a-8e9d-4717-a8dd-9607121fa1b0",
   "metadata": {},
   "outputs": [
    {
     "name": "stdout",
     "output_type": "stream",
     "text": [
      "List of Squares: [1, 4, 9, 16, 25, 36, 49, 64, 81, 100]\n"
     ]
    }
   ],
   "source": [
    "#Q18 ) Create a list of squares of numbers from 1 to 10.\n",
    "\n",
    "#ANS - \n",
    "\n",
    "squares = [num**2 for num in range(1, 11)]\n",
    "print(\"List of Squares:\", squares)"
   ]
  },
  {
   "cell_type": "code",
   "execution_count": null,
   "id": "d32ff6a5-f020-4794-beb9-507cd1c26ed6",
   "metadata": {},
   "outputs": [],
   "source": []
  },
  {
   "cell_type": "code",
   "execution_count": 39,
   "id": "5cd1d614-6ff6-4f14-9615-90a618237b05",
   "metadata": {},
   "outputs": [
    {
     "name": "stdout",
     "output_type": "stream",
     "text": [
      "List of Random Numbers: [10, 10, 6, 1, 1]\n"
     ]
    }
   ],
   "source": [
    "#Q19 - Create a list of random numbers.\n",
    "\n",
    "#ANS _\n",
    "\n",
    "import random\n",
    "random_numbers = [random.randint(1, 10) for _ in range(5)]\n",
    "print(\"List of Random Numbers:\", random_numbers)"
   ]
  },
  {
   "cell_type": "code",
   "execution_count": null,
   "id": "583fa85f-9241-4b8c-959d-65e8691e7ddf",
   "metadata": {},
   "outputs": [],
   "source": []
  },
  {
   "cell_type": "code",
   "execution_count": 41,
   "id": "67fde86b-5a71-4394-836a-28f2985d1e37",
   "metadata": {},
   "outputs": [
    {
     "name": "stdout",
     "output_type": "stream",
     "text": [
      "List without Duplicates: [1, 2, 3, 4, 5]\n"
     ]
    }
   ],
   "source": [
    "#Q20) Remove duplicates from a list.\n",
    "\n",
    "#ANS - \n",
    "\n",
    "my_list = [1, 2, 2, 3, 4, 4, 5]\n",
    "unique_list = list(set(my_list))\n",
    "print(\"List without Duplicates:\", unique_list)"
   ]
  },
  {
   "cell_type": "code",
   "execution_count": null,
   "id": "f8c2fd64-0aca-4606-b258-fe35ecfb4f1c",
   "metadata": {},
   "outputs": [],
   "source": []
  },
  {
   "cell_type": "code",
   "execution_count": 43,
   "id": "1c31d3b0-c87f-440c-ba88-91a05e477398",
   "metadata": {},
   "outputs": [
    {
     "name": "stdout",
     "output_type": "stream",
     "text": [
      "Common Elements: [4, 5]\n"
     ]
    }
   ],
   "source": [
    "#Q21)  Find the common elements between two lists.\n",
    "\n",
    "#ANS -\n",
    "\n",
    "list1 = [1, 2, 3, 4, 5]\n",
    "list2 = [4, 5, 6, 7, 8]\n",
    "common_elements = list(set(list1) & set(list2))\n",
    "print(\"Common Elements:\", common_elements)"
   ]
  },
  {
   "cell_type": "code",
   "execution_count": null,
   "id": "fde64e8d-f957-4b2e-8d4a-6bda0590b64f",
   "metadata": {},
   "outputs": [],
   "source": []
  },
  {
   "cell_type": "code",
   "execution_count": 46,
   "id": "3a04b89e-445b-4ab2-bc2c-c052fa96a5cf",
   "metadata": {},
   "outputs": [
    {
     "name": "stdout",
     "output_type": "stream",
     "text": [
      "Difference between lists: [1, 2, 3, 6, 7, 8]\n"
     ]
    }
   ],
   "source": [
    "#Q22) Find the difference between two lists.\n",
    "\n",
    "#ANS - \n",
    "\n",
    "list1 = [1, 2, 3, 4, 5]\n",
    "list2 = [4, 5, 6, 7, 8]\n",
    "difference = list(set(list1) ^ set(list2))\n",
    "print(\"Difference between lists:\", difference)"
   ]
  },
  {
   "cell_type": "code",
   "execution_count": null,
   "id": "dc1a579e-d654-4c7b-b55f-f8509abbb15f",
   "metadata": {},
   "outputs": [],
   "source": []
  },
  {
   "cell_type": "code",
   "execution_count": 48,
   "id": "899b92b6-8ea3-4546-a7ec-126423fb8579",
   "metadata": {},
   "outputs": [
    {
     "name": "stdout",
     "output_type": "stream",
     "text": [
      "Merged List: [1, 2, 3, 4, 5, 6]\n"
     ]
    }
   ],
   "source": [
    "#Q23)  Merge two lists.\n",
    "\n",
    "#ANS - \n",
    "\n",
    "list1 = [1, 2, 3]\n",
    "list2 = [4, 5, 6]\n",
    "merged_list = list1 + list2\n",
    "print(\"Merged List:\", merged_list)"
   ]
  },
  {
   "cell_type": "code",
   "execution_count": null,
   "id": "95a10d29-8762-4902-aca4-43447848131b",
   "metadata": {},
   "outputs": [],
   "source": []
  },
  {
   "cell_type": "code",
   "execution_count": 50,
   "id": "cbc34e8f-0290-4728-a23c-facfe3022c93",
   "metadata": {},
   "outputs": [
    {
     "name": "stdout",
     "output_type": "stream",
     "text": [
      "[2, 4, 6, 8, 10]\n"
     ]
    }
   ],
   "source": [
    "#Q24) Multiply all elements in a list by 2.\n",
    "\n",
    "#ANS - \n",
    "\n",
    "original_list = [1, 2, 3, 4, 5]\n",
    "new_list = []\n",
    "\n",
    "for element in original_list:\n",
    "    new_list.append(element * 2)\n",
    "print(new_list)"
   ]
  },
  {
   "cell_type": "code",
   "execution_count": null,
   "id": "74b42e08-2b5b-4b6d-85ed-9db7ecb476e8",
   "metadata": {},
   "outputs": [],
   "source": []
  },
  {
   "cell_type": "code",
   "execution_count": 52,
   "id": "59e1f050-b9b0-4593-b495-29a8d4a2f748",
   "metadata": {},
   "outputs": [
    {
     "name": "stdout",
     "output_type": "stream",
     "text": [
      "[1, 3, 5, 7, 9]\n"
     ]
    }
   ],
   "source": [
    "#Q25) Filter out all even numbers from a list.\n",
    "\n",
    "#ANS -\n",
    "\n",
    "original_list = [1, 2, 3, 4, 5, 6, 7, 8, 9]\n",
    "new_list = []\n",
    "for element in original_list:\n",
    "    if element % 2 != 0:\n",
    "        new_list.append(element)\n",
    "print(new_list)"
   ]
  },
  {
   "cell_type": "code",
   "execution_count": null,
   "id": "d1264b2a-ebe1-4c75-9cb1-3429d6eb37f5",
   "metadata": {},
   "outputs": [],
   "source": []
  },
  {
   "cell_type": "code",
   "execution_count": 54,
   "id": "3bceabce-e42a-41c7-a6ad-7402fb4ed4d7",
   "metadata": {},
   "outputs": [
    {
     "name": "stdout",
     "output_type": "stream",
     "text": [
      "[1, 2, 3, 4, 5]\n"
     ]
    }
   ],
   "source": [
    "#Q26) Convert a list of strings to a list of integers.\n",
    "\n",
    "#ANS_ \n",
    "\n",
    "string_list = [\"1\", \"2\", \"3\", \"4\", \"5\"]\n",
    "int_list = list(map(int, string_list))\n",
    "print(int_list)"
   ]
  },
  {
   "cell_type": "code",
   "execution_count": null,
   "id": "ba342f49-5e33-41ce-bbbc-2e6c6b4d2b67",
   "metadata": {},
   "outputs": [],
   "source": []
  },
  {
   "cell_type": "code",
   "execution_count": 57,
   "id": "f327cf6c-b7a6-4011-95d6-700af5daeca7",
   "metadata": {},
   "outputs": [
    {
     "name": "stdout",
     "output_type": "stream",
     "text": [
      "['1', '2', '3', '4', '5']\n"
     ]
    }
   ],
   "source": [
    "#Q27) Convert a list of integers to a list of strings.\n",
    "\n",
    "#ANS - \n",
    "int_list = [1, 2, 3, 4, 5]\n",
    "string_list = list(map(str, int_list))\n",
    "print(string_list)"
   ]
  },
  {
   "cell_type": "code",
   "execution_count": null,
   "id": "3d0f4fb4-6ced-42e7-99f8-390297ba652d",
   "metadata": {},
   "outputs": [],
   "source": []
  },
  {
   "cell_type": "code",
   "execution_count": 59,
   "id": "b55d750b-fbb0-4335-ac20-31c38dec6769",
   "metadata": {},
   "outputs": [
    {
     "name": "stdout",
     "output_type": "stream",
     "text": [
      "[1, 2, 3, 4, 5, 6, 7, 8]\n"
     ]
    }
   ],
   "source": [
    "#Q28) Flatten a nested list.\n",
    "\n",
    "#ANS - \n",
    "\n",
    "def flatten_list(nested_list):\n",
    "    flat_list = []\n",
    "    for element in nested_list:\n",
    "        if isinstance(element, list):\n",
    "            flat_list.extend(flatten_list(element))\n",
    "        else:\n",
    "            flat_list.append(element)\n",
    "    return flat_list\n",
    "nested_list = [1, [2, 3, [4, 5]], 6, [7, 8]]\n",
    "result = flatten_list(nested_list)\n",
    "print(result)"
   ]
  },
  {
   "cell_type": "code",
   "execution_count": null,
   "id": "6f6d2d6f-ffb5-4bb0-a404-7dfcb524bca2",
   "metadata": {},
   "outputs": [],
   "source": []
  },
  {
   "cell_type": "code",
   "execution_count": 61,
   "id": "a7893e80-0c77-41cf-acd7-300b10d7d4a9",
   "metadata": {},
   "outputs": [
    {
     "name": "stdout",
     "output_type": "stream",
     "text": [
      "[0, 1, 1, 2, 3, 5, 8, 13, 21, 34]\n"
     ]
    }
   ],
   "source": [
    "#Q29)  Create a list of the first 10 Fibonacci numbers.\n",
    "\n",
    "#ANS - \n",
    "\n",
    "def generate_fibonacci(n):\n",
    "    fibonacci_list = [0, 1]\n",
    "    while len(fibonacci_list) < n:\n",
    "        next_number = fibonacci_list[-1] + fibonacci_list[-2]\n",
    "        fibonacci_list.append(next_number)\n",
    "    return fibonacci_list[:n]\n",
    "first_10_fibonacci = generate_fibonacci(10)\n",
    "print(first_10_fibonacci)"
   ]
  },
  {
   "cell_type": "code",
   "execution_count": null,
   "id": "2131681e-47e1-425c-b4dc-c199801efe95",
   "metadata": {},
   "outputs": [],
   "source": []
  },
  {
   "cell_type": "code",
   "execution_count": 63,
   "id": "9312d250-e54d-4a52-8ab9-5f0af77872f2",
   "metadata": {},
   "outputs": [
    {
     "name": "stdout",
     "output_type": "stream",
     "text": [
      "True\n",
      "False\n"
     ]
    }
   ],
   "source": [
    "#Q30) Check if a list is sorted.\n",
    "\n",
    "#ANS -  \n",
    "\n",
    "def is_sorted(lst):\n",
    "    return all(lst[i] <= lst[i + 1] for i in range(len(lst) - 1))\n",
    "sorted_list = [1, 2, 3, 4, 5]\n",
    "unsorted_list = [5, 2, 8, 1, 3]\n",
    "print(is_sorted(sorted_list))\n",
    "print(is_sorted(unsorted_list)) "
   ]
  },
  {
   "cell_type": "code",
   "execution_count": null,
   "id": "833a3466-47d5-421e-b029-7fc6834c9dd6",
   "metadata": {},
   "outputs": [],
   "source": []
  },
  {
   "cell_type": "code",
   "execution_count": 65,
   "id": "8f866858-4561-49da-8e4b-569c4756fa36",
   "metadata": {},
   "outputs": [
    {
     "name": "stdout",
     "output_type": "stream",
     "text": [
      "[3, 4, 5, 1, 2]\n"
     ]
    }
   ],
   "source": [
    "#Q31 - Rotate a list to the left by `n` positions.\n",
    "\n",
    "#ANS _ \n",
    "\n",
    "def rotate_left(lst, n):\n",
    "    n = n % len(lst)\n",
    "    rotated_list = lst[n:] + lst[:n]\n",
    "    return rotated_list\n",
    "original_list = [1, 2, 3, 4, 5]\n",
    "rotated_list = rotate_left(original_list, 2)\n",
    "print(rotated_list)"
   ]
  },
  {
   "cell_type": "code",
   "execution_count": null,
   "id": "1d4d470e-27d1-4a9e-995e-8f53e8ba6ace",
   "metadata": {},
   "outputs": [],
   "source": []
  },
  {
   "cell_type": "code",
   "execution_count": 67,
   "id": "8dfe4e76-838d-476c-b125-498c5f464a36",
   "metadata": {},
   "outputs": [
    {
     "name": "stdout",
     "output_type": "stream",
     "text": [
      "[4, 5, 1, 2, 3]\n"
     ]
    }
   ],
   "source": [
    "#Q32) Rotate a list to the right by `n` positions.\n",
    "\n",
    "#ANS -\n",
    "\n",
    "def rotate_right(lst, n):\n",
    "    n = n % len(lst)  \n",
    "    rotated_list = lst[-n:] + lst[:-n]\n",
    "    return rotated_list\n",
    "original_list = [1, 2, 3, 4, 5]\n",
    "rotated_list = rotate_right(original_list, 2)\n",
    "print(rotated_list)"
   ]
  },
  {
   "cell_type": "code",
   "execution_count": null,
   "id": "dd6313c5-3bf1-4a05-9bc8-843b77e7e529",
   "metadata": {},
   "outputs": [],
   "source": []
  },
  {
   "cell_type": "code",
   "execution_count": 69,
   "id": "3042921e-6b21-428c-90a6-da4e9e989349",
   "metadata": {},
   "outputs": [
    {
     "name": "stdout",
     "output_type": "stream",
     "text": [
      "[2, 3, 5, 7, 11, 13, 17, 19, 23, 29, 31, 37, 41, 43, 47]\n"
     ]
    }
   ],
   "source": [
    "#Q33) Create a list of prime numbers up to 50.\n",
    "\n",
    "#ANS _\n",
    "\n",
    "def is_prime(num):\n",
    "    if num < 2:\n",
    "        return False\n",
    "    for i in range(2, int(num**0.5) + 1):\n",
    "        if num % i == 0:\n",
    "            return False\n",
    "    return True\n",
    "prime_numbers = [num for num in range(2, 51) if is_prime(num)]\n",
    "print(prime_numbers)"
   ]
  },
  {
   "cell_type": "code",
   "execution_count": null,
   "id": "51d8255e-ec50-4b0f-8623-869b97272298",
   "metadata": {},
   "outputs": [],
   "source": []
  },
  {
   "cell_type": "code",
   "execution_count": 71,
   "id": "928263e8-634c-45a0-8680-50ba8e0e22ee",
   "metadata": {},
   "outputs": [
    {
     "name": "stdout",
     "output_type": "stream",
     "text": [
      "[[1, 2, 3], [4, 5, 6], [7, 8, 9]]\n"
     ]
    }
   ],
   "source": [
    "#Q34) Split a list into chunks of size `n`.\n",
    "\n",
    "#ANS -\n",
    "\n",
    "def chunk_list(lst, n):\n",
    "    return [lst[i:i+n] for i in range(0, len(lst), n)]\n",
    "original_list = [1, 2, 3, 4, 5, 6, 7, 8, 9]\n",
    "chunk_size = 3\n",
    "result = chunk_list(original_list, chunk_size)\n",
    "print(result)"
   ]
  },
  {
   "cell_type": "code",
   "execution_count": null,
   "id": "86b4d3e8-0961-4871-8893-22db116ef875",
   "metadata": {},
   "outputs": [],
   "source": []
  },
  {
   "cell_type": "code",
   "execution_count": 76,
   "id": "df41f4f1-a9d2-4804-919c-0b4323d30d5d",
   "metadata": {},
   "outputs": [
    {
     "name": "stdout",
     "output_type": "stream",
     "text": [
      "Second Largest Number: 15\n"
     ]
    }
   ],
   "source": [
    "#Q35) Find the second largest number in a list.\n",
    "\n",
    "#ANS -\n",
    "\n",
    "def second_largest(lst):\n",
    "    if len(lst) < 2:\n",
    "        return \"List should have at least two elements.\"\n",
    "\n",
    "   \n",
    "    max_value = max(lst)\n",
    "\n",
    "   \n",
    "    lst.remove(max_value)\n",
    "\n",
    "   \n",
    "    second_largest_value = max(lst)\n",
    "\n",
    "    return second_largest_value\n",
    "\n",
    "numbers = [10, 5, 8, 20, 15]\n",
    "result = second_largest(numbers)\n",
    "\n",
    "print(\"Second Largest Number:\", result)"
   ]
  },
  {
   "cell_type": "code",
   "execution_count": null,
   "id": "55eb2774-864c-43b0-b6fb-8731a3e09e0c",
   "metadata": {},
   "outputs": [],
   "source": []
  },
  {
   "cell_type": "code",
   "execution_count": 79,
   "id": "6e27e8e0-f445-4313-b064-9d399c0c078c",
   "metadata": {},
   "outputs": [
    {
     "name": "stdout",
     "output_type": "stream",
     "text": [
      "[1, 4, 9, 16, 25]\n"
     ]
    }
   ],
   "source": [
    "#Q36) Replace every element in a list with its square.\n",
    "\n",
    "#ANS -\n",
    "\n",
    "original_list = [1, 2, 3, 4, 5]\n",
    "squared_list = [element ** 2 for element in original_list]\n",
    "print(squared_list)"
   ]
  },
  {
   "cell_type": "code",
   "execution_count": null,
   "id": "c117db72-c5c0-46ac-95c0-8926864bfcd7",
   "metadata": {},
   "outputs": [],
   "source": []
  },
  {
   "cell_type": "code",
   "execution_count": 81,
   "id": "14c3d7d1-8bb2-4478-86b7-eeadb8c6d756",
   "metadata": {},
   "outputs": [
    {
     "name": "stdout",
     "output_type": "stream",
     "text": [
      "{'apple': 0, 'banana': 1, 'cherry': 2, 'date': 3}\n"
     ]
    }
   ],
   "source": [
    "#Q37 ) Convert a list to a dictionary where list elements become keys and their\n",
    "# indices become values.\n",
    "\n",
    "#ANS -\n",
    "\n",
    "original_list = ['apple', 'banana', 'cherry', 'date']\n",
    "indexed_dict = {element: index for index, element in enumerate(original_list)}\n",
    "print(indexed_dict)"
   ]
  },
  {
   "cell_type": "code",
   "execution_count": null,
   "id": "bd6a6ea6-d43c-4a6d-8423-ed34bb4d1b11",
   "metadata": {},
   "outputs": [],
   "source": []
  },
  {
   "cell_type": "code",
   "execution_count": 83,
   "id": "bdb87b59-9f7b-447a-ac8b-e97281985d06",
   "metadata": {},
   "outputs": [
    {
     "name": "stdout",
     "output_type": "stream",
     "text": [
      "[5, 1, 2, 3, 4]\n"
     ]
    }
   ],
   "source": [
    "# Q38) Shuffle the elements of a list randomly.\n",
    "\n",
    "#ANS - \n",
    "\n",
    "import random\n",
    "original_list = [1, 2, 3, 4, 5]\n",
    "random.shuffle(original_list)\n",
    "print(original_list)"
   ]
  },
  {
   "cell_type": "code",
   "execution_count": null,
   "id": "79efc9d7-fd9c-4ce5-b17d-1649b03f0379",
   "metadata": {},
   "outputs": [],
   "source": []
  },
  {
   "cell_type": "code",
   "execution_count": 85,
   "id": "a6d102a7-2be2-498c-b1a8-6bfccc7543a0",
   "metadata": {},
   "outputs": [
    {
     "name": "stdout",
     "output_type": "stream",
     "text": [
      "[1, 1, 2, 6, 24, 120, 720, 5040, 40320, 362880]\n"
     ]
    }
   ],
   "source": [
    "#Q39) Create a list of the first 10 factorial numbers.\n",
    "\n",
    "#ANS -\n",
    "\n",
    "import math\n",
    "factorial_numbers = [math.factorial(i) for i in range(10)]\n",
    "print(factorial_numbers)"
   ]
  },
  {
   "cell_type": "code",
   "execution_count": null,
   "id": "c4679d4d-0ae1-4d28-af2e-374a5afba4bf",
   "metadata": {},
   "outputs": [],
   "source": []
  },
  {
   "cell_type": "code",
   "execution_count": 87,
   "id": "04d40e3d-d57c-470b-94f8-259610fcc36d",
   "metadata": {},
   "outputs": [
    {
     "name": "stdout",
     "output_type": "stream",
     "text": [
      "The lists have at least one common element.\n"
     ]
    }
   ],
   "source": [
    "#Q40) Check if two lists have at least one element in common.\n",
    "\n",
    "#ANS -\n",
    "\n",
    "def have_common_element(list1, list2):\n",
    "    return any(element in list2 for element in list1)\n",
    "list_a = [1, 2, 3, 4, 5]\n",
    "list_b = [5, 6, 7, 8, 9]\n",
    "if have_common_element(list_a, list_b):\n",
    "    print(\"The lists have at least one common element.\")\n",
    "else:\n",
    "    print(\"The lists do not have any common elements.\")"
   ]
  },
  {
   "cell_type": "code",
   "execution_count": null,
   "id": "f89f9c79-58a0-439f-a0b4-89ee515773a3",
   "metadata": {},
   "outputs": [],
   "source": []
  },
  {
   "cell_type": "code",
   "execution_count": 89,
   "id": "11b658d5-5596-4d61-a155-3af889049899",
   "metadata": {},
   "outputs": [
    {
     "name": "stdout",
     "output_type": "stream",
     "text": [
      "[]\n"
     ]
    }
   ],
   "source": [
    "#Q41) Remove all elements from a list.\n",
    "\n",
    "#ANS - \n",
    "\n",
    "my_list = [1, 2, 3, 4, 5]\n",
    "my_list.clear()\n",
    "print(my_list)  "
   ]
  },
  {
   "cell_type": "code",
   "execution_count": null,
   "id": "1d5c5ef2-0a82-4360-a1d1-34d343e5385d",
   "metadata": {},
   "outputs": [],
   "source": []
  },
  {
   "cell_type": "code",
   "execution_count": 91,
   "id": "5d88cacb-524a-4de8-96c2-099334d5c855",
   "metadata": {},
   "outputs": [
    {
     "name": "stdout",
     "output_type": "stream",
     "text": [
      "[1, 0, 3, 0, 5, 0]\n"
     ]
    }
   ],
   "source": [
    "#Q42) Replace negative numbers in a list with 0.\n",
    "\n",
    "#ANS -\n",
    "original_list = [1, -2, 3, -4, 5, -6]\n",
    "modified_list = [max(0, element) for element in original_list]\n",
    "print(modified_list)"
   ]
  },
  {
   "cell_type": "code",
   "execution_count": null,
   "id": "dc8c1f36-9bb0-4c6d-b7b1-070b2f265cdf",
   "metadata": {},
   "outputs": [],
   "source": []
  },
  {
   "cell_type": "code",
   "execution_count": 93,
   "id": "33cbddb9-6695-4299-922e-eefe5ac757f9",
   "metadata": {},
   "outputs": [
    {
     "name": "stdout",
     "output_type": "stream",
     "text": [
      "['Convert', 'this', 'string', 'into', 'a', 'list', 'of', 'words']\n"
     ]
    }
   ],
   "source": [
    "#Q43) Convert a string into a list of words.\n",
    "\n",
    "#ANS - \n",
    "my_string = \"Convert this string into a list of words\"\n",
    "word_list = my_string.split()\n",
    "print(word_list)"
   ]
  },
  {
   "cell_type": "code",
   "execution_count": null,
   "id": "6f2a79fc-8a68-4040-a140-586b9e15b9c5",
   "metadata": {},
   "outputs": [],
   "source": []
  },
  {
   "cell_type": "code",
   "execution_count": 96,
   "id": "189ca01f-fa16-4ee2-8bad-e27e777d477e",
   "metadata": {},
   "outputs": [
    {
     "name": "stdout",
     "output_type": "stream",
     "text": [
      "Convert this list of words to a string\n"
     ]
    }
   ],
   "source": [
    "#Q44)   Convert a list of words into a string.\n",
    "\n",
    "#ANS - \n",
    "\n",
    "word_list = ['Convert', 'this', 'list', 'of', 'words', 'to', 'a', 'string']\n",
    "result_string = ' '.join(word_list)\n",
    "print(result_string)"
   ]
  },
  {
   "cell_type": "code",
   "execution_count": null,
   "id": "2ad4fb1c-e0a6-4fdd-968d-ab6a5a704f67",
   "metadata": {},
   "outputs": [],
   "source": []
  },
  {
   "cell_type": "code",
   "execution_count": 99,
   "id": "bd2301b4-73e0-48df-9ff3-f3de4060ec53",
   "metadata": {},
   "outputs": [
    {
     "name": "stdout",
     "output_type": "stream",
     "text": [
      "[1, 2, 4, 8, 16]\n"
     ]
    }
   ],
   "source": [
    "#Q45) Create a list of the first `n` powers of 2.\n",
    "\n",
    "#ANS -\n",
    "n = 5 \n",
    "powers_of_2 = [2**i for i in range(n)]\n",
    "print(powers_of_2)"
   ]
  },
  {
   "cell_type": "code",
   "execution_count": null,
   "id": "86deaa30-e9ed-4a32-8628-ab75a46a7233",
   "metadata": {},
   "outputs": [],
   "source": []
  },
  {
   "cell_type": "code",
   "execution_count": 101,
   "id": "877676b0-170f-4102-a871-8bfbf3354e1a",
   "metadata": {},
   "outputs": [
    {
     "name": "stdout",
     "output_type": "stream",
     "text": [
      "Longest String: banana\n"
     ]
    }
   ],
   "source": [
    "#Q46) Find the longest string in a list of strings.\n",
    "\n",
    "#ANS  -\n",
    "\n",
    "string_list = ['apple', 'banana', 'cherry', 'date', 'kiwi']\n",
    "longest_string = max(string_list, key=len)\n",
    "print(\"Longest String:\", longest_string)"
   ]
  },
  {
   "cell_type": "code",
   "execution_count": null,
   "id": "c3580e32-9f00-415a-ad5b-10b08c4e9828",
   "metadata": {},
   "outputs": [],
   "source": []
  },
  {
   "cell_type": "code",
   "execution_count": 103,
   "id": "5e772019-cf16-4c86-8908-10cd60ec24ea",
   "metadata": {},
   "outputs": [
    {
     "name": "stdout",
     "output_type": "stream",
     "text": [
      "Shortest String: date\n"
     ]
    }
   ],
   "source": [
    "#Q47) Find the shortest string in a list of strings.\n",
    "\n",
    "#ANS - \n",
    "\n",
    "string_list = ['apple', 'banana', 'cherry', 'date', 'kiwi']\n",
    "shortest_string = min(string_list, key=len)\n",
    "print(\"Shortest String:\", shortest_string)"
   ]
  },
  {
   "cell_type": "code",
   "execution_count": null,
   "id": "e10a0511-8fed-4f09-8093-db12f0ffb2f2",
   "metadata": {},
   "outputs": [],
   "source": []
  },
  {
   "cell_type": "code",
   "execution_count": 105,
   "id": "8efecc48-2540-4282-bd70-e7b5ebf3fe0f",
   "metadata": {},
   "outputs": [
    {
     "name": "stdout",
     "output_type": "stream",
     "text": [
      "[1, 3, 6, 10, 15]\n"
     ]
    }
   ],
   "source": [
    "#Q48) Create a list of the first `n` triangular numbers.\n",
    "\n",
    "#ANS -\n",
    "\n",
    "n = 5  \n",
    "triangular_numbers = [(i * (i + 1)) // 2 for i in range(1, n + 1)]\n",
    "print(triangular_numbers)"
   ]
  },
  {
   "cell_type": "code",
   "execution_count": null,
   "id": "df5f9326-abc5-4ee0-bb70-98c715b92351",
   "metadata": {},
   "outputs": [],
   "source": []
  },
  {
   "cell_type": "code",
   "execution_count": 107,
   "id": "cb8afc8b-3e3b-43f1-ac85-5f44d48c9344",
   "metadata": {},
   "outputs": [
    {
     "name": "stdout",
     "output_type": "stream",
     "text": [
      "True\n",
      "True\n"
     ]
    }
   ],
   "source": [
    "#Q49 ) Check if a list contains another list as a subsequence.\n",
    "\n",
    "#ANS - \n",
    "\n",
    "def is_subsequence(sublist, larger_list):\n",
    "    iter_larger = iter(larger_list)\n",
    "    for item in sublist:\n",
    "        if item not in iter_larger:\n",
    "            return False\n",
    "    return True\n",
    "larger_list = [1, 2, 3, 4, 5, 6, 7, 8, 9]\n",
    "sublist_a = [2, 4, 6]\n",
    "sublist_b = [2, 5, 8]\n",
    "print(is_subsequence(sublist_a, larger_list)) \n",
    "print(is_subsequence(sublist_b, larger_list)) \n"
   ]
  },
  {
   "cell_type": "code",
   "execution_count": null,
   "id": "50170ca0-5d0e-47a1-9a42-c277f87a028e",
   "metadata": {},
   "outputs": [],
   "source": []
  },
  {
   "cell_type": "code",
   "execution_count": 109,
   "id": "955b780f-34b0-46b2-a797-9926d282170c",
   "metadata": {},
   "outputs": [
    {
     "name": "stdout",
     "output_type": "stream",
     "text": [
      "[1, 4, 3, 2, 5]\n"
     ]
    }
   ],
   "source": [
    "#Q50) Swap two elements in a list by their indices.\n",
    "\n",
    "#ANS -\n",
    "\n",
    "def swap_elements(lst, index1, index2):\n",
    "    lst[index1], lst[index2] = lst[index2], lst[index1]\n",
    "my_list = [1, 2, 3, 4, 5]\n",
    "swap_elements(my_list, 1, 3)\n",
    "print(my_list)"
   ]
  },
  {
   "cell_type": "code",
   "execution_count": null,
   "id": "1d99c207-d2c9-4a51-add9-56f1724e02f2",
   "metadata": {},
   "outputs": [],
   "source": []
  },
  {
   "cell_type": "code",
   "execution_count": 110,
   "id": "3d7cff93-552a-4641-9462-1511e49a00ae",
   "metadata": {},
   "outputs": [],
   "source": [
    "                               # Tuple Based Practice Problem : "
   ]
  },
  {
   "cell_type": "code",
   "execution_count": null,
   "id": "74dff3ee-ec32-4d08-b4e2-93654bf718c0",
   "metadata": {},
   "outputs": [],
   "source": []
  },
  {
   "cell_type": "code",
   "execution_count": 2,
   "id": "4c3c06bc-68b8-4336-b774-40c51ca6fce3",
   "metadata": {},
   "outputs": [
    {
     "name": "stdout",
     "output_type": "stream",
     "text": [
      "(1, 2, 3, 4, 5)\n"
     ]
    }
   ],
   "source": [
    "#Q1)  Create a tuple with integers from 1 to 5.\n",
    "\n",
    "#ANS_ \n",
    "\n",
    "my_tuple = (1, 2, 3, 4, 5)\n",
    "print(my_tuple)"
   ]
  },
  {
   "cell_type": "code",
   "execution_count": null,
   "id": "4cd6d310-d1f7-41ad-bbe0-c7a61b060622",
   "metadata": {},
   "outputs": [],
   "source": []
  },
  {
   "cell_type": "code",
   "execution_count": 3,
   "id": "d463d39a-084a-4633-9c36-9c84298fa8bd",
   "metadata": {},
   "outputs": [
    {
     "name": "stdout",
     "output_type": "stream",
     "text": [
      "3\n"
     ]
    }
   ],
   "source": [
    "#Q2) Access the third element of a tuple. \n",
    "\n",
    "#ANS -\n",
    "\n",
    "my_tuple = (1, 2, 3, 4, 5)\n",
    "third_element = my_tuple[2]\n",
    "print(third_element)"
   ]
  },
  {
   "cell_type": "code",
   "execution_count": null,
   "id": "7a9b50c6-46a6-4704-bb07-c2a3ad879553",
   "metadata": {},
   "outputs": [],
   "source": []
  },
  {
   "cell_type": "code",
   "execution_count": 5,
   "id": "79e22360-24d8-463e-95ab-2f6eba26074d",
   "metadata": {},
   "outputs": [
    {
     "name": "stdout",
     "output_type": "stream",
     "text": [
      "Length of the tuple: 5\n"
     ]
    }
   ],
   "source": [
    "#Q3) Find the length of a tuple without using the `len()` function.\n",
    "\n",
    "#ANS -\n",
    "\n",
    "my_tuple = (1, 2, 3, 4, 5)\n",
    "tuple_length = 0\n",
    "for element in my_tuple:\n",
    "    tuple_length += 1\n",
    "print(\"Length of the tuple:\", tuple_length)"
   ]
  },
  {
   "cell_type": "code",
   "execution_count": null,
   "id": "99922a99-0265-434e-a2b7-99f0132f8374",
   "metadata": {},
   "outputs": [],
   "source": []
  },
  {
   "cell_type": "code",
   "execution_count": 7,
   "id": "fa0a94b0-f32f-4290-998d-f6a2472f1cfc",
   "metadata": {},
   "outputs": [
    {
     "name": "stdout",
     "output_type": "stream",
     "text": [
      "The element 2 occurs 3 times in the tuple.\n"
     ]
    }
   ],
   "source": [
    "#Q4) Count the occurrences of an element in a tuple.\n",
    "\n",
    "#ANS -\n",
    "\n",
    "my_tuple = (1, 2, 3, 4, 2, 5, 2)\n",
    "element_to_count = 2\n",
    "count_occurrences = my_tuple.count(element_to_count)\n",
    "print(f\"The element {element_to_count} occurs {count_occurrences} times in the tuple.\")"
   ]
  },
  {
   "cell_type": "code",
   "execution_count": null,
   "id": "f94782dc-23ad-4ffd-b88f-80827c0e929b",
   "metadata": {},
   "outputs": [],
   "source": []
  },
  {
   "cell_type": "code",
   "execution_count": 9,
   "id": "7b01500a-832d-4066-8545-0cca2ae9d8b8",
   "metadata": {},
   "outputs": [
    {
     "name": "stdout",
     "output_type": "stream",
     "text": [
      "The index of the first occurrence of 2 is: 1\n"
     ]
    }
   ],
   "source": [
    "#Q5) Find the index of the first occurrence of an element in a tuple.\n",
    "\n",
    "#ANS -\n",
    "\n",
    "my_tuple = (1, 2, 3, 4, 2, 5, 2)\n",
    "element_to_find = 2\n",
    "index_of_first_occurrence = my_tuple.index(element_to_find)\n",
    "print(f\"The index of the first occurrence of {element_to_find} is: {index_of_first_occurrence}\")"
   ]
  },
  {
   "cell_type": "code",
   "execution_count": null,
   "id": "aa226bfa-fb03-44cb-8092-996f732d2e30",
   "metadata": {},
   "outputs": [],
   "source": []
  },
  {
   "cell_type": "code",
   "execution_count": 11,
   "id": "99c40faa-d843-402d-b5bc-2f0f1a736e61",
   "metadata": {},
   "outputs": [
    {
     "name": "stdout",
     "output_type": "stream",
     "text": [
      "The element 3 exists in the tuple.\n"
     ]
    }
   ],
   "source": [
    "#Q6) Check if an element exists in a tuple.\n",
    "\n",
    "#ANS -\n",
    "my_tuple = (1, 2, 3, 4, 5)\n",
    "element_to_check = 3\n",
    "if element_to_check in my_tuple:\n",
    "    print(f\"The element {element_to_check} exists in the tuple.\")\n",
    "else:\n",
    "    print(f\"The element {element_to_check} does not exist in the tuple.\")"
   ]
  },
  {
   "cell_type": "code",
   "execution_count": null,
   "id": "c41ae22f-c246-4041-91c7-5f708df2dbee",
   "metadata": {},
   "outputs": [],
   "source": []
  },
  {
   "cell_type": "code",
   "execution_count": 13,
   "id": "bf387bb1-8eb1-442a-a11d-2c73c0e67361",
   "metadata": {},
   "outputs": [
    {
     "name": "stdout",
     "output_type": "stream",
     "text": [
      "Tuple: (1, 2, 3, 4, 5)\n",
      "List: [1, 2, 3, 4, 5]\n"
     ]
    }
   ],
   "source": [
    "#Q7) Convert a tuple to a list.\n",
    "\n",
    "#ANS -\n",
    "my_tuple = (1, 2, 3, 4, 5)\n",
    "my_list = list(my_tuple)\n",
    "print(\"Tuple:\", my_tuple)\n",
    "print(\"List:\", my_list)"
   ]
  },
  {
   "cell_type": "code",
   "execution_count": null,
   "id": "867d96c7-d444-4836-9ca1-34b9b94f33b8",
   "metadata": {},
   "outputs": [],
   "source": []
  },
  {
   "cell_type": "code",
   "execution_count": 15,
   "id": "613d5e25-1963-4fa3-8f52-1c2f337fde4e",
   "metadata": {},
   "outputs": [
    {
     "name": "stdout",
     "output_type": "stream",
     "text": [
      "List: [1, 2, 3, 4, 5]\n",
      "Tuple: (1, 2, 3, 4, 5)\n"
     ]
    }
   ],
   "source": [
    "#Q8) Convert a list to a tuple.\n",
    "\n",
    "#ANS -\n",
    "my_list = [1, 2, 3, 4, 5]\n",
    "my_tuple = tuple(my_list)\n",
    "print(\"List:\", my_list)\n",
    "print(\"Tuple:\", my_tuple)"
   ]
  },
  {
   "cell_type": "code",
   "execution_count": null,
   "id": "9a03e305-71c2-4dd8-801b-99e62242dff4",
   "metadata": {},
   "outputs": [],
   "source": []
  },
  {
   "cell_type": "code",
   "execution_count": 17,
   "id": "e05a0c75-d9be-4355-b458-85b29b5d18d9",
   "metadata": {},
   "outputs": [
    {
     "name": "stdout",
     "output_type": "stream",
     "text": [
      "Variable 1: 1\n",
      "Variable 2: 2\n",
      "Variable 3: 3\n"
     ]
    }
   ],
   "source": [
    "#Q9) Unpack the elements of a tuple into variables.\n",
    "\n",
    "#ANS -\n",
    "my_tuple = (1, 2, 3)\n",
    "var1, var2, var3 = my_tuple\n",
    "print(\"Variable 1:\", var1)\n",
    "print(\"Variable 2:\", var2)\n",
    "print(\"Variable 3:\", var3)"
   ]
  },
  {
   "cell_type": "code",
   "execution_count": null,
   "id": "19a78719-1ad8-4d20-97b0-7ac26fa81e5c",
   "metadata": {},
   "outputs": [],
   "source": []
  },
  {
   "cell_type": "code",
   "execution_count": 19,
   "id": "55579ae7-d78a-475f-95be-253e74528328",
   "metadata": {},
   "outputs": [
    {
     "name": "stdout",
     "output_type": "stream",
     "text": [
      "(2, 4, 6, 8, 10)\n"
     ]
    }
   ],
   "source": [
    "#Q10) Create a tuple of even numbers from 1 to 10.\n",
    "\n",
    "#ANS -\n",
    "even_numbers_tuple = (2, 4, 6, 8, 10)\n",
    "print(even_numbers_tuple)"
   ]
  },
  {
   "cell_type": "code",
   "execution_count": null,
   "id": "4ecd51d4-41dd-40d9-9e02-bb702864aa73",
   "metadata": {},
   "outputs": [],
   "source": []
  },
  {
   "cell_type": "code",
   "execution_count": 21,
   "id": "2c35b09e-164f-4edf-871e-2ad778bed272",
   "metadata": {},
   "outputs": [
    {
     "name": "stdout",
     "output_type": "stream",
     "text": [
      "(1, 3, 5, 7, 9)\n"
     ]
    }
   ],
   "source": [
    "#Q11) Create a tuple of odd numbers from 1 to 10.\n",
    "\n",
    "#ANS - \n",
    "odd_numbers_tuple = (1, 3, 5, 7, 9)\n",
    "print(odd_numbers_tuple)"
   ]
  },
  {
   "cell_type": "code",
   "execution_count": null,
   "id": "944adb04-6b06-47e8-80b1-d0eb0a0be432",
   "metadata": {},
   "outputs": [],
   "source": []
  },
  {
   "cell_type": "code",
   "execution_count": 23,
   "id": "8191bf28-1d41-40a5-a25a-afe98d42eaf2",
   "metadata": {},
   "outputs": [
    {
     "name": "stdout",
     "output_type": "stream",
     "text": [
      "(1, 2, 3, 4, 5, 6)\n"
     ]
    }
   ],
   "source": [
    "#Q12) Concatenate two tuples.\n",
    "\n",
    "#ans - \n",
    "tuple1 = (1, 2, 3)\n",
    "tuple2 = (4, 5, 6)\n",
    "concatenated_tuple = tuple1 + tuple2\n",
    "print(concatenated_tuple)"
   ]
  },
  {
   "cell_type": "code",
   "execution_count": null,
   "id": "77fa407e-6736-4338-a7ce-40819555c80a",
   "metadata": {},
   "outputs": [],
   "source": []
  },
  {
   "cell_type": "code",
   "execution_count": 25,
   "id": "f8865ddd-b730-4d43-a6ad-3d320d6cf920",
   "metadata": {},
   "outputs": [
    {
     "name": "stdout",
     "output_type": "stream",
     "text": [
      "(1, 2, 3, 1, 2, 3, 1, 2, 3)\n"
     ]
    }
   ],
   "source": [
    "#Q13) Repeat a tuple three times.\n",
    "\n",
    "#aNS -\n",
    "original_tuple = (1, 2, 3)\n",
    "repeated_tuple = original_tuple * 3\n",
    "print(repeated_tuple)"
   ]
  },
  {
   "cell_type": "code",
   "execution_count": null,
   "id": "a0ecccd2-07d8-493f-93c4-b05dff2da463",
   "metadata": {},
   "outputs": [],
   "source": []
  },
  {
   "cell_type": "code",
   "execution_count": 27,
   "id": "ec278a85-4f84-432d-8cf5-d1dcfd151c83",
   "metadata": {},
   "outputs": [
    {
     "name": "stdout",
     "output_type": "stream",
     "text": [
      "The tuple is empty.\n"
     ]
    }
   ],
   "source": [
    "#Q14) Check if a tuple is empty.\n",
    "\n",
    "#ANS - \n",
    "my_empty_tuple = ()\n",
    "if not my_empty_tuple:\n",
    "    print(\"The tuple is empty.\")\n",
    "else:\n",
    "    print(\"The tuple is not empty.\")"
   ]
  },
  {
   "cell_type": "code",
   "execution_count": null,
   "id": "72aa107e-9b41-4ede-98ff-6580e7227a50",
   "metadata": {},
   "outputs": [],
   "source": []
  },
  {
   "cell_type": "code",
   "execution_count": 29,
   "id": "0774f618-e399-43e2-9a95-e9f078d5b750",
   "metadata": {},
   "outputs": [
    {
     "name": "stdout",
     "output_type": "stream",
     "text": [
      "((1, 2, 3), ('a', 'b', 'c'), (True, False))\n"
     ]
    }
   ],
   "source": [
    "#Q15) Create a nested tuple.\n",
    "\n",
    "#ANS -\n",
    "nested_tuple = ((1, 2, 3), ('a', 'b', 'c'), (True, False))\n",
    "print(nested_tuple)"
   ]
  },
  {
   "cell_type": "code",
   "execution_count": null,
   "id": "fda141bb-95c5-4379-85d9-2d4ea41e89ac",
   "metadata": {},
   "outputs": [],
   "source": []
  },
  {
   "cell_type": "code",
   "execution_count": 31,
   "id": "396c093a-94ad-4c17-87a0-117d04c96f33",
   "metadata": {},
   "outputs": [
    {
     "name": "stdout",
     "output_type": "stream",
     "text": [
      "First element of the nested tuple: 1\n"
     ]
    }
   ],
   "source": [
    "#Q16) Access the first element of a nested tuple.\n",
    "\n",
    "#ANS - \n",
    "nested_tuple = ((1, 2, 3), ('a', 'b', 'c'), (True, False))\n",
    "first_element = nested_tuple[0][0]\n",
    "print(\"First element of the nested tuple:\", first_element)"
   ]
  },
  {
   "cell_type": "code",
   "execution_count": null,
   "id": "7e635029-34d4-4ff7-a715-2dbfaee5f59c",
   "metadata": {},
   "outputs": [],
   "source": []
  },
  {
   "cell_type": "code",
   "execution_count": 33,
   "id": "6334ec79-454c-46bd-a4c6-b6a54392f8cd",
   "metadata": {},
   "outputs": [
    {
     "name": "stdout",
     "output_type": "stream",
     "text": [
      "(42,)\n"
     ]
    }
   ],
   "source": [
    "#Q17) Create a tuple with a single element.\n",
    "\n",
    "#ANS  -\n",
    "single_element_tuple = (42,)\n",
    "print(single_element_tuple)"
   ]
  },
  {
   "cell_type": "code",
   "execution_count": null,
   "id": "650f72eb-1538-4c9f-be4e-9cdd13849b95",
   "metadata": {},
   "outputs": [],
   "source": []
  },
  {
   "cell_type": "code",
   "execution_count": 36,
   "id": "64e0c45d-4c7f-4d72-b9d4-fb947cc7a6c9",
   "metadata": {},
   "outputs": [
    {
     "name": "stdout",
     "output_type": "stream",
     "text": [
      "Tuples are not equal\n",
      "Tuple1 is less than Tuple2\n"
     ]
    }
   ],
   "source": [
    "#q18) Compare two tuples.\n",
    "\n",
    "#ANS -\n",
    "tuple1 = (1, 2, 3)\n",
    "tuple2 = (1, 2, 4)\n",
    "if tuple1 == tuple2:\n",
    "    print(\"Tuples are equal\")\n",
    "else:\n",
    "    print(\"Tuples are not equal\")\n",
    "if tuple1 < tuple2:\n",
    "    print(\"Tuple1 is less than Tuple2\")\n",
    "else:\n",
    "    print(\"Tuple1 is not less than Tuple2\")"
   ]
  },
  {
   "cell_type": "code",
   "execution_count": null,
   "id": "a9b1930a-0b26-46d5-803b-123773512bbf",
   "metadata": {},
   "outputs": [],
   "source": []
  },
  {
   "cell_type": "code",
   "execution_count": 38,
   "id": "4227ab2e-1254-47d8-b651-3a444b52e403",
   "metadata": {},
   "outputs": [
    {
     "name": "stdout",
     "output_type": "stream",
     "text": [
      "Original Tuple: (1, 2, 3, 4, 5)\n"
     ]
    }
   ],
   "source": [
    "#Q19) Delete a tuple.\n",
    "\n",
    "#ANS - \n",
    "my_tuple = (1, 2, 3, 4, 5)\n",
    "print(\"Original Tuple:\", my_tuple)\n",
    "del my_tuple"
   ]
  },
  {
   "cell_type": "code",
   "execution_count": null,
   "id": "30baa454-6e3b-4136-9209-bdc0b6c38b5e",
   "metadata": {},
   "outputs": [],
   "source": []
  },
  {
   "cell_type": "code",
   "execution_count": 40,
   "id": "094497cb-978f-424e-b95b-7e2acb1f69e5",
   "metadata": {},
   "outputs": [
    {
     "name": "stdout",
     "output_type": "stream",
     "text": [
      "Original Tuple: (1, 2, 3, 4, 5)\n",
      "Sliced Tuple: (2, 3)\n"
     ]
    }
   ],
   "source": [
    "#Q20) Slice a tuple.\n",
    "\n",
    "#ANS -\n",
    "my_tuple = (1, 2, 3, 4, 5)\n",
    "sliced_tuple = my_tuple[1:3]\n",
    "print(\"Original Tuple:\", my_tuple)\n",
    "print(\"Sliced Tuple:\", sliced_tuple)"
   ]
  },
  {
   "cell_type": "code",
   "execution_count": null,
   "id": "186d560a-4121-4faa-9ffe-007ee682bf3c",
   "metadata": {},
   "outputs": [],
   "source": []
  },
  {
   "cell_type": "code",
   "execution_count": 42,
   "id": "9990ce56-ae23-402c-9d97-537624b95faf",
   "metadata": {},
   "outputs": [
    {
     "name": "stdout",
     "output_type": "stream",
     "text": [
      "Maximum value in the tuple: 9\n"
     ]
    }
   ],
   "source": [
    "#Q21) Find the maximum value in a tuple.\n",
    "\n",
    "#ANS -\n",
    "my_tuple = (4, 8, 1, 6, 3, 9, 2)\n",
    "max_value = max(my_tuple)\n",
    "print(\"Maximum value in the tuple:\", max_value)"
   ]
  },
  {
   "cell_type": "code",
   "execution_count": null,
   "id": "c1e939a8-f4a2-4e0e-8d54-2f5178fb6e0f",
   "metadata": {},
   "outputs": [],
   "source": []
  },
  {
   "cell_type": "code",
   "execution_count": 44,
   "id": "4741862c-5304-4403-9943-dc3e1f00381e",
   "metadata": {},
   "outputs": [
    {
     "name": "stdout",
     "output_type": "stream",
     "text": [
      "Minimum value in the tuple: 1\n"
     ]
    }
   ],
   "source": [
    "#Q22) Find the minimum value in a tuple.\n",
    "\n",
    "#ANS -\n",
    "my_tuple = (4, 8, 1, 6, 3, 9, 2)\n",
    "min_value = min(my_tuple)\n",
    "print(\"Minimum value in the tuple:\", min_value)"
   ]
  },
  {
   "cell_type": "code",
   "execution_count": null,
   "id": "eaf7f073-8b0a-4c2c-b806-eeb658d6e4eb",
   "metadata": {},
   "outputs": [],
   "source": []
  },
  {
   "cell_type": "code",
   "execution_count": 48,
   "id": "d0b5f37a-d017-4d92-886d-7069448e4de0",
   "metadata": {},
   "outputs": [
    {
     "name": "stdout",
     "output_type": "stream",
     "text": [
      "String: hello\n",
      "Tuple of characters: ('h', 'e', 'l', 'l', 'o')\n"
     ]
    }
   ],
   "source": [
    "#q23) Convert a string to a tuple of characters.\n",
    "\n",
    "#ANS -\n",
    "my_string = \"hello\"\n",
    "tuple_of_characters = tuple(my_string)\n",
    "print(\"String:\", my_string)\n",
    "print(\"Tuple of characters:\", tuple_of_characters)"
   ]
  },
  {
   "cell_type": "code",
   "execution_count": 46,
   "id": "92ce4ea4-0854-4c1a-87d9-b62624f263a2",
   "metadata": {},
   "outputs": [],
   "source": []
  },
  {
   "cell_type": "code",
   "execution_count": 50,
   "id": "a3dd999d-d2cc-414a-93fe-97ad91e0713d",
   "metadata": {},
   "outputs": [
    {
     "name": "stdout",
     "output_type": "stream",
     "text": [
      "Tuple of characters: ('h', 'e', 'l', 'l', 'o')\n",
      "String from tuple: hello\n"
     ]
    }
   ],
   "source": [
    "#Q24) Convert a tuple of characters to a string.\n",
    "\n",
    "#ANS - \n",
    "\n",
    "tuple_of_characters = ('h', 'e', 'l', 'l', 'o')\n",
    "string_from_tuple = ''.join(tuple_of_characters)\n",
    "print(\"Tuple of characters:\", tuple_of_characters)\n",
    "print(\"String from tuple:\", string_from_tuple)"
   ]
  },
  {
   "cell_type": "code",
   "execution_count": null,
   "id": "4b014b7d-4c26-497e-b9be-f0b540f90da3",
   "metadata": {},
   "outputs": [],
   "source": []
  },
  {
   "cell_type": "code",
   "execution_count": 52,
   "id": "c23ff807-9373-47b9-b435-c50df0f20eff",
   "metadata": {},
   "outputs": [
    {
     "name": "stdout",
     "output_type": "stream",
     "text": [
      "(1, 'hello', 3.14, True, [1, 2, 3])\n"
     ]
    }
   ],
   "source": [
    "#q25) Create a tuple from multiple data types.\n",
    "\n",
    "#ANS -\n",
    "mixed_tuple = (1, 'hello', 3.14, True, [1, 2, 3])\n",
    "print(mixed_tuple)"
   ]
  },
  {
   "cell_type": "code",
   "execution_count": null,
   "id": "9ee4aa12-a5a2-4be0-91d8-aaf9ba97f142",
   "metadata": {},
   "outputs": [],
   "source": []
  },
  {
   "cell_type": "code",
   "execution_count": 54,
   "id": "8d6cd120-d069-4c2d-91ea-5de68e0913bb",
   "metadata": {},
   "outputs": [
    {
     "name": "stdout",
     "output_type": "stream",
     "text": [
      "(1, 'hello', 3.14, True, [1, 2, 3])\n"
     ]
    }
   ],
   "source": [
    "#Q26) Check if two tuples are identical.\n",
    "\n",
    "#ANS -\n",
    "mixed_tuple = (1, 'hello', 3.14, True, [1, 2, 3])\n",
    "print(mixed_tuple)"
   ]
  },
  {
   "cell_type": "code",
   "execution_count": null,
   "id": "748aa70c-be5f-475c-befd-29d8e06f3637",
   "metadata": {},
   "outputs": [],
   "source": []
  },
  {
   "cell_type": "code",
   "execution_count": 56,
   "id": "772baaf5-faca-47a2-af03-097137efbbc4",
   "metadata": {},
   "outputs": [
    {
     "name": "stdout",
     "output_type": "stream",
     "text": [
      "Original Tuple: (3, 1, 4, 1, 5, 9, 2, 6, 5, 3, 5)\n",
      "Sorted Tuple: (1, 1, 2, 3, 3, 4, 5, 5, 5, 6, 9)\n"
     ]
    }
   ],
   "source": [
    "#Q27) Sort the elements of a tuple.\n",
    "\n",
    "#ANS -\n",
    "original_tuple = (3, 1, 4, 1, 5, 9, 2, 6, 5, 3, 5)\n",
    "sorted_tuple = tuple(sorted(original_tuple))\n",
    "print(\"Original Tuple:\", original_tuple)\n",
    "print(\"Sorted Tuple:\", sorted_tuple)"
   ]
  },
  {
   "cell_type": "code",
   "execution_count": null,
   "id": "f53ce377-fe4a-4d75-800e-1d0e8eaef5b3",
   "metadata": {},
   "outputs": [],
   "source": []
  },
  {
   "cell_type": "code",
   "execution_count": 58,
   "id": "6a72e1de-b5d7-4bf1-929b-31f07b70d372",
   "metadata": {},
   "outputs": [
    {
     "name": "stdout",
     "output_type": "stream",
     "text": [
      "Tuple of Integers: (1, 2, 3, 4, 5)\n",
      "Tuple of Strings: ('1', '2', '3', '4', '5')\n"
     ]
    }
   ],
   "source": [
    "#Q28) Convert a tuple of integers to a tuple of strings.\n",
    "\n",
    "#ANS - \n",
    "tuple_of_integers = (1, 2, 3, 4, 5)\n",
    "tuple_of_strings = tuple(str(i) for i in tuple_of_integers)\n",
    "print(\"Tuple of Integers:\", tuple_of_integers)\n",
    "print(\"Tuple of Strings:\", tuple_of_strings)"
   ]
  },
  {
   "cell_type": "code",
   "execution_count": null,
   "id": "4ef7d569-feb7-4f54-b015-054625016620",
   "metadata": {},
   "outputs": [],
   "source": []
  },
  {
   "cell_type": "code",
   "execution_count": 60,
   "id": "97f38ae5-a524-4ee9-a959-afdc964d8330",
   "metadata": {},
   "outputs": [
    {
     "name": "stdout",
     "output_type": "stream",
     "text": [
      "(1, 2, 3, 4, 5)\n"
     ]
    }
   ],
   "source": [
    "#Q29) Convert a tuple of strings to a tuple of integers.\n",
    "\n",
    "#ANS - \n",
    "tuple_of_strings = ('1', '2', '3', '4', '5')\n",
    "tuple_of_integers = tuple(int(s) for s in tuple_of_strings)\n",
    "print(tuple_of_integers)"
   ]
  },
  {
   "cell_type": "code",
   "execution_count": null,
   "id": "1597d4f8-1c8a-4c17-b0c6-0f1b38bdeef2",
   "metadata": {},
   "outputs": [],
   "source": []
  },
  {
   "cell_type": "code",
   "execution_count": 62,
   "id": "fae4b793-3deb-4ccf-8375-8963dd05fd2c",
   "metadata": {},
   "outputs": [
    {
     "name": "stdout",
     "output_type": "stream",
     "text": [
      "(1, 2, 3, 'a', 'b', 'c')\n"
     ]
    }
   ],
   "source": [
    "#Q30) Merge two tuples.\n",
    "\n",
    "#ANS - \n",
    "tuple1 = (1, 2, 3)\n",
    "tuple2 = ('a', 'b', 'c')\n",
    "merged_tuple = tuple1 + tuple2\n",
    "print(merged_tuple)"
   ]
  },
  {
   "cell_type": "code",
   "execution_count": null,
   "id": "a8b33f9e-0ca9-4178-9ca9-e7ce333872d1",
   "metadata": {},
   "outputs": [],
   "source": []
  },
  {
   "cell_type": "code",
   "execution_count": 64,
   "id": "5847be60-d724-42a6-b8fc-168ff9987120",
   "metadata": {},
   "outputs": [
    {
     "name": "stdout",
     "output_type": "stream",
     "text": [
      "(1, 2, 3, 4, 5, 6, 7, 8, 9)\n"
     ]
    }
   ],
   "source": [
    "#Q31) Flatten a nested tuple.\n",
    "\n",
    "#ans -\n",
    "def flatten_nested_tuple(nested_tuple):\n",
    "    flat_tuple = ()\n",
    "    for item in nested_tuple:\n",
    "        if isinstance(item, tuple):\n",
    "            flat_tuple += flatten_nested_tuple(item)\n",
    "        else:\n",
    "            flat_tuple += (item,)\n",
    "    return flat_tuple\n",
    "nested_tuple = ((1, 2, 3), (4, (5, 6)), 7, (8, 9))\n",
    "flattened_tuple = flatten_nested_tuple(nested_tuple)\n",
    "print(flattened_tuple)"
   ]
  },
  {
   "cell_type": "code",
   "execution_count": null,
   "id": "7bb2d078-a1a9-451f-a6e5-5191b4bce4f3",
   "metadata": {},
   "outputs": [],
   "source": []
  },
  {
   "cell_type": "code",
   "execution_count": 67,
   "id": "713e0cee-a1cd-4e01-b3c8-521bce868187",
   "metadata": {},
   "outputs": [
    {
     "name": "stdout",
     "output_type": "stream",
     "text": [
      "(2, 3, 5, 7, 11)\n"
     ]
    }
   ],
   "source": [
    "#Q32) Create a tuple of the first 5 prime numbers.\n",
    "\n",
    "#ANS -\n",
    "def is_prime(num):\n",
    "    if num < 2:\n",
    "        return False\n",
    "    for i in range(2, int(num**0.5) + 1):\n",
    "        if num % i == 0:\n",
    "            return False\n",
    "    return True\n",
    "count = 0\n",
    "number = 2\n",
    "prime_numbers = []\n",
    "while count < 5:\n",
    "    if is_prime(number):\n",
    "        prime_numbers.append(number)\n",
    "        count += 1\n",
    "    number += 1\n",
    "tuple_of_primes = tuple(prime_numbers)\n",
    "print(tuple_of_primes)"
   ]
  },
  {
   "cell_type": "code",
   "execution_count": null,
   "id": "d78590ce-9309-497a-964a-f0ee88815b52",
   "metadata": {},
   "outputs": [],
   "source": []
  },
  {
   "cell_type": "code",
   "execution_count": 69,
   "id": "e1e91be4-da86-4449-ac68-18bb5ebb443b",
   "metadata": {},
   "outputs": [
    {
     "name": "stdout",
     "output_type": "stream",
     "text": [
      "The tuple is a palindrome.\n"
     ]
    }
   ],
   "source": [
    "#Q33) Check if a tuple is a palindrome.\n",
    "\n",
    "#ans - \n",
    "def is_palindrome(t):\n",
    "    return t == t[::-1]\n",
    "example_tuple = (1, 2, 3, 4, 3, 2, 1)\n",
    "result = is_palindrome(example_tuple)\n",
    "if result:\n",
    "    print(\"The tuple is a palindrome.\")\n",
    "else:\n",
    "    print(\"The tuple is not a palindrome.\")"
   ]
  },
  {
   "cell_type": "code",
   "execution_count": null,
   "id": "4ed09f19-4b99-4ff6-94d7-d30211c937a5",
   "metadata": {},
   "outputs": [],
   "source": []
  },
  {
   "cell_type": "code",
   "execution_count": 71,
   "id": "9c99cb25-eeaa-4497-9fb5-b16141ce629a",
   "metadata": {},
   "outputs": [
    {
     "name": "stdout",
     "output_type": "stream",
     "text": [
      "(1, 4, 9, 16, 25)\n"
     ]
    }
   ],
   "source": [
    "#Q34) Create a tuple of squares of numbers from 1 to 5.\n",
    "\n",
    "#ANS - \n",
    "tuple_of_squares = tuple(x**2 for x in range(1, 6))\n",
    "print(tuple_of_squares)"
   ]
  },
  {
   "cell_type": "code",
   "execution_count": null,
   "id": "16dbbfdd-8da1-427e-b41a-b33d31791d89",
   "metadata": {},
   "outputs": [],
   "source": []
  },
  {
   "cell_type": "code",
   "execution_count": 73,
   "id": "7d590118-0ccc-4532-9091-be0026a2df3d",
   "metadata": {},
   "outputs": [
    {
     "name": "stdout",
     "output_type": "stream",
     "text": [
      "(1, 3, 5, 7, 9)\n"
     ]
    }
   ],
   "source": [
    "#Q35) Filter out all even numbers from a tuple.\n",
    "\n",
    "#ANS - \n",
    "original_tuple = (1, 2, 3, 4, 5, 6, 7, 8, 9, 10)\n",
    "filtered_tuple = tuple(x for x in original_tuple if x % 2 != 0)\n",
    "print(filtered_tuple)"
   ]
  },
  {
   "cell_type": "code",
   "execution_count": null,
   "id": "774b9f15-1233-4e52-997a-757f6992dfa7",
   "metadata": {},
   "outputs": [],
   "source": []
  },
  {
   "cell_type": "code",
   "execution_count": 75,
   "id": "c06050b5-e207-4f33-b25d-e11357b5dc0d",
   "metadata": {},
   "outputs": [
    {
     "name": "stdout",
     "output_type": "stream",
     "text": [
      "(2, 4, 6, 8, 10)\n"
     ]
    }
   ],
   "source": [
    "#Q36) Multiply all elements in a tuple by 2.\n",
    "\n",
    "#ANS - \n",
    "original_tuple = (1, 2, 3, 4, 5)\n",
    "multiplied_tuple = tuple(x * 2 for x in original_tuple)\n",
    "print(multiplied_tuple)"
   ]
  },
  {
   "cell_type": "code",
   "execution_count": null,
   "id": "fa5c8d46-46cf-4165-8d88-b4923096dedf",
   "metadata": {},
   "outputs": [],
   "source": []
  },
  {
   "cell_type": "code",
   "execution_count": 77,
   "id": "11466d67-4e63-4a28-ba71-816efcd0f3c8",
   "metadata": {},
   "outputs": [
    {
     "name": "stdout",
     "output_type": "stream",
     "text": [
      "(73, 65, 44, 21, 85)\n"
     ]
    }
   ],
   "source": [
    "#Q37) Create a tuple of random numbers.\n",
    "\n",
    "#ANS - \n",
    "import random\n",
    "random_tuple = tuple(random.randint(1, 100) for _ in range(5))\n",
    "print(random_tuple)"
   ]
  },
  {
   "cell_type": "code",
   "execution_count": null,
   "id": "00ecfcc2-94c7-4e42-b6ca-cfbb39997540",
   "metadata": {},
   "outputs": [],
   "source": []
  },
  {
   "cell_type": "code",
   "execution_count": 79,
   "id": "13fe730d-7d71-45be-bbcf-950aa423170a",
   "metadata": {},
   "outputs": [
    {
     "name": "stdout",
     "output_type": "stream",
     "text": [
      "The tuple is sorted.\n"
     ]
    }
   ],
   "source": [
    "#Q38) Check if a tuple is sorted.\n",
    "\n",
    "#ANS -\n",
    "def is_sorted(t):\n",
    "    return t == tuple(sorted(t))\n",
    "sorted_tuple = (1, 2, 3, 4, 5)\n",
    "result = is_sorted(sorted_tuple)\n",
    "if result:\n",
    "    print(\"The tuple is sorted.\")\n",
    "else:\n",
    "    print(\"The tuple is not sorted.\")"
   ]
  },
  {
   "cell_type": "code",
   "execution_count": null,
   "id": "260ad72d-6025-4065-b7fa-0b5ef99a271d",
   "metadata": {},
   "outputs": [],
   "source": []
  },
  {
   "cell_type": "code",
   "execution_count": 81,
   "id": "b6be6589-205f-4225-93ff-014cf2c01317",
   "metadata": {},
   "outputs": [
    {
     "name": "stdout",
     "output_type": "stream",
     "text": [
      "(3, 4, 5, 1, 2)\n"
     ]
    }
   ],
   "source": [
    "#Q39) Rotate a tuple to the left by `n` positions.\n",
    "\n",
    "#ANS - \n",
    "def rotate_left(t, n):\n",
    "    n = n % len(t)  \n",
    "    return t[n:] + t[:n]\n",
    "original_tuple = (1, 2, 3, 4, 5)\n",
    "rotated_tuple = rotate_left(original_tuple, 2)\n",
    "print(rotated_tuple)"
   ]
  },
  {
   "cell_type": "code",
   "execution_count": null,
   "id": "e0eecd29-3a28-4a68-89fe-4beb5710ba91",
   "metadata": {},
   "outputs": [],
   "source": []
  },
  {
   "cell_type": "code",
   "execution_count": 83,
   "id": "81edfff3-aa8a-4196-811d-a2a0ce19255a",
   "metadata": {},
   "outputs": [
    {
     "name": "stdout",
     "output_type": "stream",
     "text": [
      "(4, 5, 1, 2, 3)\n"
     ]
    }
   ],
   "source": [
    "#Q40) Rotate a tuple to the right by `n` positions.\n",
    "\n",
    "#ANS - \n",
    "def rotate_right(t, n):\n",
    "    n = n % len(t)  \n",
    "    return t[-n:] + t[:-n]\n",
    "original_tuple = (1, 2, 3, 4, 5)\n",
    "rotated_tuple = rotate_right(original_tuple, 2)\n",
    "print(rotated_tuple)"
   ]
  },
  {
   "cell_type": "code",
   "execution_count": null,
   "id": "50964e17-418f-466f-bb74-48657b33a021",
   "metadata": {},
   "outputs": [],
   "source": []
  },
  {
   "cell_type": "code",
   "execution_count": 85,
   "id": "115a3e62-498d-46d4-82e9-2626d70335e0",
   "metadata": {},
   "outputs": [
    {
     "name": "stdout",
     "output_type": "stream",
     "text": [
      "(0, 1, 1, 2, 3)\n"
     ]
    }
   ],
   "source": [
    "#Q41)   Create a tuple of the first 5 Fibonacci numbers.\n",
    "\n",
    "#ANS - \n",
    "def generate_fibonacci(n):\n",
    "    fibonacci_numbers = [0, 1]\n",
    "    while len(fibonacci_numbers) < n:\n",
    "        next_number = fibonacci_numbers[-1] + fibonacci_numbers[-2]\n",
    "        fibonacci_numbers.append(next_number)\n",
    "    return tuple(fibonacci_numbers[:n])\n",
    "fibonacci_tuple = generate_fibonacci(5)\n",
    "print(fibonacci_tuple)"
   ]
  },
  {
   "cell_type": "code",
   "execution_count": null,
   "id": "4b6b7cc0-1665-4003-b827-a85f009f4157",
   "metadata": {},
   "outputs": [],
   "source": []
  },
  {
   "cell_type": "code",
   "execution_count": 88,
   "id": "77130f55-c0c3-438e-ba1d-7abc2f9a555a",
   "metadata": {},
   "outputs": [
    {
     "name": "stdin",
     "output_type": "stream",
     "text": [
      "Enter elements separated by commas:  \n"
     ]
    },
    {
     "name": "stdout",
     "output_type": "stream",
     "text": [
      "Error: Please enter valid integers separated by commas.\n"
     ]
    }
   ],
   "source": [
    "#Q42 ) Create a tuple from user input.\n",
    "\n",
    "#ans -\n",
    "user_input_str = input(\"Enter elements separated by commas: \")\n",
    "elements_list = user_input_str.split(',')\n",
    "try:\n",
    "    user_tuple = tuple(map(int, elements_list))\n",
    "    print(\"Tuple created:\", user_tuple)\n",
    "except ValueError:\n",
    "    print(\"Error: Please enter valid integers separated by commas.\")\n"
   ]
  },
  {
   "cell_type": "code",
   "execution_count": null,
   "id": "8a9c81fa-a0c3-43e5-aa5b-8b50900bc600",
   "metadata": {},
   "outputs": [],
   "source": []
  },
  {
   "cell_type": "code",
   "execution_count": 90,
   "id": "95a35782-10e1-459c-a892-7a4d8273d894",
   "metadata": {},
   "outputs": [
    {
     "name": "stdout",
     "output_type": "stream",
     "text": [
      "(1, 4, 3, 2, 5)\n"
     ]
    }
   ],
   "source": [
    "#Q43) Swap two elements in a tuple.\n",
    "\n",
    "#ans -\n",
    "def swap_elements(t, i, j):\n",
    "    temp_list = list(t)\n",
    "    temp_list[i], temp_list[j] = temp_list[j], temp_list[i]\n",
    "    return tuple(temp_list)\n",
    "original_tuple = (1, 2, 3, 4, 5)\n",
    "swapped_tuple = swap_elements(original_tuple, 1, 3)\n",
    "print(swapped_tuple)"
   ]
  },
  {
   "cell_type": "code",
   "execution_count": null,
   "id": "492a5d37-5f9f-44e3-b009-52b6d686bbb6",
   "metadata": {},
   "outputs": [],
   "source": []
  },
  {
   "cell_type": "code",
   "execution_count": 92,
   "id": "2c247d31-a836-4362-9d7a-dd8c09423f2f",
   "metadata": {},
   "outputs": [
    {
     "name": "stdout",
     "output_type": "stream",
     "text": [
      "(5, 4, 3, 2, 1)\n"
     ]
    }
   ],
   "source": [
    "#Q44) Reverse the elements of a tuple.\n",
    "\n",
    "#ANS -\n",
    "def reverse_tuple(t):\n",
    "    return t[::-1]\n",
    "original_tuple = (1, 2, 3, 4, 5)\n",
    "reversed_tuple = reverse_tuple(original_tuple)\n",
    "print(reversed_tuple)"
   ]
  },
  {
   "cell_type": "code",
   "execution_count": null,
   "id": "5ba011c2-34e7-4c71-8390-ad68e37e6e3d",
   "metadata": {},
   "outputs": [],
   "source": []
  },
  {
   "cell_type": "code",
   "execution_count": 94,
   "id": "f6b3da7c-ca7d-4018-b451-133e623de2f5",
   "metadata": {},
   "outputs": [
    {
     "name": "stdout",
     "output_type": "stream",
     "text": [
      "(1, 2, 4, 8, 16)\n"
     ]
    }
   ],
   "source": [
    "#Q45) Create a tuple of the first `n` powers of 2.\n",
    "\n",
    "#ans -\n",
    "def generate_powers_of_2(n):\n",
    "    return tuple(2 ** i for i in range(n))\n",
    "powers_of_2_tuple = generate_powers_of_2(5)\n",
    "print(powers_of_2_tuple)"
   ]
  },
  {
   "cell_type": "code",
   "execution_count": null,
   "id": "6f67b060-cc95-4231-947b-2fd795351894",
   "metadata": {},
   "outputs": [],
   "source": []
  },
  {
   "cell_type": "code",
   "execution_count": 97,
   "id": "106a8c84-a85c-4ccf-ad60-13cc15a8f7bd",
   "metadata": {},
   "outputs": [
    {
     "name": "stdout",
     "output_type": "stream",
     "text": [
      "The longest string is: strawberry\n"
     ]
    }
   ],
   "source": [
    "#Q46) Find the longest string in a tuple of strings.\n",
    "\n",
    "#ANS - \n",
    "tuple_of_strings = ('apple', 'banana', 'orange', 'strawberry', 'kiwi')\n",
    "longest_string = max(tuple_of_strings, key=len)\n",
    "print(\"The longest string is:\", longest_string)"
   ]
  },
  {
   "cell_type": "code",
   "execution_count": null,
   "id": "36c9011e-36a7-4a93-8ec1-01cb0cc885a0",
   "metadata": {},
   "outputs": [],
   "source": []
  },
  {
   "cell_type": "code",
   "execution_count": 99,
   "id": "8aba5db4-9acf-4dfe-a6bf-d9e30ca9ac47",
   "metadata": {},
   "outputs": [
    {
     "name": "stdout",
     "output_type": "stream",
     "text": [
      "The shortest string is: kiwi\n"
     ]
    }
   ],
   "source": [
    "#Q47) Find the shortest string in a tuple of strings.\n",
    "\n",
    "#ans -\n",
    "tuple_of_strings = ('apple', 'banana', 'orange', 'strawberry', 'kiwi')\n",
    "shortest_string = min(tuple_of_strings, key=len)\n",
    "print(\"The shortest string is:\", shortest_string)"
   ]
  },
  {
   "cell_type": "code",
   "execution_count": null,
   "id": "539f5914-8793-4146-8868-858cc6798936",
   "metadata": {},
   "outputs": [],
   "source": []
  },
  {
   "cell_type": "code",
   "execution_count": 101,
   "id": "d7fcb839-99b1-47c1-969e-28004cf0c037",
   "metadata": {},
   "outputs": [
    {
     "name": "stdout",
     "output_type": "stream",
     "text": [
      "(1, 3, 6, 10, 15)\n"
     ]
    }
   ],
   "source": [
    "#Q48) Create a tuple of the first `n` triangular numbers.\n",
    "\n",
    "#ANS - \n",
    "def generate_triangular_numbers(n):\n",
    "    return tuple((i * (i + 1)) // 2 for i in range(1, n + 1))\n",
    "triangular_numbers_tuple = generate_triangular_numbers(5)\n",
    "print(triangular_numbers_tuple)"
   ]
  },
  {
   "cell_type": "code",
   "execution_count": null,
   "id": "d117c11b-37c0-4a06-9583-bace2a4478de",
   "metadata": {},
   "outputs": [],
   "source": []
  },
  {
   "cell_type": "code",
   "execution_count": 103,
   "id": "c142807c-cbf0-47d9-8e24-06b43d4546ca",
   "metadata": {},
   "outputs": [
    {
     "name": "stdout",
     "output_type": "stream",
     "text": [
      "The subsequence is present in the larger tuple.\n"
     ]
    }
   ],
   "source": [
    "#Q49) check if a tuple contains another tuple as a subsequence \n",
    "\n",
    "#ANS -\n",
    "def is_subsequence(subseq, sequence):\n",
    "    subseq_len = len(subseq)\n",
    "    sequence_len = len(sequence)\n",
    "\n",
    "    if subseq_len > sequence_len:\n",
    "        return False\n",
    "\n",
    "    for i in range(sequence_len - subseq_len + 1):\n",
    "        if sequence[i:i + subseq_len] == subseq:\n",
    "            return True\n",
    "\n",
    "    return False\n",
    "larger_tuple = (1, 2, 3, 4, 5, 6, 7, 8)\n",
    "subsequence_tuple = (3, 4, 5)\n",
    "result = is_subsequence(subsequence_tuple, larger_tuple)\n",
    "if result:\n",
    "    print(\"The subsequence is present in the larger tuple.\")\n",
    "else:\n",
    "    print(\"The subsequence is not present in the larger tuple.\")"
   ]
  },
  {
   "cell_type": "code",
   "execution_count": null,
   "id": "fed2d75d-9995-46f3-a309-438e8a6b0a95",
   "metadata": {},
   "outputs": [],
   "source": []
  },
  {
   "cell_type": "code",
   "execution_count": 105,
   "id": "ee7c93bd-4157-4f96-aeee-24a6314417f3",
   "metadata": {},
   "outputs": [
    {
     "name": "stdout",
     "output_type": "stream",
     "text": [
      "(1, 0, 1, 0, 1, 0, 1, 0, 1, 0)\n"
     ]
    }
   ],
   "source": [
    "#Q50)  craete a tuple of alternating 1s and 0s of lwngth n\n",
    "\n",
    "#ANS - \n",
    "def alternating_ones_zeros(n):\n",
    "    return tuple(1 if i % 2 == 0 else 0 for i in range(n))\n",
    "result_tuple = alternating_ones_zeros(10)\n",
    "print(result_tuple)"
   ]
  },
  {
   "cell_type": "code",
   "execution_count": null,
   "id": "8471f7b7-4b6f-46ba-848e-a07888764cf3",
   "metadata": {},
   "outputs": [],
   "source": []
  },
  {
   "cell_type": "code",
   "execution_count": 106,
   "id": "ea0cfd80-3e78-463d-ba26-17caec5bb8b6",
   "metadata": {},
   "outputs": [],
   "source": [
    "                     #   Set Based Practice Problem :"
   ]
  },
  {
   "cell_type": "code",
   "execution_count": null,
   "id": "7a9f425c-34f6-401a-9867-76711971c6e8",
   "metadata": {},
   "outputs": [],
   "source": []
  },
  {
   "cell_type": "code",
   "execution_count": 2,
   "id": "01c1bae3-0ffc-4767-91fa-ea98718b2ef8",
   "metadata": {},
   "outputs": [],
   "source": [
    "#Q1) Create a set with integers from 1 to 5.\n",
    "\n",
    "#ANS -\n",
    "my_set = {1, 2, 3, 4, 5}"
   ]
  },
  {
   "cell_type": "code",
   "execution_count": null,
   "id": "4bf4de08-61ee-4c5c-b328-96605867f8f9",
   "metadata": {},
   "outputs": [],
   "source": []
  },
  {
   "cell_type": "code",
   "execution_count": 4,
   "id": "60aa20c8-843d-45df-a0b5-5599277aaba6",
   "metadata": {},
   "outputs": [
    {
     "name": "stdout",
     "output_type": "stream",
     "text": [
      "{1, 2, 3, 4, 5, 6}\n"
     ]
    }
   ],
   "source": [
    "#Q2)  Add an element to a set.\n",
    "\n",
    "#ANS - \n",
    "my_set = {1, 2, 3, 4, 5}\n",
    "my_set.add(6)\n",
    "print(my_set)"
   ]
  },
  {
   "cell_type": "code",
   "execution_count": null,
   "id": "9dee73b2-07cf-41ea-8c6d-667fb7ab1d02",
   "metadata": {},
   "outputs": [],
   "source": []
  },
  {
   "cell_type": "code",
   "execution_count": 6,
   "id": "4ce78b70-3425-4921-a5ba-370da66b967d",
   "metadata": {},
   "outputs": [
    {
     "name": "stdout",
     "output_type": "stream",
     "text": [
      "{1, 2, 4, 5}\n"
     ]
    }
   ],
   "source": [
    "#Q3)\n",
    "\n",
    "#ANS -\n",
    "my_set = {1, 2, 3, 4, 5}\n",
    "my_set.remove(3)\n",
    "print(my_set)"
   ]
  },
  {
   "cell_type": "code",
   "execution_count": null,
   "id": "27a0b4c9-0408-44ee-b1d6-97d3191a5b06",
   "metadata": {},
   "outputs": [],
   "source": []
  },
  {
   "cell_type": "code",
   "execution_count": 8,
   "id": "53f15721-ea57-4591-95f2-9d95b8ab79ac",
   "metadata": {},
   "outputs": [
    {
     "name": "stdout",
     "output_type": "stream",
     "text": [
      "3 exists in the set.\n"
     ]
    }
   ],
   "source": [
    "#Q4) Check if an element exists in a set\n",
    "\n",
    "#ANS - \n",
    "my_set = {1, 2, 3, 4, 5}\n",
    "element_to_check = 3\n",
    "if element_to_check in my_set:\n",
    "    print(f\"{element_to_check} exists in the set.\")\n",
    "else:\n",
    "    print(f\"{element_to_check} does not exist in the set.\")"
   ]
  },
  {
   "cell_type": "code",
   "execution_count": null,
   "id": "a625f08b-be09-45bc-a7de-253cfa1c4488",
   "metadata": {},
   "outputs": [],
   "source": []
  },
  {
   "cell_type": "code",
   "execution_count": 10,
   "id": "bf706f32-3ea6-459a-972b-9f516dcd4b9c",
   "metadata": {},
   "outputs": [
    {
     "name": "stdout",
     "output_type": "stream",
     "text": [
      "Length of the set: 5\n"
     ]
    }
   ],
   "source": [
    "#Q5) Find the length of a set without using the `len()` function.\n",
    "\n",
    "#ANS -\n",
    "my_set = {1, 2, 3, 4, 5}\n",
    "set_length = 0\n",
    "for _ in my_set:\n",
    "    set_length += 1\n",
    "print(\"Length of the set:\", set_length)"
   ]
  },
  {
   "cell_type": "code",
   "execution_count": null,
   "id": "5761d68a-709f-4584-b8d7-8dd05808fcde",
   "metadata": {},
   "outputs": [],
   "source": []
  },
  {
   "cell_type": "code",
   "execution_count": 12,
   "id": "f99fb457-3251-4d23-b384-1cc6a17525f5",
   "metadata": {},
   "outputs": [
    {
     "name": "stdout",
     "output_type": "stream",
     "text": [
      "Set after clearing: set()\n"
     ]
    }
   ],
   "source": [
    "#q6) Clear all elements from a set\n",
    "\n",
    "#ANS - \n",
    "my_set = {1, 2, 3, 4, 5}\n",
    "my_set.clear()\n",
    "print(\"Set after clearing:\", my_set)"
   ]
  },
  {
   "cell_type": "code",
   "execution_count": null,
   "id": "faace0f4-99ef-4803-abd4-4f86a3cfcc77",
   "metadata": {},
   "outputs": [],
   "source": []
  },
  {
   "cell_type": "code",
   "execution_count": 14,
   "id": "2f2dbcb0-db50-4cc9-bcb7-9c4eefe1b635",
   "metadata": {},
   "outputs": [],
   "source": [
    "#Q7) Create a set of even numbers from 1 to 10.\n",
    "\n",
    "#ans - \n",
    "even_numbers_set = {x for x in range(1, 11) if x % 2 == 0}"
   ]
  },
  {
   "cell_type": "code",
   "execution_count": null,
   "id": "7587fbda-6e61-484f-8cf8-579c8eca7364",
   "metadata": {},
   "outputs": [],
   "source": []
  },
  {
   "cell_type": "code",
   "execution_count": 16,
   "id": "7bea826f-8227-481e-8a98-d2223dc12d34",
   "metadata": {},
   "outputs": [],
   "source": [
    "#Q8) Create a set of odd numbers from 1 to 10.\n",
    "\n",
    "#ANS -\n",
    "odd_numbers_set = {x for x in range(1, 11) if x % 2 != 0}"
   ]
  },
  {
   "cell_type": "code",
   "execution_count": null,
   "id": "5dae1a6f-1d09-4a76-ae35-c648282a0079",
   "metadata": {},
   "outputs": [],
   "source": []
  },
  {
   "cell_type": "code",
   "execution_count": 19,
   "id": "873edf14-4942-4910-8564-d2e083ba24bd",
   "metadata": {},
   "outputs": [
    {
     "ename": "NameError",
     "evalue": "name 'set1' is not defined",
     "output_type": "error",
     "traceback": [
      "\u001b[1;31m---------------------------------------------------------------------------\u001b[0m",
      "\u001b[1;31mNameError\u001b[0m                                 Traceback (most recent call last)",
      "Cell \u001b[1;32mIn[19], line 5\u001b[0m\n\u001b[0;32m      1\u001b[0m \u001b[38;5;66;03m#Q9) Find the union of two sets.\u001b[39;00m\n\u001b[0;32m      2\u001b[0m \n\u001b[0;32m      3\u001b[0m \u001b[38;5;66;03m#ANS -\u001b[39;00m\n\u001b[0;32m      4\u001b[0m set2 \u001b[38;5;241m=\u001b[39m {\u001b[38;5;241m4\u001b[39m, \u001b[38;5;241m5\u001b[39m, \u001b[38;5;241m6\u001b[39m, \u001b[38;5;241m7\u001b[39m, \u001b[38;5;241m8\u001b[39m}\n\u001b[1;32m----> 5\u001b[0m union_set \u001b[38;5;241m=\u001b[39m \u001b[43mset1\u001b[49m\u001b[38;5;241m.\u001b[39munion(set2)\n\u001b[0;32m      6\u001b[0m \u001b[38;5;28mprint\u001b[39m(\u001b[38;5;124m\"\u001b[39m\u001b[38;5;124mUnion of set1 and set2:\u001b[39m\u001b[38;5;124m\"\u001b[39m, union_set)\n",
      "\u001b[1;31mNameError\u001b[0m: name 'set1' is not defined"
     ]
    }
   ],
   "source": [
    "#Q9) Find the union of two sets.\n",
    "\n",
    "#ANS -\n",
    "set2 = {4, 5, 6, 7, 8}\n",
    "union_set = set1.union(set2)\n",
    "print(\"Union of set1 and set2:\", union_set)"
   ]
  },
  {
   "cell_type": "code",
   "execution_count": null,
   "id": "e180a081-647f-405f-9fd6-e6fb7fa12af6",
   "metadata": {},
   "outputs": [],
   "source": []
  },
  {
   "cell_type": "code",
   "execution_count": 21,
   "id": "01885240-cc0b-4a81-bc6a-e88cf3d9934d",
   "metadata": {},
   "outputs": [
    {
     "name": "stdout",
     "output_type": "stream",
     "text": [
      "Intersection of set1 and set2: {4, 5}\n"
     ]
    }
   ],
   "source": [
    "#Q10) . Find the intersection of two sets.\n",
    "\n",
    "#ANS _ \n",
    "set1 = {1, 2, 3, 4, 5}\n",
    "set2 = {4, 5, 6, 7, 8}\n",
    "intersection_set = set1.intersection(set2)\n",
    "print(\"Intersection of set1 and set2:\", intersection_set)"
   ]
  },
  {
   "cell_type": "code",
   "execution_count": null,
   "id": "6392e641-cf69-4034-b017-f9cbe71c3fa5",
   "metadata": {},
   "outputs": [],
   "source": []
  },
  {
   "cell_type": "code",
   "execution_count": 23,
   "id": "5d7316bc-2cbb-44a3-b740-d0b09c25f390",
   "metadata": {},
   "outputs": [
    {
     "name": "stdout",
     "output_type": "stream",
     "text": [
      "Difference between set1 and set2: {1, 2, 3}\n"
     ]
    }
   ],
   "source": [
    "#Q11) Find the difference between two sets.\n",
    "\n",
    "#ANS -\n",
    "set1 = {1, 2, 3, 4, 5}\n",
    "set2 = {4, 5, 6, 7, 8}\n",
    "difference_set = set1.difference(set2)\n",
    "print(\"Difference between set1 and set2:\", difference_set)"
   ]
  },
  {
   "cell_type": "code",
   "execution_count": null,
   "id": "cdc7a081-fe4f-4293-a903-ce34e9dae846",
   "metadata": {},
   "outputs": [],
   "source": []
  },
  {
   "cell_type": "code",
   "execution_count": 25,
   "id": "6bdc4b0c-ec62-4978-8788-da52ebe4a2cf",
   "metadata": {},
   "outputs": [
    {
     "name": "stdout",
     "output_type": "stream",
     "text": [
      "set2 is a subset of set1\n"
     ]
    }
   ],
   "source": [
    "#Q12) Check if a set is a subset of another set\n",
    "\n",
    "#ANS - \n",
    "set1 = {1, 2, 3, 4, 5}\n",
    "set2 = {2, 4}\n",
    "is_subset = set2.issubset(set1)\n",
    "if is_subset:\n",
    "    print(\"set2 is a subset of set1\")\n",
    "else:\n",
    "    print(\"set2 is not a subset of set1\")"
   ]
  },
  {
   "cell_type": "code",
   "execution_count": null,
   "id": "1d78ac93-69a1-4207-9b72-8dc4fc7ac11b",
   "metadata": {},
   "outputs": [],
   "source": []
  },
  {
   "cell_type": "code",
   "execution_count": 27,
   "id": "b75e5b08-99f6-4bb7-8523-6649e702541f",
   "metadata": {},
   "outputs": [
    {
     "name": "stdout",
     "output_type": "stream",
     "text": [
      "set1 is a superset of set2\n"
     ]
    }
   ],
   "source": [
    "#Q13) . Check if a set is a superset of another set\n",
    "\n",
    "#ANS -\n",
    "set1 = {1, 2, 3, 4, 5}\n",
    "set2 = {2, 4}\n",
    "is_superset = set1.issuperset(set2)\n",
    "if is_superset:\n",
    "    print(\"set1 is a superset of set2\")\n",
    "else:\n",
    "    print(\"set1 is not a superset of set2\")"
   ]
  },
  {
   "cell_type": "code",
   "execution_count": null,
   "id": "75d2f557-b73a-4c0f-a2ac-805ec497655f",
   "metadata": {},
   "outputs": [],
   "source": []
  },
  {
   "cell_type": "code",
   "execution_count": 29,
   "id": "28b8645f-c5d6-4031-bc30-326d011a77b7",
   "metadata": {},
   "outputs": [
    {
     "name": "stdout",
     "output_type": "stream",
     "text": [
      "Set from list: {1, 2, 3, 4, 5}\n"
     ]
    }
   ],
   "source": [
    "#Q14) . Create a set from a list.\n",
    "\n",
    "#ANS - \n",
    "my_list = [1, 2, 3, 4, 5]\n",
    "my_set = set(my_list)\n",
    "print(\"Set from list:\", my_set)"
   ]
  },
  {
   "cell_type": "code",
   "execution_count": null,
   "id": "22fe2964-7824-4355-8bcd-cccf0e4ab437",
   "metadata": {},
   "outputs": [],
   "source": []
  },
  {
   "cell_type": "code",
   "execution_count": 31,
   "id": "33b10275-4c35-406b-9b78-21a471b27fe1",
   "metadata": {},
   "outputs": [
    {
     "name": "stdout",
     "output_type": "stream",
     "text": [
      "List from set: [1, 2, 3, 4, 5]\n"
     ]
    }
   ],
   "source": [
    "#Q15)  Convert a set to a list.\n",
    "\n",
    "#ANS - \n",
    "my_set = {1, 2, 3, 4, 5}\n",
    "my_list = list(my_set)\n",
    "print(\"List from set:\", my_list)"
   ]
  },
  {
   "cell_type": "code",
   "execution_count": null,
   "id": "1fa9a3ef-2df5-4245-8224-018d02cd30ba",
   "metadata": {},
   "outputs": [],
   "source": []
  },
  {
   "cell_type": "code",
   "execution_count": 33,
   "id": "daedecaf-9dab-4cbe-b0f1-e7ba0dba9e08",
   "metadata": {},
   "outputs": [
    {
     "name": "stdout",
     "output_type": "stream",
     "text": [
      "Removed element: 2\n",
      "Set after removal: {3, 4, 5}\n"
     ]
    }
   ],
   "source": [
    "#Q16) Remove a random element from a set.\n",
    "\n",
    "\n",
    "#ANS - my_set = {1, 2, 3, 4, 5}\n",
    "removed_element = my_set.pop()\n",
    "\n",
    "print(\"Removed element:\", removed_element)\n",
    "print(\"Set after removal:\", my_set)\n"
   ]
  },
  {
   "cell_type": "code",
   "execution_count": null,
   "id": "50d0dd40-f2e3-401c-8466-655eccf833df",
   "metadata": {},
   "outputs": [],
   "source": []
  },
  {
   "cell_type": "code",
   "execution_count": 35,
   "id": "75843c2c-e44b-4cd4-9a0e-a83bf981049e",
   "metadata": {},
   "outputs": [
    {
     "name": "stdout",
     "output_type": "stream",
     "text": [
      "Popped element: 1\n",
      "Set after pop: {2, 3, 4, 5}\n"
     ]
    }
   ],
   "source": [
    "#Q17) Pop an element from a set\n",
    "\n",
    "#ANS -\n",
    "my_set = {1, 2, 3, 4, 5}\n",
    "popped_element = my_set.pop()\n",
    "\n",
    "print(\"Popped element:\", popped_element)\n",
    "print(\"Set after pop:\", my_set)\n"
   ]
  },
  {
   "cell_type": "code",
   "execution_count": null,
   "id": "68969e49-503f-424e-a558-8bb2ed6670ea",
   "metadata": {},
   "outputs": [],
   "source": []
  },
  {
   "cell_type": "code",
   "execution_count": 37,
   "id": "0d4f8e38-b1d8-4499-b816-49b97afc1394",
   "metadata": {},
   "outputs": [
    {
     "name": "stdout",
     "output_type": "stream",
     "text": [
      "Sets have no elements in common.\n"
     ]
    }
   ],
   "source": [
    "#Q18) Check if two sets have no elements in common\n",
    "\n",
    "#ANS -\n",
    "set1 = {1, 2, 3, 4}\n",
    "set2 = {5, 6, 7, 8}\n",
    "are_disjoint = set1.isdisjoint(set2)\n",
    "\n",
    "if are_disjoint:\n",
    "    print(\"Sets have no elements in common.\")\n",
    "else:\n",
    "    print(\"Sets have elements in common.\")\n"
   ]
  },
  {
   "cell_type": "code",
   "execution_count": null,
   "id": "c6378842-d1c4-455b-870c-93b35fefb27d",
   "metadata": {},
   "outputs": [],
   "source": []
  },
  {
   "cell_type": "code",
   "execution_count": 39,
   "id": "d8688e83-3fec-480e-bf05-e276295735e6",
   "metadata": {},
   "outputs": [
    {
     "name": "stdout",
     "output_type": "stream",
     "text": [
      "Symmetric difference between set1 and set2: {1, 2, 3, 5, 6, 7, 8}\n"
     ]
    }
   ],
   "source": [
    "#Q19)9. Find the symmetric difference between two sets.\n",
    "\n",
    "#ANS - set1 = {1, 2, 3, 4, 5}\n",
    "set2 = {4, 5, 6, 7, 8}\n",
    "symmetric_difference_set = set1.symmetric_difference(set2)\n",
    "\n",
    "print(\"Symmetric difference between set1 and set2:\", symmetric_difference_set)\n",
    " "
   ]
  },
  {
   "cell_type": "code",
   "execution_count": null,
   "id": "c28e5a4f-b32f-4bb0-9a2e-73910121ef56",
   "metadata": {},
   "outputs": [],
   "source": []
  },
  {
   "cell_type": "code",
   "execution_count": 40,
   "id": "ed0e1cfd-ad4b-43ac-aee4-de7f91dcd02e",
   "metadata": {},
   "outputs": [
    {
     "name": "stdout",
     "output_type": "stream",
     "text": [
      "Updated set1: {1, 2, 3, 4, 5}\n"
     ]
    }
   ],
   "source": [
    "#Q20) . Update a set with elements from another set.\n",
    "\n",
    "\n",
    "#ANS - \n",
    "set1 = {1, 2, 3}\n",
    "set2 = {3, 4, 5}\n",
    "set1.update(set2)\n",
    "print(\"Updated set1:\", set1)\n"
   ]
  },
  {
   "cell_type": "code",
   "execution_count": null,
   "id": "aeeb99ef-ca32-470a-bb58-397f0e59466f",
   "metadata": {},
   "outputs": [],
   "source": []
  },
  {
   "cell_type": "code",
   "execution_count": 41,
   "id": "c309bead-b9a4-4a5a-803f-0574d0728202",
   "metadata": {},
   "outputs": [],
   "source": [
    "#Q21) Create a set of the first 5 prime numbers.\n",
    "\n",
    "#ANSS - \n",
    "prime_numbers_set = {2, 3, 5, 7, 11}\n"
   ]
  },
  {
   "cell_type": "code",
   "execution_count": null,
   "id": "7ddd76f7-bda2-4b69-9967-5726a29dc2fe",
   "metadata": {},
   "outputs": [],
   "source": []
  },
  {
   "cell_type": "code",
   "execution_count": 43,
   "id": "79f37dfb-7149-4f9f-9dad-b3202944ff7a",
   "metadata": {},
   "outputs": [
    {
     "name": "stdout",
     "output_type": "stream",
     "text": [
      "The sets are identical.\n"
     ]
    }
   ],
   "source": [
    "#Q22)0 . Check if two sets are identica\n",
    "\n",
    "#ANS -\n",
    "set1 = {1, 2, 3}\n",
    "set2 = {3, 2, 1}\n",
    "are_identical = set1 == set2\n",
    "\n",
    "if are_identical:\n",
    "    print(\"The sets are identical.\")\n",
    "else:\n",
    "    print(\"The sets are not identical.\")\n"
   ]
  },
  {
   "cell_type": "code",
   "execution_count": null,
   "id": "d00dd6d8-5a3e-43af-90c7-dfa0f51ae0df",
   "metadata": {},
   "outputs": [],
   "source": []
  },
  {
   "cell_type": "code",
   "execution_count": 45,
   "id": "d6134101-f0f9-47d6-8390-89a462e90fd2",
   "metadata": {},
   "outputs": [
    {
     "name": "stdout",
     "output_type": "stream",
     "text": [
      "Original set: {1, 2, 3, 4, 5}\n",
      "Frozen set: frozenset({1, 2, 3, 4, 5})\n"
     ]
    }
   ],
   "source": [
    "#Q23) Create a frozen set.\n",
    "\n",
    "#ANS =\n",
    "my_set = {1, 2, 3, 4, 5}\n",
    "my_frozen_set = frozenset(my_set)\n",
    "\n",
    "print(\"Original set:\", my_set)\n",
    "print(\"Frozen set:\", my_frozen_set)\n"
   ]
  },
  {
   "cell_type": "code",
   "execution_count": null,
   "id": "93b5fecd-8cb0-4054-bac9-4578bb7bec21",
   "metadata": {},
   "outputs": [],
   "source": []
  },
  {
   "cell_type": "code",
   "execution_count": 48,
   "id": "07cc2167-5987-4636-ae43-bc4e59033f49",
   "metadata": {},
   "outputs": [
    {
     "name": "stdout",
     "output_type": "stream",
     "text": [
      "Sets are disjoint (have no elements in common).\n"
     ]
    }
   ],
   "source": [
    "#Q24)/ Check if a set is disjoint with another set\n",
    "\n",
    "#ANS -\n",
    "set1 = {1, 2, 3}\n",
    "set2 = {4, 5, 6}\n",
    "are_disjoint = set1.isdisjoint(set2)\n",
    "\n",
    "if are_disjoint:\n",
    "    print(\"Sets are disjoint (have no elements in common).\")\n",
    "else:\n",
    "    print(\"Sets are not disjoint (have elements in common).\")\n"
   ]
  },
  {
   "cell_type": "code",
   "execution_count": null,
   "id": "09585f13-2825-4532-9c1e-8b4ceaf4ed84",
   "metadata": {},
   "outputs": [],
   "source": []
  },
  {
   "cell_type": "code",
   "execution_count": 49,
   "id": "5d8bd83f-bef7-46e4-b51a-3c6ec8b3e4c9",
   "metadata": {},
   "outputs": [],
   "source": [
    "#Q25) 5. Create a set of squares of numbers from 1 to 5\n",
    "\n",
    "#ANS - \n",
    "squares_set = {x**2 for x in range(1, 6)}\n"
   ]
  },
  {
   "cell_type": "code",
   "execution_count": null,
   "id": "ddaef8e3-e53d-437b-b71f-f047c1af32b9",
   "metadata": {},
   "outputs": [],
   "source": []
  },
  {
   "cell_type": "code",
   "execution_count": 51,
   "id": "d48a99ad-d53c-40f8-baa8-abe89dea3e00",
   "metadata": {},
   "outputs": [
    {
     "name": "stdout",
     "output_type": "stream",
     "text": [
      "Original set: {1, 2, 3, 4, 5, 6, 7, 8, 9, 10}\n",
      "Filtered set (odd numbers only): {1, 3, 5, 7, 9}\n"
     ]
    }
   ],
   "source": [
    "#Q26) Filter out all even numbers from a set\n",
    "\n",
    "#ANS -\n",
    "original_set = {1, 2, 3, 4, 5, 6, 7, 8, 9, 10}\n",
    "filtered_set = {x for x in original_set if x % 2 != 0}\n",
    "\n",
    "print(\"Original set:\", original_set)\n",
    "print(\"Filtered set (odd numbers only):\", filtered_set)\n"
   ]
  },
  {
   "cell_type": "code",
   "execution_count": null,
   "id": "ec7f5837-e6b3-48b7-9107-2d6ffbb3a7b0",
   "metadata": {},
   "outputs": [],
   "source": []
  },
  {
   "cell_type": "code",
   "execution_count": 53,
   "id": "aa274ba2-e66b-4a4a-bf90-055de6499431",
   "metadata": {},
   "outputs": [
    {
     "name": "stdout",
     "output_type": "stream",
     "text": [
      "Original set: {1, 2, 3, 4, 5}\n",
      "New set (elements multiplied by 2): {2, 4, 6, 8, 10}\n"
     ]
    }
   ],
   "source": [
    "#Q27)  Multiply all elements in a set by 2\n",
    "\n",
    "#ANS - \n",
    "original_set = {1, 2, 3, 4, 5}\n",
    "new_set = {x * 2 for x in original_set}\n",
    "\n",
    "print(\"Original set:\", original_set)\n",
    "print(\"New set (elements multiplied by 2):\", new_set)\n"
   ]
  },
  {
   "cell_type": "code",
   "execution_count": null,
   "id": "3cdd176e-d280-4eea-8977-a6235ff2c291",
   "metadata": {},
   "outputs": [],
   "source": []
  },
  {
   "cell_type": "code",
   "execution_count": 55,
   "id": "dae72c3f-a07d-40ac-bf16-89dd085760a8",
   "metadata": {},
   "outputs": [
    {
     "name": "stdout",
     "output_type": "stream",
     "text": [
      "Random set: {34, 38, 10, 45, 14}\n"
     ]
    }
   ],
   "source": [
    "#Q28) Create a set of random numbers\n",
    "\n",
    "#ANS - \n",
    "import random\n",
    "random_set = set(random.sample(range(1, 51), 5))\n",
    "\n",
    "print(\"Random set:\", random_set)\n"
   ]
  },
  {
   "cell_type": "code",
   "execution_count": null,
   "id": "c9fe79d9-0478-43fe-aa79-1ba488a4d6a1",
   "metadata": {},
   "outputs": [],
   "source": []
  },
  {
   "cell_type": "code",
   "execution_count": 57,
   "id": "72d50031-1a93-40e7-8d8e-4e2dec1f50dc",
   "metadata": {},
   "outputs": [
    {
     "name": "stdout",
     "output_type": "stream",
     "text": [
      "The set is empty.\n"
     ]
    }
   ],
   "source": [
    "#Q29)  Check if a set is empty.\n",
    "\n",
    "#ANS -\n",
    "my_set = set()\n",
    "if not my_set:\n",
    "    print(\"The set is empty.\")\n",
    "else:\n",
    "    print(\"The set is not empty.\")\n"
   ]
  },
  {
   "cell_type": "code",
   "execution_count": null,
   "id": "5d89f928-eac3-45ca-b4c2-93a5175cb83c",
   "metadata": {},
   "outputs": [],
   "source": []
  },
  {
   "cell_type": "code",
   "execution_count": 58,
   "id": "b028b791-840a-465e-8fe6-97b87436e860",
   "metadata": {},
   "outputs": [
    {
     "name": "stdout",
     "output_type": "stream",
     "text": [
      "Nested set: {frozenset({1, 2, 3}), frozenset({'a', 'c', 'b'})}\n"
     ]
    }
   ],
   "source": [
    "#Q30) Create a nested set (hint: use frozenset).\n",
    "\n",
    "#ANS -\n",
    "nested_set = {frozenset({1, 2, 3}), frozenset({'a', 'b', 'c'})}\n",
    "\n",
    "print(\"Nested set:\", nested_set)\n"
   ]
  },
  {
   "cell_type": "code",
   "execution_count": null,
   "id": "d71b3d2d-869f-4bcb-9dff-c9bd42f50d1c",
   "metadata": {},
   "outputs": [],
   "source": []
  },
  {
   "cell_type": "code",
   "execution_count": 60,
   "id": "760a8ba4-abfc-4581-8e5b-5f720bd2a8cd",
   "metadata": {},
   "outputs": [
    {
     "name": "stdout",
     "output_type": "stream",
     "text": [
      "Set after using discard: {1, 2, 4, 5}\n"
     ]
    }
   ],
   "source": [
    "#Q31)  Remove an element from a set using the discard method.\n",
    "\n",
    "#ANS - \n",
    "my_set = {1, 2, 3, 4, 5}\n",
    "my_set.discard(3)\n",
    "\n",
    "print(\"Set after using discard:\", my_set)\n"
   ]
  },
  {
   "cell_type": "code",
   "execution_count": null,
   "id": "04d4c545-84a5-4433-b35a-7a813ea5888d",
   "metadata": {},
   "outputs": [],
   "source": []
  },
  {
   "cell_type": "code",
   "execution_count": 62,
   "id": "d40adffa-1dca-4b96-a731-c547b5414bc5",
   "metadata": {},
   "outputs": [
    {
     "name": "stdout",
     "output_type": "stream",
     "text": [
      "Sets are disjoint (have no elements in common).\n"
     ]
    }
   ],
   "source": [
    "#Q32) 2. Compare two sets.\n",
    "\n",
    "#ANS -\n",
    "set1 = {1, 2, 3}\n",
    "set2 = {4, 5, 6}\n",
    "if set1.isdisjoint(set2):\n",
    "    print(\"Sets are disjoint (have no elements in common).\")\n",
    "else:\n",
    "    print(\"Sets are not disjoint (have elements in common).\")\n"
   ]
  },
  {
   "cell_type": "code",
   "execution_count": null,
   "id": "afec3828-6b8a-419e-84d9-dc1789eab679",
   "metadata": {},
   "outputs": [],
   "source": []
  },
  {
   "cell_type": "code",
   "execution_count": 64,
   "id": "321ea3bf-4dc4-4419-9cdf-5214cd8c453b",
   "metadata": {},
   "outputs": [
    {
     "name": "stdout",
     "output_type": "stream",
     "text": [
      "Set from string: {'h', 'e', 'l', 'o'}\n"
     ]
    }
   ],
   "source": [
    "#Q33) Create a set from a string.\n",
    "\n",
    "#ANS -\n",
    "my_string = \"hello\"\n",
    "my_set = set(my_string)\n",
    "\n",
    "print(\"Set from string:\", my_set)\n"
   ]
  },
  {
   "cell_type": "code",
   "execution_count": null,
   "id": "a321d7aa-6d08-4ffe-9e15-87b993d878a4",
   "metadata": {},
   "outputs": [],
   "source": []
  },
  {
   "cell_type": "code",
   "execution_count": 65,
   "id": "d1dd5d85-ba46-46ad-be11-9f770ba21d2c",
   "metadata": {},
   "outputs": [
    {
     "name": "stdout",
     "output_type": "stream",
     "text": [
      "Set of strings: {'1', '5', '2', '4', '3'}\n",
      "Set of integers: {1, 2, 3, 4, 5}\n"
     ]
    }
   ],
   "source": [
    "#Q34) Convert a set of strings to a set of integers.\n",
    "\n",
    "#ANS - \n",
    "set_of_strings = {\"1\", \"2\", \"3\", \"4\", \"5\"}\n",
    "set_of_integers = {int(x) for x in set_of_strings}\n",
    "\n",
    "print(\"Set of strings:\", set_of_strings)\n",
    "print(\"Set of integers:\", set_of_integers)\n"
   ]
  },
  {
   "cell_type": "code",
   "execution_count": null,
   "id": "ab9bedf6-c1c7-4ac3-b2d1-9bd0aaf152ab",
   "metadata": {},
   "outputs": [],
   "source": []
  },
  {
   "cell_type": "code",
   "execution_count": 67,
   "id": "5d52eeff-b9ea-44cc-a7a8-c53402696380",
   "metadata": {},
   "outputs": [
    {
     "name": "stdout",
     "output_type": "stream",
     "text": [
      "Set of integers: {1, 2, 3, 4, 5}\n",
      "Set of strings: {'2', '4', '1', '5', '3'}\n"
     ]
    }
   ],
   "source": [
    "#Q35) Convert a set of integers to a set of strings.\n",
    "\n",
    "#ANS -\n",
    "set_of_integers = {1, 2, 3, 4, 5}\n",
    "set_of_strings = {str(x) for x in set_of_integers}\n",
    "\n",
    "print(\"Set of integers:\", set_of_integers)\n",
    "print(\"Set of strings:\", set_of_strings)\n"
   ]
  },
  {
   "cell_type": "code",
   "execution_count": null,
   "id": "d7e405d7-9662-42c0-b942-c92b6a5f7b41",
   "metadata": {},
   "outputs": [],
   "source": []
  },
  {
   "cell_type": "code",
   "execution_count": 69,
   "id": "64a5427f-9a27-4508-8351-25b25df2734e",
   "metadata": {},
   "outputs": [
    {
     "name": "stdout",
     "output_type": "stream",
     "text": [
      "Set from tuple: {1, 2, 3, 4, 5}\n"
     ]
    }
   ],
   "source": [
    "#Q36) Create a set from a tuple.\n",
    "\n",
    "#ANS -\n",
    "my_tuple = (1, 2, 3, 4, 5)\n",
    "my_set = set(my_tuple)\n",
    "\n",
    "print(\"Set from tuple:\", my_set)\n",
    "\n"
   ]
  },
  {
   "cell_type": "code",
   "execution_count": null,
   "id": "15d8ef0f-a842-46e1-9951-3b72a18318d9",
   "metadata": {},
   "outputs": [],
   "source": []
  },
  {
   "cell_type": "code",
   "execution_count": 71,
   "id": "72f0e7f9-8233-494f-8f7a-adf46b41e0d7",
   "metadata": {},
   "outputs": [
    {
     "name": "stdout",
     "output_type": "stream",
     "text": [
      "Set: {1, 2, 3, 4, 5}\n",
      "Tuple from set: (1, 2, 3, 4, 5)\n"
     ]
    }
   ],
   "source": [
    "#Q37)  Convert a set to a tuple\n",
    "\n",
    "#ANS -\n",
    "my_set = {1, 2, 3, 4, 5}\n",
    "my_tuple = tuple(my_set)\n",
    "print(\"Set:\", my_set)\n",
    "print(\"Tuple from set:\", my_tuple)"
   ]
  },
  {
   "cell_type": "code",
   "execution_count": null,
   "id": "6b21d20c-7dbd-420c-b05a-a0f300fd0207",
   "metadata": {},
   "outputs": [],
   "source": []
  },
  {
   "cell_type": "code",
   "execution_count": 73,
   "id": "3be00069-8154-46c6-9469-2e203b747752",
   "metadata": {},
   "outputs": [
    {
     "ename": "IndentationError",
     "evalue": "unexpected indent (413485497.py, line 5)",
     "output_type": "error",
     "traceback": [
      "\u001b[1;36m  Cell \u001b[1;32mIn[73], line 5\u001b[1;36m\u001b[0m\n\u001b[1;33m    my_set = {3, 1, 4, 1, 5, 9, 2, 6, 5, 3, 5}\u001b[0m\n\u001b[1;37m    ^\u001b[0m\n\u001b[1;31mIndentationError\u001b[0m\u001b[1;31m:\u001b[0m unexpected indent\n"
     ]
    }
   ],
   "source": [
    "#Q38)  Find the maximum value in a set.\n",
    "\n",
    "\n",
    "#ANS - \n",
    " my_set = {3, 1, 4, 1, 5, 9, 2, 6, 5, 3, 5}\n",
    "\n",
    "# Find the maximum value in the set using max() function\n",
    "max_value = max(my_set)\n",
    "\n",
    "print(\"Set:\", my_set)\n",
    "print(\"Maximum value in the set:\", max_value)\n"
   ]
  },
  {
   "cell_type": "code",
   "execution_count": null,
   "id": "f42753f7-6589-4268-a74f-da48310588d2",
   "metadata": {},
   "outputs": [],
   "source": []
  },
  {
   "cell_type": "code",
   "execution_count": 75,
   "id": "f9fafb1e-efae-4ed0-b1a1-155d94d70b5f",
   "metadata": {},
   "outputs": [
    {
     "name": "stdout",
     "output_type": "stream",
     "text": [
      "Set: {1, 2, 3, 4, 5, 6, 9}\n",
      "Minimum value in the set: 1\n"
     ]
    }
   ],
   "source": [
    "#Q39) 9. Find the minimum value in a set.\n",
    "\n",
    "#ANS - \n",
    "my_set = {3, 1, 4, 1, 5, 9, 2, 6, 5, 3, 5}\n",
    "min_value = min(my_set)\n",
    "\n",
    "print(\"Set:\", my_set)\n",
    "print(\"Minimum value in the set:\", min_value)\n"
   ]
  },
  {
   "cell_type": "code",
   "execution_count": null,
   "id": "bc431b8d-fa36-4d78-85d4-d50cde1e7c70",
   "metadata": {},
   "outputs": [],
   "source": []
  },
  {
   "cell_type": "code",
   "execution_count": 79,
   "id": "13b60f0e-3b79-4849-838b-7fa0fc34f715",
   "metadata": {},
   "outputs": [
    {
     "name": "stdin",
     "output_type": "stream",
     "text": [
      "Enter elements separated by spaces:  hello im atin\n"
     ]
    },
    {
     "name": "stdout",
     "output_type": "stream",
     "text": [
      "Skipping invalid input: hello\n",
      "Skipping invalid input: im\n",
      "Skipping invalid input: atin\n",
      "User input as set: set()\n"
     ]
    }
   ],
   "source": [
    "#Q40) Create a set from user input.\n",
    "\n",
    "#ANS -\n",
    "\n",
    "user_input = input(\"Enter elements separated by spaces: \")\n",
    "input_list = user_input.split()\n",
    "\n",
    "\n",
    "user_set = set()\n",
    "\n",
    "for item in input_list:\n",
    "    try:\n",
    "    \n",
    "        user_set.add(int(item))\n",
    "    except ValueError:\n",
    "        print(f\"Skipping invalid input: {item}\")\n",
    "\n",
    "print(\"User input as set:\", user_set)\n"
   ]
  },
  {
   "cell_type": "code",
   "execution_count": null,
   "id": "64d8b3cf-538f-42b2-8518-7f23bd37184c",
   "metadata": {},
   "outputs": [],
   "source": []
  },
  {
   "cell_type": "code",
   "execution_count": 81,
   "id": "80a24f46-0f1f-4143-becd-7947d635b6ca",
   "metadata": {},
   "outputs": [
    {
     "name": "stdout",
     "output_type": "stream",
     "text": [
      "The intersection is empty.\n"
     ]
    }
   ],
   "source": [
    "#Q41) Check if the intersection of two sets is empty.\n",
    "\n",
    "#ANS -\n",
    "\n",
    "set1 = {1, 2, 3, 4, 5}\n",
    "set2 = {6, 7, 8, 9, 10}\n",
    "intersection_empty = set1.isdisjoint(set2)\n",
    "\n",
    "if intersection_empty:\n",
    "    print(\"The intersection is empty.\")\n",
    "else:\n",
    "    print(\"The sets have common elements.\")\n"
   ]
  },
  {
   "cell_type": "code",
   "execution_count": null,
   "id": "e7179a18-8a15-42ad-8a47-1df1e6e0d1df",
   "metadata": {},
   "outputs": [],
   "source": []
  },
  {
   "cell_type": "code",
   "execution_count": 83,
   "id": "5d28fc98-0595-476f-9818-f35d497fba30",
   "metadata": {},
   "outputs": [
    {
     "name": "stdout",
     "output_type": "stream",
     "text": [
      "Set of the first 5 Fibonacci numbers: {0, 1, 2, 3}\n"
     ]
    }
   ],
   "source": [
    "#Q42) Create a set of the first 5 Fibonacci numbers.\n",
    "\n",
    "#ANS -\n",
    "def generate_fibonacci(n):\n",
    "    fib_set = {0, 1}\n",
    "    a, b = 0, 1\n",
    "\n",
    "    for _ in range(n - 2):\n",
    "        a, b = b, a + b\n",
    "        fib_set.add(b)\n",
    "\n",
    "    return fib_set\n",
    "first_5_fibonacci = generate_fibonacci(5)\n",
    "\n",
    "print(\"Set of the first 5 Fibonacci numbers:\", first_5_fibonacci)\n"
   ]
  },
  {
   "cell_type": "code",
   "execution_count": null,
   "id": "e299833b-02ea-4ee2-8b9d-efe58b325032",
   "metadata": {},
   "outputs": [],
   "source": []
  },
  {
   "cell_type": "code",
   "execution_count": 85,
   "id": "e03cca02-4fb3-4664-b22d-a2c62f166b82",
   "metadata": {},
   "outputs": [
    {
     "name": "stdout",
     "output_type": "stream",
     "text": [
      "Original list: [1, 2, 3, 1, 4, 2, 5, 6, 3, 7]\n",
      "List with duplicates removed: [1, 2, 3, 4, 5, 6, 7]\n"
     ]
    }
   ],
   "source": [
    "#Q43) . Remove duplicates from a list using set\n",
    "#ANS -\n",
    "original_list = [1, 2, 3, 1, 4, 2, 5, 6, 3, 7]\n",
    "unique_list = list(set(original_list))\n",
    "\n",
    "print(\"Original list:\", original_list)\n",
    "print(\"List with duplicates removed:\", unique_list)\n"
   ]
  },
  {
   "cell_type": "code",
   "execution_count": null,
   "id": "564cbe66-8a0b-48f7-b415-f13ba294ee5a",
   "metadata": {},
   "outputs": [],
   "source": []
  },
  {
   "cell_type": "code",
   "execution_count": 87,
   "id": "db8936cb-ed54-4517-b22a-5c67a7cc69fe",
   "metadata": {},
   "outputs": [
    {
     "name": "stdout",
     "output_type": "stream",
     "text": [
      "The sets have the same elements.\n"
     ]
    }
   ],
   "source": [
    "#Q44) Check if two sets have the same elements, regardless of their count\n",
    "\n",
    "#ANS -\n",
    "set1 = {1, 2, 3, 4, 5}\n",
    "set2 = {5, 4, 3, 2, 1}\n",
    "if set1 == set2:\n",
    "    print(\"The sets have the same elements.\")\n",
    "else:\n",
    "    print(\"The sets do not have the same elements.\")\n"
   ]
  },
  {
   "cell_type": "code",
   "execution_count": null,
   "id": "4e2cf0bf-2fd1-44e0-a909-53831dbce721",
   "metadata": {},
   "outputs": [],
   "source": []
  },
  {
   "cell_type": "code",
   "execution_count": 91,
   "id": "6d20c7d7-6692-42d9-b3c8-dbc70daf231a",
   "metadata": {},
   "outputs": [
    {
     "name": "stdout",
     "output_type": "stream",
     "text": [
      "Set of the first 5 powers of 2: {1, 2, 4, 8, 16}\n"
     ]
    }
   ],
   "source": [
    "#Q45) Create a set of the first `n` powers of 2.\n",
    "\n",
    "#ANS - \n",
    "\n",
    "def generate_powers_of_2(n):\n",
    "    return {2**i for i in range(n)}\n",
    "\n",
    "n = 5\n",
    "powers_of_2_set = generate_powers_of_2(n)\n",
    "\n",
    "print(f\"Set of the first {n} powers of 2:\", powers_of_2_set)\n",
    "\n"
   ]
  },
  {
   "cell_type": "code",
   "execution_count": null,
   "id": "bee8ffe8-ec71-4330-9650-c91071693e39",
   "metadata": {},
   "outputs": [],
   "source": []
  },
  {
   "cell_type": "code",
   "execution_count": 93,
   "id": "be7df714-13e2-49f0-b5a0-4be234f968af",
   "metadata": {},
   "outputs": [
    {
     "name": "stdout",
     "output_type": "stream",
     "text": [
      "Set: {1, 2, 3, 4, 5}\n",
      "List: [3, 4, 5, 6, 7]\n",
      "Common elements (using intersection()): {3, 4, 5}\n",
      "Common elements (using & operator): {3, 4, 5}\n"
     ]
    }
   ],
   "source": [
    "#Q46) Find the common elements between a set and a list\n",
    "\n",
    "#ANS -\n",
    "my_set = {1, 2, 3, 4, 5}\n",
    "my_list = [3, 4, 5, 6, 7]\n",
    "common_elements_method = my_set.intersection(my_list)\n",
    "common_elements_operator = my_set & set(my_list)\n",
    "\n",
    "print(\"Set:\", my_set)\n",
    "print(\"List:\", my_list)\n",
    "print(\"Common elements (using intersection()):\", common_elements_method)\n",
    "print(\"Common elements (using & operator):\", common_elements_operator)\n"
   ]
  },
  {
   "cell_type": "code",
   "execution_count": null,
   "id": "547443ea-bfc8-4be7-89ff-f2a73076d41d",
   "metadata": {},
   "outputs": [],
   "source": []
  },
  {
   "cell_type": "code",
   "execution_count": 95,
   "id": "aae63933-9dd7-40f2-9576-fbc4693d4d63",
   "metadata": {},
   "outputs": [
    {
     "name": "stdout",
     "output_type": "stream",
     "text": [
      "Set of the first 5 triangular numbers: {1, 3, 6, 10, 15}\n"
     ]
    }
   ],
   "source": [
    "#Q47) Create a set of the first `n` triangular numbers.\n",
    "\n",
    "#ANS -\n",
    "def generate_triangular_numbers(n):\n",
    "    return {i * (i + 1) // 2 for i in range(1, n + 1)}\n",
    "\n",
    "n = 5\n",
    "triangular_numbers_set = generate_triangular_numbers(n)\n",
    "\n",
    "print(f\"Set of the first {n} triangular numbers:\", triangular_numbers_set)\n"
   ]
  },
  {
   "cell_type": "code",
   "execution_count": null,
   "id": "d8f58e35-fb46-4698-aa0e-c69fab98b823",
   "metadata": {},
   "outputs": [],
   "source": []
  },
  {
   "cell_type": "code",
   "execution_count": 97,
   "id": "50da9862-7b02-4144-80cd-529e99f9ef44",
   "metadata": {},
   "outputs": [
    {
     "name": "stdout",
     "output_type": "stream",
     "text": [
      "Set 1: {1, 2, 3, 4, 5}\n",
      "Set 2: {2, 4}\n",
      "Is set2 a subset of set1 (using issubset()): True\n",
      "Is set2 a subset of set1 (using <= operator): True\n"
     ]
    }
   ],
   "source": [
    "#Q48) Check if a set contains another set as a subset.\n",
    "\n",
    "#ANS -\n",
    "set1 = {1, 2, 3, 4, 5}\n",
    "set2 = {2, 4}\n",
    "is_subset_method = set2.issubset(set1)\n",
    "\n",
    "is_subset_operator = set2 <= set1\n",
    "\n",
    "print(\"Set 1:\", set1)\n",
    "print(\"Set 2:\", set2)\n",
    "print(\"Is set2 a subset of set1 (using issubset()):\", is_subset_method)\n",
    "print(\"Is set2 a subset of set1 (using <= operator):\", is_subset_operator)\n"
   ]
  },
  {
   "cell_type": "code",
   "execution_count": null,
   "id": "e7400b50-4ed7-4546-8322-887da330edec",
   "metadata": {},
   "outputs": [],
   "source": []
  },
  {
   "cell_type": "code",
   "execution_count": 99,
   "id": "73d7dce8-9e32-4c75-bd9c-e7dd0e7b621a",
   "metadata": {},
   "outputs": [
    {
     "name": "stdout",
     "output_type": "stream",
     "text": [
      "Set of alternating 1s and 0s of length 5: {0, 1}\n"
     ]
    }
   ],
   "source": [
    "#Q49)  Create a set of alternating 1s and 0s of length `n`\n",
    "\n",
    "#ANS -\n",
    "def generate_alternating_set(n):\n",
    "    return {1 if i % 2 == 0 else 0 for i in range(n)}\n",
    "\n",
    "n = 5\n",
    "alternating_set = generate_alternating_set(n)\n",
    "\n",
    "print(f\"Set of alternating 1s and 0s of length {n}:\", alternating_set)\n"
   ]
  },
  {
   "cell_type": "code",
   "execution_count": null,
   "id": "ee5abb69-24ed-42e6-b3a4-0d4cef72d014",
   "metadata": {},
   "outputs": [],
   "source": []
  },
  {
   "cell_type": "code",
   "execution_count": 101,
   "id": "a862cc7c-a865-47c0-8998-f37b74828550",
   "metadata": {},
   "outputs": [
    {
     "name": "stdout",
     "output_type": "stream",
     "text": [
      "Set 1: {1, 2, 3}\n",
      "Set 2: {3, 4, 5}\n",
      "Set 3: {5, 6, 7}\n",
      "Merged set (using union()): {1, 2, 3, 4, 5, 6, 7}\n",
      "Merged set (using | operator): {1, 2, 3, 4, 5, 6, 7}\n"
     ]
    }
   ],
   "source": [
    "#Q50)  Merge multiple sets into one.\n",
    "\n",
    "#ANS - \n",
    "set1 = {1, 2, 3}\n",
    "set2 = {3, 4, 5}\n",
    "set3 = {5, 6, 7}\n",
    "\n",
    "merged_set_method = set1.union(set2, set3)\n",
    "\n",
    "merged_set_operator = set1 | set2 | set3\n",
    "\n",
    "print(\"Set 1:\", set1)\n",
    "print(\"Set 2:\", set2)\n",
    "print(\"Set 3:\", set3)\n",
    "print(\"Merged set (using union()):\", merged_set_method)\n",
    "print(\"Merged set (using | operator):\", merged_set_operator)\n"
   ]
  },
  {
   "cell_type": "code",
   "execution_count": null,
   "id": "fb26d36c-511e-45bb-99c6-6bbb6e883a8e",
   "metadata": {},
   "outputs": [],
   "source": []
  },
  {
   "cell_type": "code",
   "execution_count": 102,
   "id": "77b9b131-5af8-4d3f-af61-c790da22e062",
   "metadata": {},
   "outputs": [],
   "source": [
    "                                        #completed ! "
   ]
  },
  {
   "cell_type": "code",
   "execution_count": null,
   "id": "d1cc0264-4855-4f85-a669-e20eff0cec01",
   "metadata": {},
   "outputs": [],
   "source": []
  }
 ],
 "metadata": {
  "kernelspec": {
   "display_name": "Python 3 (ipykernel)",
   "language": "python",
   "name": "python3"
  },
  "language_info": {
   "codemirror_mode": {
    "name": "ipython",
    "version": 3
   },
   "file_extension": ".py",
   "mimetype": "text/x-python",
   "name": "python",
   "nbconvert_exporter": "python",
   "pygments_lexer": "ipython3",
   "version": "3.12.0"
  }
 },
 "nbformat": 4,
 "nbformat_minor": 5
}
